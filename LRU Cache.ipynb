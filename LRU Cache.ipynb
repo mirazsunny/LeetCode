{
 "cells": [
  {
   "cell_type": "code",
   "execution_count": 11,
   "metadata": {},
   "outputs": [],
   "source": [
    "from collections import deque        \n",
    "class LRUCache:\n",
    "\n",
    "    def __init__(self, capacity: int):\n",
    "        self.q=deque()\n",
    "        self.capacity=capacity\n",
    "        self.lookupDict={}\n",
    "        \n",
    "    def get(self, key: int) -> int:\n",
    "        if key not in self.lookupDict:\n",
    "            return -1\n",
    "        self.q.remove(key)\n",
    "        self.q.extendleft([key])\n",
    "        return self.lookupDict[key]\n",
    "        \n",
    "    def put(self, key: int, value: int) -> None:\n",
    "        if key in self.lookupDict:\n",
    "            self.q.remove(key)\n",
    "            self.capacity+=1\n",
    "        if self.capacity==0:\n",
    "            delete=self.q.pop()\n",
    "            self.lookupDict.pop(delete)\n",
    "        else:\n",
    "            self.capacity-=1\n",
    "        self.q.extendleft([key])\n",
    "        self.lookupDict[key]=value\n",
    "\n",
    "# Your LRUCache object will be instantiated and called as such:\n",
    "# obj = LRUCache(capacity)\n",
    "# param_1 = obj.get(key)\n",
    "# obj.put(key,value)"
   ]
  },
  {
   "cell_type": "code",
   "execution_count": 10,
   "metadata": {},
   "outputs": [
    {
     "name": "stdout",
     "output_type": "stream",
     "text": [
      "{2: 3, 4: 5, 6: 7}\n"
     ]
    }
   ],
   "source": [
    "p=LRUCache(3)\n",
    "p.put(1,2)\n",
    "p.put(2,3)\n",
    "p.put(4,5)\n",
    "p.get(2)\n",
    "p.put(6,7)\n",
    "print(p.lookupDict)"
   ]
  },
  {
   "cell_type": "code",
   "execution_count": null,
   "metadata": {},
   "outputs": [],
   "source": []
  }
 ],
 "metadata": {
  "kernelspec": {
   "display_name": "Python 3",
   "language": "python",
   "name": "python3"
  },
  "language_info": {
   "codemirror_mode": {
    "name": "ipython",
    "version": 3
   },
   "file_extension": ".py",
   "mimetype": "text/x-python",
   "name": "python",
   "nbconvert_exporter": "python",
   "pygments_lexer": "ipython3",
   "version": "3.7.3"
  }
 },
 "nbformat": 4,
 "nbformat_minor": 2
}
