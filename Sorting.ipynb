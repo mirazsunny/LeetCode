{
 "cells": [
  {
   "cell_type": "markdown",
   "metadata": {},
   "source": [
    "# Topological order (sort)\n",
    "## Graph sort (DFS): Graphs are stored in adjacency list"
   ]
  },
  {
   "cell_type": "code",
   "execution_count": 45,
   "metadata": {},
   "outputs": [],
   "source": [
    "# There will be two list one is to store the order of the node (Sort) and another for the store the visited list\n",
    "def TopologicalSort(g,N):\n",
    "    Visited=[False]*N\n",
    "    Ordering=[-1]*N\n",
    "    i=N-1\n",
    "    for node in range(N):\n",
    "        if not Visited[node]:\n",
    "            Visited_Node=dfs(node,[],Visited,g)\n",
    "            for n in Visited_Node:\n",
    "                Ordering[i]=n\n",
    "                i-=1\n",
    "    return Ordering\n",
    "\n",
    "def dfs(node,CurrentVisited,Visited,graph):\n",
    "    print(Visited)\n",
    "    Visited[node]=True\n",
    "    for n in graph[node]:\n",
    "        if not Visited[n]:\n",
    "            dfs(n,CurrentVisited,Visited,graph)\n",
    "    CurrentVisited+=[node]\n",
    "    return CurrentVisited  "
   ]
  },
  {
   "cell_type": "code",
   "execution_count": 50,
   "metadata": {},
   "outputs": [
    {
     "name": "stdout",
     "output_type": "stream",
     "text": [
      "[False, False, False, False, False, False, False]\n",
      "[True, False, False, False, False, False, False]\n",
      "[True, False, False, True, False, False, False]\n",
      "[True, False, False, True, False, True, False]\n",
      "[True, False, False, True, False, True, True]\n",
      "[True, True, False, True, False, True, True]\n",
      "[True, True, False, True, True, True, True]\n"
     ]
    },
    {
     "data": {
      "text/plain": [
       "[2, 1, 4, 0, 3, 5, 6]"
      ]
     },
     "execution_count": 50,
     "metadata": {},
     "output_type": "execute_result"
    }
   ],
   "source": [
    "graph={6:[],0:[2],1:[2,4],2:[3],3:[5],4:[5],5:[6]}\n",
    "TopologicalSort(graph,7)"
   ]
  },
  {
   "cell_type": "markdown",
   "metadata": {},
   "source": [
    "# If a directed graph does not have a cycle then the graph can be topologically sorted.\n",
    "## DAG(Direct Acyclic Graph) = Topological sorted\n",
    "\n",
    "# Question\n",
    "[207. Course Schedule](https://leetcode.com/problems/course-schedule/)"
   ]
  },
  {
   "cell_type": "code",
   "execution_count": 67,
   "metadata": {},
   "outputs": [],
   "source": [
    "# There will be two list one is to store the order of the node (Sort) and another for the store the visited list\n",
    "def TopologicalSort(g,N):\n",
    "    visited=[0 for _ in range(N)] # create a list with all the node \n",
    "    graph=[[] for _ in range(N)] # Converting into the graph\n",
    "    for x in g:\n",
    "        graph[x[0]]+=[x[1]]\n",
    "    for node in range(N): # go to all the node for depth first searching\n",
    "        if not dfs(node,visited,graph):\n",
    "            return False\n",
    "    return True\n",
    "\n",
    "def dfs(node,visited,graph):\n",
    "    # If the node is already visited in the cycle then return false\n",
    "    if visited[node]==-1:\n",
    "        return False\n",
    "    # If node is visited previously then return True\n",
    "    if visited[node]==1:\n",
    "        return True\n",
    "    # Marked the node as visited\n",
    "    visited[node]=-1\n",
    "    for n in graph[node]:\n",
    "        if not dfs(n,visited,graph):\n",
    "            return False\n",
    "    # Visiting all the neighbors then flip into positive\n",
    "    visited[node]=1\n",
    "    return True"
   ]
  },
  {
   "cell_type": "code",
   "execution_count": 66,
   "metadata": {},
   "outputs": [
    {
     "name": "stdout",
     "output_type": "stream",
     "text": [
      "[0, 0]\n",
      "[-1, 0]\n",
      "[-1, -1]\n"
     ]
    },
    {
     "data": {
      "text/plain": [
       "False"
      ]
     },
     "execution_count": 66,
     "metadata": {},
     "output_type": "execute_result"
    }
   ],
   "source": [
    "TopologicalSort([[1,0],[0,1]],2)"
   ]
  },
  {
   "cell_type": "markdown",
   "metadata": {},
   "source": [
    "# For directed acyclic graph using dfs finding topological sort"
   ]
  },
  {
   "cell_type": "markdown",
   "metadata": {},
   "source": [
    "# Question\n",
    "[210. Course Schedule II](https://leetcode.com/problems/course-schedule-ii/)\n",
    "\n",
    "## Plan (Using DFS)"
   ]
  },
  {
   "cell_type": "code",
   "execution_count": 1,
   "metadata": {},
   "outputs": [],
   "source": [
    "# There will be three state for all the node, 0: Not Visited, 1: Visited, -1: Not visited\n",
    "def findOrder(numCourses, prerequisites):\n",
    "    visited=[0 for i in range(numCourses)] # Create an array of the node to keep track of whether a node is visited or not\n",
    "    Order=[0 for i in range(numCourses)] # Order of the course\n",
    "    graph=[[] for i in range(numCourses)] # Make an adjacecy list from the prerequisites\n",
    "    for x in prerequisites: # Convert the prerequisites into an adjacency list\n",
    "        graph[x[0]]+=[x[1]]\n",
    "    N=numCourses-1 # To insert the course in the order list\n",
    "    for node in range(numCourses): # Go to each node\n",
    "        Suborder=[] # To load the order in each depth first search create an empty list (like bucket)\n",
    "        cycle=dfs(node,visited,Suborder,graph) # From the depth first search find whether there is cycle or not\n",
    "        if cycle:\n",
    "            return []\n",
    "        for NodeCourse in Suborder: # Load the order list from the suborder\n",
    "            Order[N]=NodeCourse\n",
    "            N-=1\n",
    "    return Order\n",
    "\n",
    "def dfs(node,visited,Suborder,graph):\n",
    "    if visited[node]==-1: # A cycle is detected\n",
    "        return True\n",
    "    if visited[node]==1: # Node is previously visited\n",
    "        return False\n",
    "    visited[node]=-1\n",
    "    for n in(graph[node]):\n",
    "        if dfs(n,visited,Suborder,graph): # cycle detected\n",
    "            return True\n",
    "    Suborder+=[node] # Load the suborder list\n",
    "    visited[node]=1 # Mark all the node as visited\n",
    "    return False\n",
    "    "
   ]
  },
  {
   "cell_type": "code",
   "execution_count": null,
   "metadata": {},
   "outputs": [],
   "source": [
    "7\n",
    "[[0,2],[1,2],[1,4],[2,3],[3,5],[4,5],[5,6]]"
   ]
  },
  {
   "cell_type": "markdown",
   "metadata": {},
   "source": [
    "# Topological Sort using Bredth first search"
   ]
  },
  {
   "cell_type": "code",
   "execution_count": 2,
   "metadata": {},
   "outputs": [],
   "source": [
    "def findOrder(numCourses, prerequisites):\n",
    "    graphAdjacency,inDegree=[[] for _ in range(numCourses)],{}\n",
    "    TopSort=[]\n",
    "    for course,preq in prerequisites:\n",
    "        graphAdjacency[course]+=[preq]\n",
    "        inDegree[preq]=inDegree.get(preq,0)+1\n",
    "    ZeroInDegree=[k for k in range(numCourses) if k not in inDegree]\n",
    "    while ZeroInDegree:\n",
    "        Node=ZeroInDegree.pop()\n",
    "        TopSort+=[Node]\n",
    "        for n in graphAdjacency[Node]:\n",
    "            inDegree[n]-=1\n",
    "            if inDegree[n]==0:\n",
    "                ZeroInDegree+=[n]\n",
    "    return TopSort[::-1] if numCourses==len(TopSort) else []"
   ]
  },
  {
   "cell_type": "code",
   "execution_count": 3,
   "metadata": {},
   "outputs": [
    {
     "data": {
      "text/plain": [
       "[6, 5, 3, 2, 0, 4, 1]"
      ]
     },
     "execution_count": 3,
     "metadata": {},
     "output_type": "execute_result"
    }
   ],
   "source": [
    "findOrder(7,[[0,2],[1,2],[1,4],[2,3],[3,5],[4,5],[5,6]])"
   ]
  },
  {
   "cell_type": "markdown",
   "metadata": {},
   "source": [
    "# Question\n",
    "[75.Sort Colors](https://leetcode.com/problems/sort-colors/)\n",
    "\n",
    "## Plan 1 \n",
    "1. Using insertion sort"
   ]
  },
  {
   "cell_type": "code",
   "execution_count": 4,
   "metadata": {},
   "outputs": [],
   "source": [
    "def sortColors(nums):\n",
    "    for i in range(1,len(nums)):\n",
    "        if nums[i]<nums[i-1]:\n",
    "            j=i\n",
    "            while j>0 and nums[j]<nums[j-1]:\n",
    "                nums[j],nums[j-1]=nums[j-1],nums[j]\n",
    "                j-=1\n",
    "    return nums"
   ]
  },
  {
   "cell_type": "code",
   "execution_count": 6,
   "metadata": {},
   "outputs": [
    {
     "data": {
      "text/plain": [
       "[0, 2]"
      ]
     },
     "execution_count": 6,
     "metadata": {},
     "output_type": "execute_result"
    }
   ],
   "source": [
    "sortColors([2,0])"
   ]
  },
  {
   "cell_type": "code",
   "execution_count": null,
   "metadata": {},
   "outputs": [],
   "source": []
  }
 ],
 "metadata": {
  "kernelspec": {
   "display_name": "Python 3",
   "language": "python",
   "name": "python3"
  },
  "language_info": {
   "codemirror_mode": {
    "name": "ipython",
    "version": 3
   },
   "file_extension": ".py",
   "mimetype": "text/x-python",
   "name": "python",
   "nbconvert_exporter": "python",
   "pygments_lexer": "ipython3",
   "version": "3.7.3"
  }
 },
 "nbformat": 4,
 "nbformat_minor": 2
}
