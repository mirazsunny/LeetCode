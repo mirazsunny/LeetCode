{
 "cells": [
  {
   "cell_type": "markdown",
   "metadata": {},
   "source": [
    "# Divide and Conquer sorting tchniques\n",
    "## Quick Sort (Sort $A[p..r]$)\n",
    "**Divide:** Partition the array into two subarray $A[p..q-1]$ and $A[q+1..r]$ such that each element of $A[p..q-1]$ is less than or equal to $A[q]$ which in turn less than or equal to each element of $A[q+1..r]$. Compute the $q$ as part of the partitioning procedure.\n",
    "\n",
    "**Conquer:** Sort the two subarrays $A[p..q-1]$ and $A[q+1..r]$ by recursive calls.\n",
    "\n",
    "**Combine:** As the two subarray are alreay sorted no extra work needed"
   ]
  },
  {
   "cell_type": "code",
   "execution_count": 1,
   "metadata": {},
   "outputs": [],
   "source": [
    "def partition(A,low,high):\n",
    "    x=A[high] #Pivot Element\n",
    "    i=low-1 #Index of Lower Element\n",
    "    for j in range(low,high):\n",
    "        if A[j]<x:\n",
    "            i+=1\n",
    "            A[j],A[i]=A[i],A[j] # Swap ith and jth element\n",
    "    A[high],A[i+1]=A[i+1],A[high] # Place the pivot element\n",
    "    return i+1\n",
    "\n",
    "def quicksort(A,low,high):\n",
    "    if low<high:\n",
    "        pi=partition(A,low,high) # Find the place for the partition\n",
    "        # Recursively sort before the partition and after the partition\n",
    "        quicksort(A,low,pi-1)\n",
    "        quicksort(A,pi+1,high)\n",
    "    return A  "
   ]
  },
  {
   "cell_type": "code",
   "execution_count": 2,
   "metadata": {},
   "outputs": [
    {
     "data": {
      "text/plain": [
       "[-1, 0, 1, 2, 5, 6]"
      ]
     },
     "execution_count": 2,
     "metadata": {},
     "output_type": "execute_result"
    }
   ],
   "source": [
    "Arr=[5,6,1,2,-1,0]\n",
    "low,high=0,len(Arr)-1\n",
    "quicksort(Arr,low,high)"
   ]
  },
  {
   "cell_type": "markdown",
   "metadata": {},
   "source": [
    "## Merge Sort\n",
    "\n",
    "**Divide:** Divide the $n$-element sequence into two halves of $n/2$ elements\n",
    "\n",
    "**Conquer:** Sort the two halves recursively using merge sort\n",
    "\n",
    "**Combine:** Merge the two sorted halves"
   ]
  },
  {
   "cell_type": "code",
   "execution_count": 56,
   "metadata": {},
   "outputs": [],
   "source": [
    "def merge(A,p,r): # Array p is the low and q is the high one\n",
    "    if p<r:\n",
    "        q=(p+r)//2 # Divide the array into two half\n",
    "        print(q)\n",
    "        merge(A,p,q) # Sort the first half recursively\n",
    "        merge(A,q+1,r) # Sort the second half recursively\n",
    "        merge_sort(A,p,q,r) # Merge the sorted array\n",
    "    return A\n",
    "\n",
    "def merge_sort(A,p,q,r):\n",
    "    left=A[p:q+1] # Left half from p to q\n",
    "    right=A[q+1:r+1] # Right half starts from q+1 to r\n",
    "    print(left,right)\n",
    "    i,j=0,0\n",
    "    for k in range(p,r):\n",
    "        if left[i]<=right[j]:\n",
    "            A[k]=left[i]\n",
    "            i+=1\n",
    "        else:\n",
    "            A[k]=right[j]\n",
    "            j+=1"
   ]
  },
  {
   "cell_type": "code",
   "execution_count": 58,
   "metadata": {},
   "outputs": [
    {
     "name": "stdout",
     "output_type": "stream",
     "text": [
      "1\n",
      "0\n",
      "[1] [2]\n",
      "2\n",
      "[-1] [5]\n",
      "[1, 2] [-1, 5]\n"
     ]
    },
    {
     "data": {
      "text/plain": [
       "[-1, 1, 2, 5]"
      ]
     },
     "execution_count": 58,
     "metadata": {},
     "output_type": "execute_result"
    }
   ],
   "source": [
    "A=[1,2,-1,5]\n",
    "merge(A,0,len(A)-1)"
   ]
  },
  {
   "cell_type": "markdown",
   "metadata": {},
   "source": [
    "# Question\n",
    "[75.Sort Colors](https://leetcode.com/problems/sort-colors/)\n",
    "\n",
    "## Plan 1 \n",
    "1. "
   ]
  },
  {
   "cell_type": "code",
   "execution_count": 4,
   "metadata": {},
   "outputs": [],
   "source": [
    "def sortColors(nums):\n",
    "    for i in range(1,len(nums)):\n",
    "        if nums[i]<nums[i-1]:\n",
    "            j=i\n",
    "            while j>0 and nums[j]<nums[j-1]:\n",
    "                nums[j],nums[j-1]=nums[j-1],nums[j]\n",
    "                j-=1\n",
    "    return nums"
   ]
  },
  {
   "cell_type": "code",
   "execution_count": 6,
   "metadata": {},
   "outputs": [
    {
     "data": {
      "text/plain": [
       "[0, 2]"
      ]
     },
     "execution_count": 6,
     "metadata": {},
     "output_type": "execute_result"
    }
   ],
   "source": [
    "sortColors([2,0])"
   ]
  },
  {
   "cell_type": "code",
   "execution_count": null,
   "metadata": {},
   "outputs": [],
   "source": []
  }
 ],
 "metadata": {
  "kernelspec": {
   "display_name": "Python 3",
   "language": "python",
   "name": "python3"
  },
  "language_info": {
   "codemirror_mode": {
    "name": "ipython",
    "version": 3
   },
   "file_extension": ".py",
   "mimetype": "text/x-python",
   "name": "python",
   "nbconvert_exporter": "python",
   "pygments_lexer": "ipython3",
   "version": "3.7.3"
  }
 },
 "nbformat": 4,
 "nbformat_minor": 2
}
