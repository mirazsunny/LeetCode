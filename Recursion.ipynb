{
 "cells": [
  {
   "cell_type": "markdown",
   "metadata": {},
   "source": [
    "# Question\n",
    "[39.Combination Sum](https://leetcode.com/problems/combination-sum/)\n",
    "\n",
    "## Plan\n",
    "- As the candidates are given in set and unique so the whole set is incrementally sorted\n",
    "- In each recursion set value is stored, if sum of the stored value is greater than target then return\n",
    "- If the sum of the stored value is equal to the target, append Store in Result"
   ]
  },
  {
   "cell_type": "code",
   "execution_count": null,
   "metadata": {},
   "outputs": [],
   "source": [
    "def combinationSum(candidates,target,Store=[],j=0,Result=[]):\n",
    "    if sum(Store)==target:\n",
    "        Result+=[Store]\n",
    "    elif sum(Store)>target:\n",
    "        return\n",
    "    else:\n",
    "        for i in range(j,len(candidates)):\n",
    "            #print(j,Store)\n",
    "            if j<len(candidates):\n",
    "                combinationSum(candidates,target,Store+[candidates[i]],j=i)\n",
    "    return Result"
   ]
  },
  {
   "cell_type": "code",
   "execution_count": null,
   "metadata": {},
   "outputs": [],
   "source": [
    "candidates=[2,3,6,7]\n",
    "target=7\n",
    "combinationSum(candidates,target)"
   ]
  },
  {
   "cell_type": "markdown",
   "metadata": {},
   "source": [
    "# Question\n",
    "[40.Combination Sum II](https://leetcode.com/problems/combination-sum-ii/)\n",
    "\n",
    "## Plan\n",
    "- We need to sort the candidate elements\n",
    "- In each recursion set value is stored, if sum of the stored value is greater than target then return\n",
    "- If the sum of the stored value is equal to the target, append Store in Result"
   ]
  },
  {
   "cell_type": "code",
   "execution_count": null,
   "metadata": {},
   "outputs": [],
   "source": [
    "def combinationSumII(candidates,target,Store=[],j=0):\n",
    "    if sum(Store)==target:\n",
    "        return [Store]\n",
    "    elif sum(Store)>target:\n",
    "        return []\n",
    "    else:\n",
    "        Result=[]\n",
    "        visited=j\n",
    "        for i in range(j,len(candidates)):\n",
    "            if i>visited and candidates[i]==candidates[i-1]:\n",
    "                pass\n",
    "            else:\n",
    "                Result+=combinationSumII(candidates,target,Store+[candidates[i]],j=i+1)\n",
    "    return Result"
   ]
  },
  {
   "cell_type": "code",
   "execution_count": null,
   "metadata": {},
   "outputs": [],
   "source": [
    "candidates=[10,1,2,7,6,1,5]\n",
    "target=8\n",
    "combinationSumII(sorted(candidates),target)"
   ]
  },
  {
   "cell_type": "code",
   "execution_count": null,
   "metadata": {},
   "outputs": [],
   "source": [
    "[i for i in range(6,5)]"
   ]
  },
  {
   "cell_type": "markdown",
   "metadata": {},
   "source": [
    "# Question\n",
    "[55.Jump Game](https://leetcode.com/problems/jump-game/)\n",
    "\n",
    "## Plan (72/75 test cases passed)\n",
    "- Recursively track the each position, if jumping position is less than then return false"
   ]
  },
  {
   "cell_type": "code",
   "execution_count": 6,
   "metadata": {},
   "outputs": [],
   "source": [
    "def canJump(nums,start,r):\n",
    "    if r[start]!=0:\n",
    "        return r[start]\n",
    "    elif start==len(nums)-1:\n",
    "        return True\n",
    "    elif start>len(nums)-1:\n",
    "        return False\n",
    "    elif nums[start]==0:\n",
    "        r[start]=False\n",
    "        return False\n",
    "    else:\n",
    "        q=False\n",
    "        for i in range(start+1,start+nums[start]+1):\n",
    "            q=q or canJump(nums,i,r)\n",
    "            if q==True:\n",
    "                return True\n",
    "        r[start]=q\n",
    "    return q"
   ]
  },
  {
   "cell_type": "markdown",
   "metadata": {},
   "source": [
    "## Plan 2\n",
    "- In each jumping point track the maximum jumping length upto that point if maximum jumping is less than the current point, return False\n",
    "- If jumping is greater than the destination number then return True\n",
    "- At the end it will return True"
   ]
  },
  {
   "cell_type": "code",
   "execution_count": 21,
   "metadata": {},
   "outputs": [],
   "source": [
    "def canJumpII(nums):\n",
    "    Max_Jump=0 #initialization of Max Jump\n",
    "    Destination=len(nums) # Reaching point\n",
    "    for i in range(len(nums)-1): #iterating to the each position\n",
    "        Max_Jump=max(Max_Jump,i+nums[i]) #finding the max_jump on each postion\n",
    "        if i+1>Max_Jump: # jump is less then Max_Jump return False\n",
    "            return False\n",
    "        elif Max_Jump>=Destination: # if greater or equal to destination return True\n",
    "            return True\n",
    "        else:\n",
    "            pass #otherwise pass\n",
    "    return True"
   ]
  },
  {
   "cell_type": "code",
   "execution_count": 23,
   "metadata": {},
   "outputs": [
    {
     "data": {
      "text/plain": [
       "False"
      ]
     },
     "execution_count": 23,
     "metadata": {},
     "output_type": "execute_result"
    }
   ],
   "source": [
    "canJumpII([2,0,6,9,8,4,5,0,8,9,1,2,9,6,8,8,0,6,3,1,2,2,1,2,6,5,3,1,2,2,6,4,2,4,3,0,0,0,3,8,2,4,0,1,2,0,1,4,6,5,8,0,7,9,3,4,6,6,5,8,9,3,4,3,7,0,4,9,0,9,8,4,3,0,7,7,1,9,1,9,4,9,0,1,9,5,7,7,1,5,8,2,8,2,6,8,2,2,7,5,1,7,9,6])"
   ]
  },
  {
   "cell_type": "code",
   "execution_count": null,
   "metadata": {},
   "outputs": [],
   "source": []
  }
 ],
 "metadata": {
  "kernelspec": {
   "display_name": "Python 3",
   "language": "python",
   "name": "python3"
  },
  "language_info": {
   "codemirror_mode": {
    "name": "ipython",
    "version": 3
   },
   "file_extension": ".py",
   "mimetype": "text/x-python",
   "name": "python",
   "nbconvert_exporter": "python",
   "pygments_lexer": "ipython3",
   "version": "3.7.3"
  }
 },
 "nbformat": 4,
 "nbformat_minor": 2
}
