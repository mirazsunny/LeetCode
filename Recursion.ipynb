{
 "cells": [
  {
   "cell_type": "markdown",
   "metadata": {},
   "source": [
    "# Question\n",
    "[39.Combination Sum](https://leetcode.com/problems/combination-sum/)\n",
    "\n",
    "## Plan\n",
    "- As the candidates are given in set and unique so the whole set is incrementally sorted\n",
    "- In each recursion set value is stored, if sum of the stored value is greater than target then return\n",
    "- If the sum of the stored value is equal to the target, append Store in Result"
   ]
  },
  {
   "cell_type": "code",
   "execution_count": 17,
   "metadata": {},
   "outputs": [],
   "source": [
    "def combinationSum(candidates,target,Store=[],j=0,Result=[]):\n",
    "    if sum(Store)==target:\n",
    "        Result+=[Store]\n",
    "    elif sum(Store)>target:\n",
    "        return\n",
    "    else:\n",
    "        for i in range(j,len(candidates)):\n",
    "            #print(j,Store)\n",
    "            if j<len(candidates):\n",
    "                combinationSum(candidates,target,Store+[candidates[i]],j=i)\n",
    "    return Result"
   ]
  },
  {
   "cell_type": "code",
   "execution_count": 18,
   "metadata": {},
   "outputs": [
    {
     "data": {
      "text/plain": [
       "[[2, 2, 3], [7]]"
      ]
     },
     "execution_count": 18,
     "metadata": {},
     "output_type": "execute_result"
    }
   ],
   "source": [
    "candidates=[2,3,6,7]\n",
    "target=7\n",
    "combinationSum(candidates,target)"
   ]
  },
  {
   "cell_type": "code",
   "execution_count": null,
   "metadata": {},
   "outputs": [],
   "source": []
  },
  {
   "cell_type": "code",
   "execution_count": null,
   "metadata": {},
   "outputs": [],
   "source": []
  }
 ],
 "metadata": {
  "kernelspec": {
   "display_name": "Python 3",
   "language": "python",
   "name": "python3"
  },
  "language_info": {
   "codemirror_mode": {
    "name": "ipython",
    "version": 3
   },
   "file_extension": ".py",
   "mimetype": "text/x-python",
   "name": "python",
   "nbconvert_exporter": "python",
   "pygments_lexer": "ipython3",
   "version": "3.7.3"
  }
 },
 "nbformat": 4,
 "nbformat_minor": 2
}
