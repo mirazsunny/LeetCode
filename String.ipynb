{
 "cells": [
  {
   "cell_type": "markdown",
   "metadata": {},
   "source": [
    "# Question\n",
    "[6.ZigZag Conversion](https://leetcode.com/problems/zigzag-conversion/)\n",
    "\n",
    "## Plan\n",
    "- The idea is sorting by row, for the first and last row there will be only one jump which is equal to twice the one less of num of rows\n",
    "- Fo the other rows there will be two jump, one jump will be twice of the row and another will be subtract twice the row to actual jump position\n",
    "\n",
    "1....7......13  <br>\n",
    "2..6.8...12.14  <br>\n",
    "3.5..9.11...15  <br>\n",
    "4....10.....16"
   ]
  },
  {
   "cell_type": "code",
   "execution_count": 29,
   "metadata": {},
   "outputs": [],
   "source": [
    "def convert(s,numRows):\n",
    "    if numRows==1: # if num of rows is one then return the string itself\n",
    "        return s\n",
    "    s_new='' # the new string where we are going to store\n",
    "    sJumpPosition=2*numRows-2 # total jump position (distance between one element and same column element with restpect\n",
    "                            # to row 0)\n",
    "    for i in range(numRows):\n",
    "        RowInit=i # starting point of the row\n",
    "        if i==0 or i==numRows-1: # if the first or last row\n",
    "            while RowInit<len(s):# until the end of the len(s)\n",
    "                s_new+=s[RowInit] # there will be one jump\n",
    "                RowInit+=sJumpPosition\n",
    "        else:\n",
    "            First=True # for two jump initializing true\n",
    "            while RowInit<len(s): # otherwise there will be two jump\n",
    "                if First==True: \n",
    "                    s_new+=s[RowInit]\n",
    "                    RowInit+=sJumpPosition-2*(i) # first jump\n",
    "                    First=False\n",
    "                else:\n",
    "                    s_new+=s[RowInit]\n",
    "                    RowInit+=2*(i) # second jump\n",
    "                    First=True           \n",
    "    return s_new"
   ]
  },
  {
   "cell_type": "code",
   "execution_count": 28,
   "metadata": {},
   "outputs": [
    {
     "data": {
      "text/plain": [
       "'P'"
      ]
     },
     "execution_count": 28,
     "metadata": {},
     "output_type": "execute_result"
    }
   ],
   "source": [
    "convert('P',1)"
   ]
  },
  {
   "cell_type": "code",
   "execution_count": null,
   "metadata": {},
   "outputs": [],
   "source": []
  }
 ],
 "metadata": {
  "kernelspec": {
   "display_name": "Python 3",
   "language": "python",
   "name": "python3"
  }
 },
 "nbformat": 4,
 "nbformat_minor": 2
}
