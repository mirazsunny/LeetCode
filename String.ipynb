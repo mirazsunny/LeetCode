{
 "cells": [
  {
   "cell_type": "markdown",
   "metadata": {},
   "source": [
    "# Question\n",
    "[6.ZigZag Conversion](https://leetcode.com/problems/zigzag-conversion/)\n",
    "\n",
    "## Plan\n",
    "- The idea is sorting by row, for the first and last row there will be only one jump which is equal to twice the one less of num of rows\n",
    "- Fo the other rows there will be two jump, one jump will be twice of the row and another will be subtract twice the row to actual jump position\n",
    "\n",
    "1....7......13  <br>\n",
    "2..6.8...12.14  <br>\n",
    "3.5..9.11...15  <br>\n",
    "4....10.....16"
   ]
  },
  {
   "cell_type": "code",
   "execution_count": 29,
   "metadata": {},
   "outputs": [],
   "source": [
    "def convert(s,numRows):\n",
    "    if numRows==1: # if num of rows is one then return the string itself\n",
    "        return s\n",
    "    s_new='' # the new string where we are going to store\n",
    "    sJumpPosition=2*numRows-2 # total jump position (distance between one element and same column element with restpect\n",
    "                            # to row 0)\n",
    "    for i in range(numRows):\n",
    "        RowInit=i # starting point of the row\n",
    "        if i==0 or i==numRows-1: # if the first or last row\n",
    "            while RowInit<len(s):# until the end of the len(s)\n",
    "                s_new+=s[RowInit] # there will be one jump\n",
    "                RowInit+=sJumpPosition\n",
    "        else:\n",
    "            First=True # for two jump initializing true\n",
    "            while RowInit<len(s): # otherwise there will be two jump\n",
    "                if First==True: \n",
    "                    s_new+=s[RowInit]\n",
    "                    RowInit+=sJumpPosition-2*(i) # first jump\n",
    "                    First=False\n",
    "                else:\n",
    "                    s_new+=s[RowInit]\n",
    "                    RowInit+=2*(i) # second jump\n",
    "                    First=True           \n",
    "    return s_new"
   ]
  },
  {
   "cell_type": "code",
   "execution_count": 28,
   "metadata": {},
   "outputs": [
    {
     "data": {
      "text/plain": [
       "'P'"
      ]
     },
     "execution_count": 28,
     "metadata": {},
     "output_type": "execute_result"
    }
   ],
   "source": [
    "convert('P',1)"
   ]
  },
  {
   "cell_type": "markdown",
   "metadata": {},
   "source": [
    "# Question\n",
    "[43.Multiply Strings](https://leetcode.com/problems/multiply-strings/)\n",
    "\n",
    "## Plan \n",
    "- Deciding the multiplier and multiplicand by finding the length of the two number\n",
    "- Starting from the end of the multiplier take one number and multiply with the multiplicand and add to the result for all the number in multiplier\n",
    "\n",
    "**Result:** 58$%$, 100$%$"
   ]
  },
  {
   "cell_type": "code",
   "execution_count": 20,
   "metadata": {},
   "outputs": [],
   "source": [
    "def multiply(num1,num2):\n",
    "    if len(num1)>len(num2):\n",
    "        num2,num1=num1,num2\n",
    "    i=len(num2)-1\n",
    "    Sum,SumU=0,1\n",
    "    while i>=0:\n",
    "        Multiplier,i=int(num2[i]),i-1\n",
    "        SubSum,SubSumU,j=0,1,len(num1)-1\n",
    "        while j>=0:\n",
    "            SubSum+=Multiplier*int(num1[j])*SubSumU\n",
    "            SubSumU*=10\n",
    "            j-=1\n",
    "        Sum+=SubSum*SumU\n",
    "        SumU*=10\n",
    "    return str(Sum)"
   ]
  },
  {
   "cell_type": "code",
   "execution_count": 19,
   "metadata": {},
   "outputs": [
    {
     "data": {
      "text/plain": [
       "'651'"
      ]
     },
     "execution_count": 19,
     "metadata": {},
     "output_type": "execute_result"
    }
   ],
   "source": [
    "multiply('21','31')"
   ]
  },
  {
   "cell_type": "markdown",
   "metadata": {},
   "source": [
    "# Question\n",
    "[71.Simplify Path](https://leetcode.com/problems/simplify-path/)\n",
    "\n",
    "## Plan \n",
    "- Split the string with a seperator $/$.\n",
    "- Go from the last of the list if $..$ found avoiding a number is increased, if $\"\"$ or $\".\"$ found then avoid that index position.\n",
    "- If other than above string is found check the avoid if its true then avoid if false add that string to the result.\n",
    "- At the end return the result"
   ]
  },
  {
   "cell_type": "code",
   "execution_count": 18,
   "metadata": {},
   "outputs": [],
   "source": [
    "def simplifyPath(path: str) -> str:\n",
    "    path,Result_path,avoid_directory_num=path.split(\"/\"),'',0 # splitting the path\n",
    "    for i in range (len(path)-1,0,-1): # go backward\n",
    "        if path[i]==\"..\": # increasing the avoid directory\n",
    "            avoid_directory_num+=1\n",
    "        elif path[i]!='' and path[i]!=\".\": #if emply or dot ignore\n",
    "            if avoid_directory_num:\n",
    "                avoid_directory_num-=1 #if avoid number found decrease by 1\n",
    "            else:\n",
    "                Result_path=\"/\"+path[i]+Result_path # else add to the result\n",
    "    return '/' if len(Result_path)==0 else Result_path #return result"
   ]
  },
  {
   "cell_type": "code",
   "execution_count": 22,
   "metadata": {},
   "outputs": [
    {
     "data": {
      "text/plain": [
       "'/a/b/c'"
      ]
     },
     "execution_count": 22,
     "metadata": {},
     "output_type": "execute_result"
    }
   ],
   "source": [
    "simplifyPath('/a//b////c/d//././/..')"
   ]
  },
  {
   "cell_type": "code",
   "execution_count": 17,
   "metadata": {},
   "outputs": [
    {
     "data": {
      "text/plain": [
       "['', '..', '']"
      ]
     },
     "execution_count": 17,
     "metadata": {},
     "output_type": "execute_result"
    }
   ],
   "source": [
    "'/../'.split('/')"
   ]
  },
  {
   "cell_type": "markdown",
   "metadata": {},
   "source": [
    "# Question\n",
    "[91.Decode Ways](https://leetcode.com/problems/decode-ways/)\n",
    "\n",
    "## Plan \n",
    "-"
   ]
  },
  {
   "cell_type": "code",
   "execution_count": 99,
   "metadata": {},
   "outputs": [],
   "source": [
    "def numDecodings(s):\n",
    "    if not len(s):\n",
    "        return 0\n",
    "    Alphabet=[str(i) for i in range(1,27)]\n",
    "    count=0\n",
    "    for i in range(2**(len(s)-1),2**len(s)):\n",
    "        bit_mask=bin(i)[3:]+'1'\n",
    "        start,k=0,1\n",
    "        print(bit_mask)\n",
    "        for j in range(len(bit_mask)):\n",
    "            if bit_mask[j]=='1':\n",
    "                print(s[start:j+1])\n",
    "                if s[start:j+1] not in Alphabet:\n",
    "                    k=0\n",
    "                    break\n",
    "                else:\n",
    "                    start=j+1\n",
    "        count+=k\n",
    "    return count"
   ]
  },
  {
   "cell_type": "code",
   "execution_count": 100,
   "metadata": {},
   "outputs": [
    {
     "name": "stdout",
     "output_type": "stream",
     "text": [
      "01\n",
      "01\n",
      "11\n",
      "0\n"
     ]
    },
    {
     "data": {
      "text/plain": [
       "0"
      ]
     },
     "execution_count": 100,
     "metadata": {},
     "output_type": "execute_result"
    }
   ],
   "source": [
    "numDecodings('01')"
   ]
  },
  {
   "cell_type": "markdown",
   "metadata": {},
   "source": [
    "# Question\n",
    "[125.Valid Palindrome](https://leetcode.com/problems/valid-palindrome/)\n",
    "\n",
    "## Plan \n",
    "- convert all the string into lower character and remove all the whitespace, then remove all the elements except alphanumeric characters\n",
    "- start matching from the start and end "
   ]
  },
  {
   "cell_type": "code",
   "execution_count": 8,
   "metadata": {},
   "outputs": [],
   "source": [
    "def isPalindrome(s):\n",
    "    s=\"\".join(s.lower().split())\n",
    "    S=[st for st in s if st.isalnum()]\n",
    "    if not len(S):\n",
    "        return True\n",
    "    i,j=0,len(S)-1\n",
    "    while i<=j:\n",
    "        if S[i]!=S[j]:\n",
    "            return False\n",
    "        else:\n",
    "            i+=1\n",
    "            j-=1\n",
    "    return True"
   ]
  },
  {
   "cell_type": "code",
   "execution_count": 9,
   "metadata": {},
   "outputs": [
    {
     "data": {
      "text/plain": [
       "False"
      ]
     },
     "execution_count": 9,
     "metadata": {},
     "output_type": "execute_result"
    }
   ],
   "source": [
    "s=\"A man, a 12 plan, a canal: Panama\"\n",
    "isPalindrome(s)"
   ]
  },
  {
   "cell_type": "code",
   "execution_count": 42,
   "metadata": {},
   "outputs": [],
   "source": [
    "def allPart(s,Result):\n",
    "    subresult=[]\n",
    "    for i in range(1,len(s)):\n",
    "        print(s[0:i])\n",
    "        subresult+=[s[:i]]\n",
    "        print(subresult)\n",
    "        allPart(s[i::],Result)\n",
    "    return Result"
   ]
  },
  {
   "cell_type": "code",
   "execution_count": 43,
   "metadata": {},
   "outputs": [
    {
     "name": "stdout",
     "output_type": "stream",
     "text": [
      "a\n",
      "['a']\n",
      "b\n",
      "['b']\n",
      "c\n",
      "['c']\n",
      "bc\n",
      "['b', 'bc']\n",
      "ab\n",
      "['a', 'ab']\n",
      "c\n",
      "['c']\n",
      "abc\n",
      "['a', 'ab', 'abc']\n"
     ]
    },
    {
     "data": {
      "text/plain": [
       "[]"
      ]
     },
     "execution_count": 43,
     "metadata": {},
     "output_type": "execute_result"
    }
   ],
   "source": [
    "allPart('abcd',[])"
   ]
  },
  {
   "cell_type": "markdown",
   "metadata": {},
   "source": [
    "# Question\n",
    "[150.Evaluate Reverse Polish Notation](https://leetcode.com/problems/evaluate-reverse-polish-notation/)\n",
    "\n",
    "## Plan \n",
    "- Stack up each element if operator found then evaluate with the operand"
   ]
  },
  {
   "cell_type": "code",
   "execution_count": null,
   "metadata": {},
   "outputs": [],
   "source": []
  }
 ],
 "metadata": {
  "kernelspec": {
   "display_name": "Python 3",
   "language": "python",
   "name": "python3"
  },
  "language_info": {
   "codemirror_mode": {
    "name": "ipython",
    "version": 3
   },
   "file_extension": ".py",
   "mimetype": "text/x-python",
   "name": "python",
   "nbconvert_exporter": "python",
   "pygments_lexer": "ipython3",
   "version": "3.7.3"
  }
 },
 "nbformat": 4,
 "nbformat_minor": 2
}
