{
 "cells": [
  {
   "cell_type": "markdown",
   "metadata": {},
   "source": [
    "# Question\n",
    "[6.ZigZag Conversion](https://leetcode.com/problems/zigzag-conversion/)\n",
    "\n",
    "## Plan\n",
    "- The idea is sorting by row, for the first and last row there will be only one jump which is equal to twice the one less of num of rows\n",
    "- Fo the other rows there will be two jump, one jump will be twice of the row and another will be subtract twice the row to actual jump position\n",
    "\n",
    "1....7......13  <br>\n",
    "2..6.8...12.14  <br>\n",
    "3.5..9.11...15  <br>\n",
    "4....10.....16"
   ]
  },
  {
   "cell_type": "code",
   "execution_count": 29,
   "metadata": {},
   "outputs": [],
   "source": [
    "def convert(s,numRows):\n",
    "    if numRows==1: # if num of rows is one then return the string itself\n",
    "        return s\n",
    "    s_new='' # the new string where we are going to store\n",
    "    sJumpPosition=2*numRows-2 # total jump position (distance between one element and same column element with restpect\n",
    "                            # to row 0)\n",
    "    for i in range(numRows):\n",
    "        RowInit=i # starting point of the row\n",
    "        if i==0 or i==numRows-1: # if the first or last row\n",
    "            while RowInit<len(s):# until the end of the len(s)\n",
    "                s_new+=s[RowInit] # there will be one jump\n",
    "                RowInit+=sJumpPosition\n",
    "        else:\n",
    "            First=True # for two jump initializing true\n",
    "            while RowInit<len(s): # otherwise there will be two jump\n",
    "                if First==True: \n",
    "                    s_new+=s[RowInit]\n",
    "                    RowInit+=sJumpPosition-2*(i) # first jump\n",
    "                    First=False\n",
    "                else:\n",
    "                    s_new+=s[RowInit]\n",
    "                    RowInit+=2*(i) # second jump\n",
    "                    First=True           \n",
    "    return s_new"
   ]
  },
  {
   "cell_type": "code",
   "execution_count": 28,
   "metadata": {},
   "outputs": [
    {
     "data": {
      "text/plain": [
       "'P'"
      ]
     },
     "execution_count": 28,
     "metadata": {},
     "output_type": "execute_result"
    }
   ],
   "source": [
    "convert('P',1)"
   ]
  },
  {
   "cell_type": "markdown",
   "metadata": {},
   "source": [
    "# Question\n",
    "[43.Multiply Strings](https://leetcode.com/problems/multiply-strings/)\n",
    "\n",
    "## Plan \n",
    "- Deciding the multiplier and multiplicand by finding the length of the two number\n",
    "- Starting from the end of the multiplier take one number and multiply with the multiplicand and add to the result for all the number in multiplier\n",
    "\n",
    "**Result:** 58$%$, 100$%$"
   ]
  },
  {
   "cell_type": "code",
   "execution_count": 20,
   "metadata": {},
   "outputs": [],
   "source": [
    "def multiply(num1,num2):\n",
    "    if len(num1)>len(num2):\n",
    "        num2,num1=num1,num2\n",
    "    i=len(num2)-1\n",
    "    Sum,SumU=0,1\n",
    "    while i>=0:\n",
    "        Multiplier,i=int(num2[i]),i-1\n",
    "        SubSum,SubSumU,j=0,1,len(num1)-1\n",
    "        while j>=0:\n",
    "            SubSum+=Multiplier*int(num1[j])*SubSumU\n",
    "            SubSumU*=10\n",
    "            j-=1\n",
    "        Sum+=SubSum*SumU\n",
    "        SumU*=10\n",
    "    return str(Sum)"
   ]
  },
  {
   "cell_type": "code",
   "execution_count": 19,
   "metadata": {},
   "outputs": [
    {
     "data": {
      "text/plain": [
       "'651'"
      ]
     },
     "execution_count": 19,
     "metadata": {},
     "output_type": "execute_result"
    }
   ],
   "source": [
    "multiply('21','31')"
   ]
  },
  {
   "cell_type": "code",
   "execution_count": null,
   "metadata": {},
   "outputs": [],
   "source": []
  }
 ],
 "metadata": {
  "kernelspec": {
   "display_name": "Python 3",
   "language": "python",
   "name": "python3"
  },
  "language_info": {
   "codemirror_mode": {
    "name": "ipython",
    "version": 3
   },
   "file_extension": ".py",
   "mimetype": "text/x-python",
   "name": "python",
   "nbconvert_exporter": "python",
   "pygments_lexer": "ipython3",
   "version": "3.7.3"
  }
 },
 "nbformat": 4,
 "nbformat_minor": 2
}
