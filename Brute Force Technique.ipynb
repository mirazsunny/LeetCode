{
 "cells": [
  {
   "cell_type": "markdown",
   "metadata": {},
   "source": [
    "# Question\n",
    "[77.Combinations](https://leetcode.com/problems/combinations/)\n",
    "\n",
    "## Plan\n",
    "1. Creating Result repository, and iterating upto k\n",
    "2. For each iteration set an end, and create a Temp repository\n",
    "3. For each result set start, from start to end add to the start"
   ]
  },
  {
   "cell_type": "code",
   "execution_count": 1,
   "metadata": {},
   "outputs": [],
   "source": [
    "def combine(n,k):\n",
    "    Result=[[]]\n",
    "    for i in range(k):\n",
    "        end=n-k+i+2\n",
    "        Temp=[]\n",
    "        for sub in Result:\n",
    "            if sub==[]:\n",
    "                start=1\n",
    "            else:\n",
    "                start=sub[-1]+1\n",
    "            for j in range(start,end):\n",
    "                Temp.append(sub+[j])\n",
    "        Result=Temp\n",
    "        print(Result)\n",
    "    return Result"
   ]
  },
  {
   "cell_type": "code",
   "execution_count": 4,
   "metadata": {},
   "outputs": [
    {
     "name": "stdout",
     "output_type": "stream",
     "text": [
      "[[1], [2]]\n",
      "[[1, 2], [1, 3], [2, 3]]\n",
      "[[1, 2, 3], [1, 2, 4], [1, 3, 4], [2, 3, 4]]\n"
     ]
    },
    {
     "data": {
      "text/plain": [
       "[[1, 2, 3], [1, 2, 4], [1, 3, 4], [2, 3, 4]]"
      ]
     },
     "execution_count": 4,
     "metadata": {},
     "output_type": "execute_result"
    }
   ],
   "source": [
    "combine(4,3)"
   ]
  },
  {
   "cell_type": "code",
   "execution_count": null,
   "metadata": {},
   "outputs": [],
   "source": []
  }
 ],
 "metadata": {
  "kernelspec": {
   "display_name": "Python 3",
   "language": "python",
   "name": "python3"
  },
  "language_info": {
   "codemirror_mode": {
    "name": "ipython",
    "version": 3
   },
   "file_extension": ".py",
   "mimetype": "text/x-python",
   "name": "python",
   "nbconvert_exporter": "python",
   "pygments_lexer": "ipython3",
   "version": "3.7.3"
  }
 },
 "nbformat": 4,
 "nbformat_minor": 2
}
