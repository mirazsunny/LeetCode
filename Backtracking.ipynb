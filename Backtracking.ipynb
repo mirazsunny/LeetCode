{
 "cells": [
  {
   "cell_type": "markdown",
   "metadata": {},
   "source": [
    "# Question\n",
    "[46.Permutations](https://leetcode.com/problems/permutations/)\n",
    "\n",
    "## Plan\n",
    "- First one is simple recursion\n",
    "   - Add array[i] to the s if array[i] not in s \n",
    "\n",
    "### Recursion approach (Allowing in)"
   ]
  },
  {
   "cell_type": "code",
   "execution_count": 87,
   "metadata": {},
   "outputs": [],
   "source": [
    "array=[1,3,4]\n",
    "s=[]\n",
    "k=len(array)\n",
    "def permutation(s,k,Result=[]):\n",
    "    if k<=0:\n",
    "        Result+=[s]\n",
    "    else:\n",
    "        for i in range(len(array)):\n",
    "            if array[i] not in s:\n",
    "                permutation(s+[array[i]],k-1)\n",
    "    return Result"
   ]
  },
  {
   "cell_type": "code",
   "execution_count": 88,
   "metadata": {},
   "outputs": [
    {
     "data": {
      "text/plain": [
       "[[1, 3, 4], [1, 4, 3], [3, 1, 4], [3, 4, 1], [4, 1, 3], [4, 3, 1]]"
      ]
     },
     "execution_count": 88,
     "metadata": {},
     "output_type": "execute_result"
    }
   ],
   "source": [
    "permutation(s,k)"
   ]
  },
  {
   "cell_type": "markdown",
   "metadata": {},
   "source": [
    "## Backtrack and Recursion approach\n",
    "\n",
    "The approach is shown in this [Figure](https://i.stack.imgur.com/yQxZ3.gif)\n",
    "\n",
    "## Plan\n",
    "\n",
    "- Idea is to swap each node with all other node recursively after each swap backtrak to the previous swap so that it can use for the next swap\n",
    "- Swapping will stop when swapping index will be equal to the len(array)"
   ]
  },
  {
   "cell_type": "code",
   "execution_count": 70,
   "metadata": {},
   "outputs": [],
   "source": [
    "def permutation(array,l,n,Result=[]):\n",
    "    if l==n: # Base case\n",
    "        Result.append([val for val in array]) # I can use Result.append(array) in that case array will be change later on\n",
    "                                            # Result value is going to change at the end \n",
    "    else:\n",
    "        for i in range(l,n+1):\n",
    "            array[l],array[i]=array[i],array[l] # Swap the value\n",
    "            permutation(array,l+1,n) # Recursion\n",
    "            array[i],array[l]=array[l],array[i] # Backtracking\n",
    "    return Result"
   ]
  },
  {
   "cell_type": "code",
   "execution_count": 71,
   "metadata": {},
   "outputs": [
    {
     "data": {
      "text/plain": [
       "[[1, 2, 3], [1, 3, 2], [2, 1, 3], [2, 3, 1], [3, 2, 1], [3, 1, 2]]"
      ]
     },
     "execution_count": 71,
     "metadata": {},
     "output_type": "execute_result"
    }
   ],
   "source": [
    "#driver program\n",
    "array=[1,2,3]\n",
    "permutation(array,0,len(array)-1)"
   ]
  },
  {
   "cell_type": "markdown",
   "metadata": {},
   "source": [
    "# Question\n",
    "[47.Permutations II](https://leetcode.com/problems/permutations-ii/)\n",
    "\n",
    "## Plan\n",
    "- It is similar to the previous solution to avoid same recursion result avoid the same element through a if statement."
   ]
  },
  {
   "cell_type": "code",
   "execution_count": 102,
   "metadata": {},
   "outputs": [],
   "source": [
    "def permutation(array,l,n,Result=[]):\n",
    "    if l==n: # Base case\n",
    "        Result.append([val for val in array]) # I can use Result.append(array) in that case array will be change later on\n",
    "                                            # Result value is going to change at the end \n",
    "    else:\n",
    "        for i in range(l,n+1):\n",
    "            if array[i] not in array[i+1:]: # This will check whether there is same element after ith value\n",
    "                array[l],array[i]=array[i],array[l] # Swap the value\n",
    "                permutation(array,l+1,n) # Recursion\n",
    "                array[i],array[l]=array[l],array[i] # Backtracking\n",
    "    return Result"
   ]
  },
  {
   "cell_type": "code",
   "execution_count": 103,
   "metadata": {},
   "outputs": [
    {
     "data": {
      "text/plain": [
       "[[1, 1, 2, 2],\n",
       " [1, 2, 2, 1],\n",
       " [1, 2, 1, 2],\n",
       " [2, 2, 1, 1],\n",
       " [2, 1, 2, 1],\n",
       " [2, 1, 1, 2]]"
      ]
     },
     "execution_count": 103,
     "metadata": {},
     "output_type": "execute_result"
    }
   ],
   "source": [
    "#driver program\n",
    "array=[1,1,2,2]\n",
    "permutation(array,0,len(array)-1)"
   ]
  }
 ],
 "metadata": {
  "kernelspec": {
   "display_name": "Python 3",
   "language": "python",
   "name": "python3"
  },
  "language_info": {
   "codemirror_mode": {
    "name": "ipython",
    "version": 3
   },
   "file_extension": ".py",
   "mimetype": "text/x-python",
   "name": "python",
   "nbconvert_exporter": "python",
   "pygments_lexer": "ipython3",
   "version": "3.7.3"
  }
 },
 "nbformat": 4,
 "nbformat_minor": 2
}
