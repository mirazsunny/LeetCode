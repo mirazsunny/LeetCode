{
 "cells": [
  {
   "cell_type": "markdown",
   "metadata": {},
   "source": [
    "# Question\n",
    "[46.Permutations](https://leetcode.com/problems/permutations/)\n",
    "\n",
    "## Plan\n",
    "- First one is simple recursion\n",
    "   - Add array[i] to the s if array[i] not in s \n",
    "\n",
    "### Recursion approach (Allowing in)"
   ]
  },
  {
   "cell_type": "code",
   "execution_count": 87,
   "metadata": {},
   "outputs": [],
   "source": [
    "array=[1,3,4]\n",
    "s=[]\n",
    "k=len(array)\n",
    "def permutation(s,k,Result=[]):\n",
    "    if k<=0:\n",
    "        Result+=[s]\n",
    "    else:\n",
    "        for i in range(len(array)):\n",
    "            if array[i] not in s:\n",
    "                permutation(s+[array[i]],k-1)\n",
    "    return Result"
   ]
  },
  {
   "cell_type": "code",
   "execution_count": 88,
   "metadata": {},
   "outputs": [
    {
     "data": {
      "text/plain": [
       "[[1, 3, 4], [1, 4, 3], [3, 1, 4], [3, 4, 1], [4, 1, 3], [4, 3, 1]]"
      ]
     },
     "execution_count": 88,
     "metadata": {},
     "output_type": "execute_result"
    }
   ],
   "source": [
    "permutation(s,k)"
   ]
  },
  {
   "cell_type": "markdown",
   "metadata": {},
   "source": [
    "## Backtrack and Recursion approach\n",
    "\n",
    "The approach is shown in this [Figure](https://i.stack.imgur.com/yQxZ3.gif)\n",
    "\n",
    "## Plan\n",
    "\n",
    "- Idea is to swap each node with all other node recursively after each swap backtrak to the previous swap so that it can use for the next swap\n",
    "- Swapping will stop when swapping index will be equal to the len(array)"
   ]
  },
  {
   "cell_type": "code",
   "execution_count": 70,
   "metadata": {},
   "outputs": [],
   "source": [
    "def permutation(array,l,n,Result=[]):\n",
    "    if l==n: # Base case\n",
    "        Result.append([val for val in array]) # I can use Result.append(array) in that case array will be change later on\n",
    "                                            # Result value is going to change at the end \n",
    "    else:\n",
    "        for i in range(l,n+1):\n",
    "            array[l],array[i]=array[i],array[l] # Swap the value\n",
    "            permutation(array,l+1,n) # Recursion\n",
    "            array[i],array[l]=array[l],array[i] # Backtracking\n",
    "    return Result"
   ]
  },
  {
   "cell_type": "code",
   "execution_count": 71,
   "metadata": {},
   "outputs": [
    {
     "data": {
      "text/plain": [
       "[[1, 2, 3], [1, 3, 2], [2, 1, 3], [2, 3, 1], [3, 2, 1], [3, 1, 2]]"
      ]
     },
     "execution_count": 71,
     "metadata": {},
     "output_type": "execute_result"
    }
   ],
   "source": [
    "#driver program\n",
    "array=[1,2,3]\n",
    "permutation(array,0,len(array)-1)"
   ]
  },
  {
   "cell_type": "markdown",
   "metadata": {},
   "source": [
    "# Question\n",
    "[47.Permutations II](https://leetcode.com/problems/permutations-ii/)\n",
    "\n",
    "## Plan\n",
    "- It is similar to the previous solution to avoid same recursion result avoid the same element through a if statement."
   ]
  },
  {
   "cell_type": "code",
   "execution_count": 102,
   "metadata": {},
   "outputs": [],
   "source": [
    "def permutation(array,l,n,Result=[]):\n",
    "    if l==n: # Base case\n",
    "        Result.append([val for val in array]) # I can use Result.append(array) in that case array will be change later on\n",
    "                                            # Result value is going to change at the end \n",
    "    else:\n",
    "        for i in range(l,n+1):\n",
    "            if array[i] not in array[i+1:]: # This will check whether there is same element after ith value\n",
    "                array[l],array[i]=array[i],array[l] # Swap the value\n",
    "                permutation(array,l+1,n) # Recursion\n",
    "                array[i],array[l]=array[l],array[i] # Backtracking\n",
    "    return Result"
   ]
  },
  {
   "cell_type": "code",
   "execution_count": 103,
   "metadata": {},
   "outputs": [
    {
     "data": {
      "text/plain": [
       "[[1, 1, 2, 2],\n",
       " [1, 2, 2, 1],\n",
       " [1, 2, 1, 2],\n",
       " [2, 2, 1, 1],\n",
       " [2, 1, 2, 1],\n",
       " [2, 1, 1, 2]]"
      ]
     },
     "execution_count": 103,
     "metadata": {},
     "output_type": "execute_result"
    }
   ],
   "source": [
    "#driver program\n",
    "array=[1,1,2,2]\n",
    "permutation(array,0,len(array)-1)"
   ]
  },
  {
   "cell_type": "code",
   "execution_count": 25,
   "metadata": {},
   "outputs": [
    {
     "name": "stdout",
     "output_type": "stream",
     "text": [
      "1 []\n",
      "1 [2]\n",
      "1 [2, 2]\n",
      "1 [2, 2, 2]\n",
      "1 [2, 2, 2]\n",
      "1 [2, 2, 2]\n",
      "1 [2, 2, 2]\n",
      "1 [2, 2]\n",
      "[2, 2, 3]\n",
      "1 [2, 2]\n",
      "1 [2, 2]\n",
      "1 [2]\n",
      "1 [2, 3]\n",
      "1 [2, 3]\n",
      "1 [2, 3]\n",
      "1 [2]\n",
      "1 [2]\n",
      "1 []\n",
      "1 [3]\n",
      "1 [3, 3]\n",
      "1 [3, 3]\n",
      "1 [3, 3]\n",
      "1 [3]\n",
      "1 [3]\n",
      "1 []\n",
      "1 [6]\n",
      "1 [6]\n",
      "1 []\n",
      "[7]\n"
     ]
    }
   ],
   "source": []
  },
  {
   "cell_type": "markdown",
   "metadata": {},
   "source": [
    "# Question\n",
    "[77.Combinations](https://leetcode.com/problems/combinations/)\n",
    "\n",
    "## Plan\n",
    "1. Creating Result repository, and iterating upto k\n",
    "2. For each iteration set an end, and create a Temp repository\n",
    "3. For each result set start, from start to end add to the start"
   ]
  },
  {
   "cell_type": "code",
   "execution_count": 2,
   "metadata": {},
   "outputs": [],
   "source": [
    "def combine(n,k):\n",
    "    Result=[[]]\n",
    "    for i in range(k):\n",
    "        end=n-k+i+2\n",
    "        Temp=[]\n",
    "        for sub in Result:\n",
    "            if sub==[]:\n",
    "                start=1\n",
    "            else:\n",
    "                start=sub[-1]+1\n",
    "            for j in range(start,end):\n",
    "                Temp.append(sub+[j])\n",
    "        Result=Temp\n",
    "        print(Result)\n",
    "    return Result"
   ]
  },
  {
   "cell_type": "markdown",
   "metadata": {},
   "source": [
    "# Question\n",
    "[78.Subsets](https://leetcode.com/problems/subsets/)\n",
    "\n",
    "## Plan\n",
    "1. Creating Result repository, and iterating upto k\n",
    "2. For each iteration set an end, and create a Temp repository\n",
    "3. For each result set start, from start to end add to the start"
   ]
  },
  {
   "cell_type": "code",
   "execution_count": null,
   "metadata": {},
   "outputs": [],
   "source": []
  },
  {
   "cell_type": "markdown",
   "metadata": {},
   "source": [
    "# Question\n",
    "[79.Word Search](https://leetcode.com/problems/word-search/)\n",
    "\n",
    "## Plan 1 \n",
    "1. The idea is to go each element if the element is matches with the first word then go to left, right, up and down element\n",
    "2. If the next element is matches among the matching elements then again from that element go to left, right, up and down element\n",
    "3. If the word does not match then delete the last tracking element"
   ]
  },
  {
   "cell_type": "code",
   "execution_count": 1,
   "metadata": {},
   "outputs": [],
   "source": [
    "def exist(board,word):\n",
    "    # Go to each element\n",
    "    for i in range(len(board)):\n",
    "        for j in range(len(board[0])):\n",
    "            word_length,visited=0,[] #word_length is zero initially and visited list is emplty\n",
    "            if board[i][j]==word[word_length]: #if the first element match then go for the other elements\n",
    "                word_length+=1 \n",
    "                if word_length==len(word):\n",
    "                    return True\n",
    "                visited+=[(i,j)] #updating the visited list\n",
    "                Track_List=[[[0,1],[1,0],[-1,0],[0,-1],0]] #to track which element have been visited\n",
    "                new_i,new_j=i,j\n",
    "                while True:\n",
    "                    k=Track_List[-1][-1] #tracking the last element\n",
    "                    while k<4: #go to up, down, left, right\n",
    "                        new_i=visited[-1][0]+Track_List[-1][k][0] # i value\n",
    "                        new_j=visited[-1][1]+Track_List[-1][k][1] #j value\n",
    "                        if 0<=new_i<len(board) and 0<=new_j<len(board[0]) and (new_i,new_j)\\\n",
    "                        not in visited and board[new_i][new_j]==word[word_length]: \n",
    "                            visited+=[(new_i,new_j)]\n",
    "                            Track_List[-1][-1]=k+1\n",
    "                            Track_List+=[[[0,1],[1,0],[-1,0],[0,-1],0]]\n",
    "                            k=Track_List[-1][-1]\n",
    "                            word_length+=1\n",
    "                            if word_length==len(word):\n",
    "                                return True\n",
    "                        else:\n",
    "                            k+=1\n",
    "                    Track_List=Track_List[:-1] #remove the last element\n",
    "                    visited=visited[:-1] #remove the last visited element\n",
    "                    word_length-=1 #decrease the word length\n",
    "                    if len(Track_List)==0:\n",
    "                        break\n",
    "    return False"
   ]
  },
  {
   "cell_type": "code",
   "execution_count": null,
   "metadata": {},
   "outputs": [],
   "source": []
  }
 ],
 "metadata": {
  "kernelspec": {
   "display_name": "Python 3",
   "language": "python",
   "name": "python3"
  },
  "language_info": {
   "codemirror_mode": {
    "name": "ipython",
    "version": 3
   },
   "file_extension": ".py",
   "mimetype": "text/x-python",
   "name": "python",
   "nbconvert_exporter": "python",
   "pygments_lexer": "ipython3",
   "version": "3.7.3"
  }
 },
 "nbformat": 4,
 "nbformat_minor": 2
}
