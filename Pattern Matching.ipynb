{
 "cells": [
  {
   "cell_type": "markdown",
   "metadata": {},
   "source": [
    "# LeetCode Question\n",
    "[28.Implement strStr()](https://leetcode.com/problems/implement-strstr/)\n",
    "* Procedure follow from *Data Structure and Algorithm in python Book by  Goodrich, Tamassia, Goldwasser* [Chapter13.2:Pattern Matching Algorithm]"
   ]
  },
  {
   "cell_type": "markdown",
   "metadata": {},
   "source": [
    "## The Boyer-Moore Algorithm"
   ]
  },
  {
   "cell_type": "markdown",
   "metadata": {},
   "source": [
    "## RoadMap:\n",
    "Consider *T is text and P* is pattern matching\n",
    "1. Comparison will start from the end of the *P*\n",
    "2. Now comparison:\n",
    "    1. If comparison holds i.e. equals *P* and *T* will move backwards\n",
    "    2. If comparison does not hold i.e. not equals there could be three condition\n",
    "        1. If corresponding *T element is in the left side move P* upto that element so that it can match\n",
    "        2. If corresponding *T element is in the right side move P* upto one position\n",
    "        3. If corresponding *T element is not in P* move the whole pattern"
   ]
  },
  {
   "cell_type": "code",
   "execution_count": 4,
   "metadata": {},
   "outputs": [],
   "source": [
    "def boyer_moore(T,P):\n",
    "    n,m=len(T),len(P)\n",
    "    if m==0: # If empty string return 0\n",
    "        return 0 \n",
    "    last={} # dictionary to keep track of the last occurance\n",
    "    for k in range(m):\n",
    "        last[P[k]]=k\n",
    "    # align the pattern \n",
    "    i=m-1\n",
    "    k=m-1\n",
    "    while i<n:\n",
    "        if T[i]==P[k]: # if a matched occur\n",
    "            if k==0: \n",
    "                return i # when whole patten matched\n",
    "            else:\n",
    "                # Move backwark\n",
    "                i-=1 \n",
    "                k-=1\n",
    "        else:\n",
    "            j=last.get(T[i],-1) # when last matched occur else -1\n",
    "            i+=m-min(k,j+1) # The three conditions in one line\n",
    "            k=m-1 #new pattern matching start\n",
    "    return -1"
   ]
  },
  {
   "cell_type": "code",
   "execution_count": 5,
   "metadata": {},
   "outputs": [
    {
     "data": {
      "text/plain": [
       "2"
      ]
     },
     "execution_count": 5,
     "metadata": {},
     "output_type": "execute_result"
    }
   ],
   "source": [
    "boyer_moore('hello','ll')"
   ]
  },
  {
   "cell_type": "markdown",
   "metadata": {},
   "source": [
    "## KMP\n",
    "* Procedure follow from *Data Structure and Algorithm in python Book by  Goodrich, Tamassia, Goldwasser* [Chapter13.2:Pattern Matching Algorithm]"
   ]
  },
  {
   "cell_type": "code",
   "execution_count": 25,
   "metadata": {},
   "outputs": [],
   "source": [
    "def kmp_fail(mat):\n",
    "    fail=[0]*len(mat)\n",
    "    j=1 # To scan the whole mat\n",
    "    k=0 # Record the failure matrix value\n",
    "    while j<len(mat): # start scanning nonzero\n",
    "        if mat[j]==mat[k]:\n",
    "            fail[j]=k\n",
    "            j+=1\n",
    "            k+=1\n",
    "        elif k>0:\n",
    "            k=fail[k-1]\n",
    "        else:\n",
    "            j+=1\n",
    "    return fail\n",
    "\n",
    "def kmp(search,pattern):\n",
    "    n,m=len(search),len(pattern)\n",
    "    j,k=0,0\n",
    "    fail=kmp_fail(pattern)\n",
    "    while j<n:\n",
    "        if search[j]==pattern[k]:\n",
    "            j+=1\n",
    "            k+=1\n",
    "            if k==m:\n",
    "                return pattern[j-k:j]\n",
    "        elif k>0:\n",
    "            k=fail[k-1]\n",
    "        else:\n",
    "            j+=1\n",
    "    return -1"
   ]
  },
  {
   "cell_type": "code",
   "execution_count": 26,
   "metadata": {},
   "outputs": [
    {
     "data": {
      "text/plain": [
       "-1"
      ]
     },
     "execution_count": 26,
     "metadata": {},
     "output_type": "execute_result"
    }
   ],
   "source": [
    "kmp('abc','ad')"
   ]
  },
  {
   "cell_type": "markdown",
   "metadata": {},
   "source": [
    "# Question\n",
    "[214. Shortest Palindrome](https://leetcode.com/problems/shortest-palindrome/)\n",
    "\n",
    "## Plan\n",
    "1. The idea is to find out the palindrome start from the first. If found add the reverse of end in the front.\n",
    "2. For finding the palindrome use kmp fail matrix"
   ]
  },
  {
   "cell_type": "code",
   "execution_count": 31,
   "metadata": {},
   "outputs": [],
   "source": [
    "def kmp_fail(mat):\n",
    "    fail=[0]*len(mat)\n",
    "    j=1 # To scan the whole mat\n",
    "    k=0 # Record the failure matrix value\n",
    "    while j<len(mat): # start scanning nonzero\n",
    "        if mat[j]==mat[k]:\n",
    "            fail[j]=k\n",
    "            j+=1\n",
    "            k+=1\n",
    "        elif k>0:\n",
    "            k=fail[k-1]\n",
    "        else:\n",
    "            j+=1\n",
    "    return fail\n",
    "def shortestPalindrome(s):\n",
    "    newstr=s+'#'+s[::-1]\n",
    "    print(newstr)\n",
    "    fail=kmp_fail(newstr)\n",
    "    print(fail)\n",
    "    return s[fail[-1]+1:][::-1]+s"
   ]
  },
  {
   "cell_type": "code",
   "execution_count": 35,
   "metadata": {},
   "outputs": [
    {
     "name": "stdout",
     "output_type": "stream",
     "text": [
      "aabba#abbaa\n",
      "[0, 0, 0, 0, 0, 0, 0, 0, 0, 0, 1]\n"
     ]
    },
    {
     "data": {
      "text/plain": [
       "'abbaabba'"
      ]
     },
     "execution_count": 35,
     "metadata": {},
     "output_type": "execute_result"
    }
   ],
   "source": [
    "shortestPalindrome('aabba')"
   ]
  },
  {
   "cell_type": "code",
   "execution_count": null,
   "metadata": {},
   "outputs": [],
   "source": []
  }
 ],
 "metadata": {
  "kernelspec": {
   "display_name": "Python 3",
   "language": "python",
   "name": "python3"
  },
  "language_info": {
   "codemirror_mode": {
    "name": "ipython",
    "version": 3
   },
   "file_extension": ".py",
   "mimetype": "text/x-python",
   "name": "python",
   "nbconvert_exporter": "python",
   "pygments_lexer": "ipython3",
   "version": "3.7.3"
  }
 },
 "nbformat": 4,
 "nbformat_minor": 2
}
