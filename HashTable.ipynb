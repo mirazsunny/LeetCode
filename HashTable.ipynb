{
 "cells": [
  {
   "cell_type": "markdown",
   "metadata": {},
   "source": [
    "# Question\n",
    "[36.Valid Sudoku](https://leetcode.com/problems/valid-sudoku/)\n",
    "\n",
    "## Plan\n",
    "1. Create three list for Column, Row and Box with 9 hash tables \n",
    "2. Each hash table will be loaded with the number from the sudoku table\n",
    "3. If any number is more than one than return False \n",
    "4. Otherwise return True"
   ]
  },
  {
   "cell_type": "code",
   "execution_count": 18,
   "metadata": {},
   "outputs": [],
   "source": [
    "def isSudokuValid(board):\n",
    "    Column=[{} for i in range(9)]\n",
    "    Row=[{} for i in range(9)]\n",
    "    Box=[{} for i in range(9)]\n",
    "    for i in range(9):\n",
    "        for j in range(9):\n",
    "            if board[i][j]!='.':\n",
    "                Row[i][board[i][j]]=Row[i].get(board[i][j],0)+1\n",
    "                Column[j][board[i][j]]=Column[j].get(board[i][j],0)+1\n",
    "                Box[(i//3)*3+j//3][board[i][j]]=Box[(i//3)*3+j//3].get(board[i][j],0)+1\n",
    "                if Row[i][board[i][j]]>1 or Column[j][board[i][j]]>1 or Box[(i//3)*3+j//3][board[i][j]]>1:\n",
    "                    return False\n",
    "    return True"
   ]
  },
  {
   "cell_type": "code",
   "execution_count": 19,
   "metadata": {},
   "outputs": [
    {
     "name": "stdout",
     "output_type": "stream",
     "text": [
      "[{'8': 1}, {}, {}, {}, {}, {}, {}, {}, {}]\n",
      "[{'8': 1, '3': 1}, {}, {}, {}, {}, {}, {}, {}, {}]\n",
      "[{'8': 1, '3': 1}, {'7': 1}, {}, {}, {}, {}, {}, {}, {}]\n",
      "[{'8': 1, '3': 1, '6': 1}, {'7': 1}, {}, {}, {}, {}, {}, {}, {}]\n",
      "[{'8': 1, '3': 1, '6': 1}, {'7': 1, '1': 1}, {}, {}, {}, {}, {}, {}, {}]\n",
      "[{'8': 1, '3': 1, '6': 1}, {'7': 1, '1': 1, '9': 1}, {}, {}, {}, {}, {}, {}, {}]\n",
      "[{'8': 1, '3': 1, '6': 1}, {'7': 1, '1': 1, '9': 1, '5': 1}, {}, {}, {}, {}, {}, {}, {}]\n",
      "[{'8': 1, '3': 1, '6': 1, '9': 1}, {'7': 1, '1': 1, '9': 1, '5': 1}, {}, {}, {}, {}, {}, {}, {}]\n",
      "[{'8': 2, '3': 1, '6': 1, '9': 1}, {'7': 1, '1': 1, '9': 1, '5': 1}, {}, {}, {}, {}, {}, {}, {}]\n",
      "8 1 1 2\n"
     ]
    },
    {
     "data": {
      "text/plain": [
       "False"
      ]
     },
     "execution_count": 19,
     "metadata": {},
     "output_type": "execute_result"
    }
   ],
   "source": [
    "B=[\n",
    "  [\"8\",\"3\",\".\",\".\",\"7\",\".\",\".\",\".\",\".\"],\n",
    "  [\"6\",\".\",\".\",\"1\",\"9\",\"5\",\".\",\".\",\".\"],\n",
    "  [\".\",\"9\",\"8\",\".\",\".\",\".\",\".\",\"6\",\".\"],\n",
    "  [\"8\",\".\",\".\",\".\",\"6\",\".\",\".\",\".\",\"3\"],\n",
    "  [\"4\",\".\",\".\",\"8\",\".\",\"3\",\".\",\".\",\"1\"],\n",
    "  [\"7\",\".\",\".\",\".\",\"2\",\".\",\".\",\".\",\"6\"],\n",
    "  [\".\",\"6\",\".\",\".\",\".\",\".\",\"2\",\"8\",\".\"],\n",
    "  [\".\",\".\",\".\",\"4\",\"1\",\"9\",\".\",\".\",\"5\"],\n",
    "  [\".\",\".\",\".\",\".\",\"8\",\".\",\".\",\"7\",\"9\"]\n",
    "]\n",
    "isSudokuValid(B)"
   ]
  },
  {
   "cell_type": "markdown",
   "metadata": {},
   "source": [
    "# Question\n",
    "[49.Group Anagrams](https://leetcode.com/problems/group-anagrams/)\n",
    "\n",
    "## Plan\n",
    "1. Sort each string lexicographiclly and using a hash map to store each occurance and return the values of the dictionary"
   ]
  },
  {
   "cell_type": "code",
   "execution_count": 1,
   "metadata": {},
   "outputs": [],
   "source": [
    "def groupAnagrams(strs):\n",
    "    Anagram_Dict={}\n",
    "    for item in strs:\n",
    "        Anagram_Dict[tuple(sorted(item))]=Anagram_Dict.get(tuple(sorted(item)),[])+[item]\n",
    "    return Anagram_Dict.values()"
   ]
  },
  {
   "cell_type": "code",
   "execution_count": 2,
   "metadata": {},
   "outputs": [
    {
     "data": {
      "text/plain": [
       "dict_values([['eat', 'tea', 'ate'], ['tan', 'nat'], ['bat']])"
      ]
     },
     "execution_count": 2,
     "metadata": {},
     "output_type": "execute_result"
    }
   ],
   "source": [
    "groupAnagrams([\"eat\",\"tea\",\"tan\",\"ate\",\"nat\",\"bat\"])"
   ]
  },
  {
   "cell_type": "code",
   "execution_count": null,
   "metadata": {},
   "outputs": [],
   "source": []
  }
 ],
 "metadata": {
  "kernelspec": {
   "display_name": "Python 3",
   "language": "python",
   "name": "python3"
  },
  "language_info": {
   "codemirror_mode": {
    "name": "ipython",
    "version": 3
   },
   "file_extension": ".py",
   "mimetype": "text/x-python",
   "name": "python",
   "nbconvert_exporter": "python",
   "pygments_lexer": "ipython3",
   "version": "3.7.3"
  }
 },
 "nbformat": 4,
 "nbformat_minor": 2
}
