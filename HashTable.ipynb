{
 "cells": [
  {
   "cell_type": "markdown",
   "metadata": {},
   "source": [
    "# Question\n",
    "[36.Valid Sudoku](https://leetcode.com/problems/valid-sudoku/)\n",
    "\n",
    "## Plan\n",
    "1. Create three list for Column, Row and Box with 9 hash tables \n",
    "2. Each hash table will be loaded with the number from the sudoku table\n",
    "3. If any number is more than one than return False \n",
    "4. Otherwise return True"
   ]
  },
  {
   "cell_type": "code",
   "execution_count": 18,
   "metadata": {},
   "outputs": [],
   "source": [
    "def isSudokuValid(board):\n",
    "    Column=[{} for i in range(9)]\n",
    "    Row=[{} for i in range(9)]\n",
    "    Box=[{} for i in range(9)]\n",
    "    for i in range(9):\n",
    "        for j in range(9):\n",
    "            if board[i][j]!='.':\n",
    "                Row[i][board[i][j]]=Row[i].get(board[i][j],0)+1\n",
    "                Column[j][board[i][j]]=Column[j].get(board[i][j],0)+1\n",
    "                Box[(i//3)*3+j//3][board[i][j]]=Box[(i//3)*3+j//3].get(board[i][j],0)+1\n",
    "                if Row[i][board[i][j]]>1 or Column[j][board[i][j]]>1 or Box[(i//3)*3+j//3][board[i][j]]>1:\n",
    "                    return False\n",
    "    return True"
   ]
  },
  {
   "cell_type": "code",
   "execution_count": 19,
   "metadata": {},
   "outputs": [
    {
     "name": "stdout",
     "output_type": "stream",
     "text": [
      "[{'8': 1}, {}, {}, {}, {}, {}, {}, {}, {}]\n",
      "[{'8': 1, '3': 1}, {}, {}, {}, {}, {}, {}, {}, {}]\n",
      "[{'8': 1, '3': 1}, {'7': 1}, {}, {}, {}, {}, {}, {}, {}]\n",
      "[{'8': 1, '3': 1, '6': 1}, {'7': 1}, {}, {}, {}, {}, {}, {}, {}]\n",
      "[{'8': 1, '3': 1, '6': 1}, {'7': 1, '1': 1}, {}, {}, {}, {}, {}, {}, {}]\n",
      "[{'8': 1, '3': 1, '6': 1}, {'7': 1, '1': 1, '9': 1}, {}, {}, {}, {}, {}, {}, {}]\n",
      "[{'8': 1, '3': 1, '6': 1}, {'7': 1, '1': 1, '9': 1, '5': 1}, {}, {}, {}, {}, {}, {}, {}]\n",
      "[{'8': 1, '3': 1, '6': 1, '9': 1}, {'7': 1, '1': 1, '9': 1, '5': 1}, {}, {}, {}, {}, {}, {}, {}]\n",
      "[{'8': 2, '3': 1, '6': 1, '9': 1}, {'7': 1, '1': 1, '9': 1, '5': 1}, {}, {}, {}, {}, {}, {}, {}]\n",
      "8 1 1 2\n"
     ]
    },
    {
     "data": {
      "text/plain": [
       "False"
      ]
     },
     "execution_count": 19,
     "metadata": {},
     "output_type": "execute_result"
    }
   ],
   "source": [
    "B=[\n",
    "  [\"8\",\"3\",\".\",\".\",\"7\",\".\",\".\",\".\",\".\"],\n",
    "  [\"6\",\".\",\".\",\"1\",\"9\",\"5\",\".\",\".\",\".\"],\n",
    "  [\".\",\"9\",\"8\",\".\",\".\",\".\",\".\",\"6\",\".\"],\n",
    "  [\"8\",\".\",\".\",\".\",\"6\",\".\",\".\",\".\",\"3\"],\n",
    "  [\"4\",\".\",\".\",\"8\",\".\",\"3\",\".\",\".\",\"1\"],\n",
    "  [\"7\",\".\",\".\",\".\",\"2\",\".\",\".\",\".\",\"6\"],\n",
    "  [\".\",\"6\",\".\",\".\",\".\",\".\",\"2\",\"8\",\".\"],\n",
    "  [\".\",\".\",\".\",\"4\",\"1\",\"9\",\".\",\".\",\"5\"],\n",
    "  [\".\",\".\",\".\",\".\",\"8\",\".\",\".\",\"7\",\"9\"]\n",
    "]\n",
    "isSudokuValid(B)"
   ]
  },
  {
   "cell_type": "markdown",
   "metadata": {},
   "source": [
    "# Question\n",
    "[49.Group Anagrams](https://leetcode.com/problems/group-anagrams/)\n",
    "\n",
    "## Plan\n",
    "1. Sort each string lexicographiclly and using a hash map to store each occurance and return the values of the dictionary"
   ]
  },
  {
   "cell_type": "code",
   "execution_count": 1,
   "metadata": {},
   "outputs": [],
   "source": [
    "def groupAnagrams(strs):\n",
    "    Anagram_Dict={}\n",
    "    for item in strs:\n",
    "        Anagram_Dict[tuple(sorted(item))]=Anagram_Dict.get(tuple(sorted(item)),[])+[item]\n",
    "    return Anagram_Dict.values()"
   ]
  },
  {
   "cell_type": "code",
   "execution_count": 2,
   "metadata": {},
   "outputs": [
    {
     "data": {
      "text/plain": [
       "dict_values([['eat', 'tea', 'ate'], ['tan', 'nat'], ['bat']])"
      ]
     },
     "execution_count": 2,
     "metadata": {},
     "output_type": "execute_result"
    }
   ],
   "source": [
    "groupAnagrams([\"eat\",\"tea\",\"tan\",\"ate\",\"nat\",\"bat\"])"
   ]
  },
  {
   "cell_type": "markdown",
   "metadata": {},
   "source": [
    "# Question\n",
    "[205. Isomorphic Strings](https://leetcode.com/problems/isomorphic-strings/)\n",
    "\n",
    "## Plan\n",
    "1. Using two hash map, direct the mapping from one to one from one string to another string in both forward and reverse way\n",
    "2. Check whether mapping is correct each time, if it's not correct return false"
   ]
  },
  {
   "cell_type": "code",
   "execution_count": 1,
   "metadata": {},
   "outputs": [],
   "source": [
    "def isIsomorphic(s, t):\n",
    "    isomorphicDict=dict()\n",
    "    invisomorphicDict=dict()\n",
    "    for (s,t) in list(zip(s,t)):\n",
    "        if s in isomorphicDict and isomorphicDict[s]!=t:\n",
    "            return False\n",
    "        elif t in invisomorphicDict and invisomorphicDict[t]!=s:\n",
    "            return False\n",
    "        else:\n",
    "            isomorphicDict[s]=t\n",
    "            invisomorphicDict[t]=s\n",
    "    return True"
   ]
  },
  {
   "cell_type": "code",
   "execution_count": 2,
   "metadata": {},
   "outputs": [
    {
     "data": {
      "text/plain": [
       "False"
      ]
     },
     "execution_count": 2,
     "metadata": {},
     "output_type": "execute_result"
    }
   ],
   "source": [
    "isIsomorphic(\"foo\",\"bar\")"
   ]
  },
  {
   "cell_type": "markdown",
   "metadata": {},
   "source": [
    "# Question\n",
    "[208.Implement Trie (Prefix Tree)](https://leetcode.com/problems/implement-trie-prefix-tree/)\n",
    "\n",
    "## Plan(Using HashMap or dictionary)\n",
    "- At first create a data structure (TrieNode) consists of dictionary which is called child of the node. To define the end of the word creat boolean flag\n",
    "- Insert each character in the TrieNode. At the end make the end True to indicate this is the end\n",
    "- For search simmilar operation"
   ]
  },
  {
   "cell_type": "code",
   "execution_count": 1,
   "metadata": {},
   "outputs": [],
   "source": [
    "class TrieNode:\n",
    "    def __init__(self):\n",
    "        self.children={}\n",
    "        self.end=False\n",
    "\n",
    "class Trie:\n",
    "\n",
    "    def __init__(self):\n",
    "        \"\"\"\n",
    "        Initialize your data structure here.\n",
    "        \"\"\"\n",
    "        self.root=TrieNode()\n",
    "        \n",
    "\n",
    "    def insert(self, word: str) -> None:\n",
    "        \"\"\"\n",
    "        Inserts a word into the trie.\n",
    "        \"\"\"\n",
    "        node=self.root\n",
    "        for w in word:\n",
    "            if w not in node.children:\n",
    "                node.children[w]=TrieNode()\n",
    "            node=node.children[w]\n",
    "        node.end=True\n",
    "              \n",
    "\n",
    "    def search(self, word: str) -> bool:\n",
    "        \"\"\"\n",
    "        Returns if the word is in the trie.\n",
    "        \"\"\"\n",
    "        node=self.root\n",
    "        for w in word:\n",
    "            if w not in node.children:\n",
    "                return False\n",
    "            node=node.children[w]\n",
    "        return node.end\n",
    "        \n",
    "\n",
    "    def startsWith(self, prefix: str) -> bool:\n",
    "        \"\"\"\n",
    "        Returns if there is any word in the trie that starts with the given prefix.\n",
    "        \"\"\"\n",
    "        node=self.root\n",
    "        for w in prefix:\n",
    "            if w not in node.children:\n",
    "                return False\n",
    "            node=node.children[w]\n",
    "        return True\n",
    "\n",
    "\n",
    "# Your Trie object will be instantiated and called as such:\n",
    "# obj = Trie()\n",
    "# obj.insert(word)\n",
    "# param_2 = obj.search(word)\n",
    "# param_3 = obj.startsWith(prefix)"
   ]
  },
  {
   "cell_type": "markdown",
   "metadata": {},
   "source": [
    "# Question\n",
    "[211. Add and Search Word - Data structure design](https://leetcode.com/problems/add-and-search-word-data-structure-design/)\n",
    "\n",
    "## Plan(Using HashMap or dictionary)\n",
    "- At first create a data structure (TrieNode) consists of dictionary which is called child of the node. To define the end of the word creat boolean flag\n",
    "- Insert each character in the TrieNode. At the end make the end True to indicate this is the end\n",
    "- For search create a stack to find all the possible occurance of string for \".\""
   ]
  },
  {
   "cell_type": "code",
   "execution_count": 1,
   "metadata": {},
   "outputs": [],
   "source": [
    "class TrieNode:\n",
    "    def __init__(self):\n",
    "        self.child={}\n",
    "        self.isEnd=False\n",
    "\n",
    "class WordDictionary:\n",
    "\n",
    "    def __init__(self):\n",
    "        \"\"\"\n",
    "        Initialize your data structure here.\n",
    "        \"\"\"\n",
    "        self.node=TrieNode()\n",
    "        \n",
    "\n",
    "    def addWord(self, word):\n",
    "        \"\"\"\n",
    "        Adds a word into the data structure.\n",
    "        \"\"\"\n",
    "        root=self.node\n",
    "        for w in word:\n",
    "            if w not in root.child:\n",
    "                root.child[w]=TrieNode()\n",
    "            root=root.child[w]\n",
    "        root.isEnd=True\n",
    "        \n",
    "    def search(self, word):\n",
    "        \"\"\"\n",
    "        Returns if the word is in the data structure. A word could contain the dot character '.' to represent any one letter.\n",
    "        \"\"\"\n",
    "        rootList=[self.node]\n",
    "        for w in word:\n",
    "            temp=[]\n",
    "            if w!=\".\":\n",
    "                for node in rootList:\n",
    "                    if w in node.child:\n",
    "                        temp+=[node.child[w]]\n",
    "            else:\n",
    "                for node in rootList:\n",
    "                    for key in node.child:\n",
    "                        temp+=[node.child[key]]\n",
    "            rootList=temp\n",
    "        for node in rootList:\n",
    "            if node.isEnd:\n",
    "                return True\n",
    "        return False\n",
    "                    \n",
    "        \n",
    "\n",
    "\n",
    "# Your WordDictionary object will be instantiated and called as such:\n",
    "# obj = WordDictionary()\n",
    "# obj.addWord(word)\n",
    "# param_2 = obj.search(word)"
   ]
  },
  {
   "cell_type": "code",
   "execution_count": null,
   "metadata": {},
   "outputs": [],
   "source": []
  }
 ],
 "metadata": {
  "kernelspec": {
   "display_name": "Python 3",
   "language": "python",
   "name": "python3"
  },
  "language_info": {
   "codemirror_mode": {
    "name": "ipython",
    "version": 3
   },
   "file_extension": ".py",
   "mimetype": "text/x-python",
   "name": "python",
   "nbconvert_exporter": "python",
   "pygments_lexer": "ipython3",
   "version": "3.7.3"
  }
 },
 "nbformat": 4,
 "nbformat_minor": 2
}
