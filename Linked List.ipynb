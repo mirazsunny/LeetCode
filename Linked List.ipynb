{
 "cells": [
  {
   "cell_type": "markdown",
   "metadata": {},
   "source": [
    "# Question\n",
    "[61.Rotate List](https://leetcode.com/problems/rotate-list/)\n",
    "\n",
    "## Plan\n",
    "1. Finding out poin at which we need to detouch the linked list\n",
    "2. Linked the tail and head"
   ]
  },
  {
   "cell_type": "code",
   "execution_count": 105,
   "metadata": {},
   "outputs": [],
   "source": [
    "def rotateRight(head,k):\n",
    "    #finding out the k\n",
    "    ListofLinked,length=[],0\n",
    "    while head!=None:\n",
    "        ListofLinked+=[head]\n",
    "        head,length=head.next,length+1\n",
    "    if length==0:\n",
    "        return head\n",
    "    k=k%length\n",
    "    if k!=0:\n",
    "        ListofLinked[-k-1].next=None # Detouc the point\n",
    "        ListofLinked[-1].next=ListofLinked[0] #Linke the tail and head\n",
    "    return ListofLinked[-k]"
   ]
  },
  {
   "cell_type": "code",
   "execution_count": 106,
   "metadata": {},
   "outputs": [
    {
     "name": "stdout",
     "output_type": "stream",
     "text": [
      "9\n"
     ]
    }
   ],
   "source": [
    "class ListNode:\n",
    "    def __init__(self,x):\n",
    "        self.val=x #store the data in the node\n",
    "        self.next=None #point the next node in the slinklist\n",
    "# Load the linked list\n",
    "head=ListNode(9)\n",
    "#head.next=ListNode(1)\n",
    "#head.next.next=ListNode(2)\n",
    "#head.next.next.next=ListNode(3)\n",
    "#head.next.next.next.next=ListNode(4)\n",
    "#head.next.next.next.next.next=ListNode(5)\n",
    "\n",
    "k=rotateRight(head,0)\n",
    "while k!=None:\n",
    "    print(k.val)\n",
    "    k=k.next"
   ]
  },
  {
   "cell_type": "markdown",
   "metadata": {},
   "source": [
    "# Question\n",
    "[82.Remove Duplicates from Sorted List II](https://leetcode.com/problems/remove-duplicates-from-sorted-list-ii/)\n",
    "\n",
    "## Plan\n",
    "1. Idea is to count the duplicate number as soon as new number is found then check the count, if the count is $1$ then add the number to linked list."
   ]
  },
  {
   "cell_type": "code",
   "execution_count": 16,
   "metadata": {},
   "outputs": [],
   "source": [
    "def deleteDuplicates(head):\n",
    "    if head==None:\n",
    "        return head\n",
    "    Result=ListNode('$')\n",
    "    Result.next=ListNode('%')\n",
    "    FlowResult,k=Result.next,1\n",
    "    while head.val!='#' and head!=None:\n",
    "        if head.next==None:\n",
    "            head.next=ListNode('#')\n",
    "        if head.val==head.next.val:\n",
    "            k+=1\n",
    "        else:\n",
    "            if k==1:\n",
    "                FlowResult.next=head\n",
    "                FlowResult=FlowResult.next\n",
    "            k=1\n",
    "        head=head.next\n",
    "    FlowResult.next=None\n",
    "    return Result.next.next\n",
    "                "
   ]
  },
  {
   "cell_type": "code",
   "execution_count": 17,
   "metadata": {},
   "outputs": [
    {
     "name": "stdout",
     "output_type": "stream",
     "text": [
      "4\n",
      "5\n"
     ]
    }
   ],
   "source": [
    "class ListNode:\n",
    "    def __init__(self,x):\n",
    "        self.val=x #store the data in the node\n",
    "        self.next=None #point the next node in the slinklist\n",
    "# Load the linked list\n",
    "head=ListNode(9)\n",
    "head.next=ListNode(1)\n",
    "head.next.next=ListNode(1)\n",
    "head.next.next.next=ListNode(1)\n",
    "head.next.next.next.next=ListNode(4)\n",
    "head.next.next.next.next.next=ListNode(5)\n",
    "\n",
    "k=deleteDuplicates(head.next)\n",
    "while k!=None:\n",
    "    print(k.val)\n",
    "    k=k.next"
   ]
  },
  {
   "cell_type": "markdown",
   "metadata": {},
   "source": [
    "# Question\n",
    "[83.Remove Duplicates from Sorted List](https://leetcode.com/problems/remove-duplicates-from-sorted-list/)\n",
    "\n",
    "## Plan\n",
    "1. Idea is to find the same number, if the number is same then ignore to add in the linked list and if not same then add to the\n",
    "linked list"
   ]
  },
  {
   "cell_type": "code",
   "execution_count": 18,
   "metadata": {},
   "outputs": [],
   "source": [
    "def deleteDuplicates(head):\n",
    "    if head=None:\n",
    "        return head\n",
    "    Result=ListNode('$')\n",
    "    Result.next=ListNode('%')\n",
    "    FlowResult=Result.next\n",
    "    while head.val!='#' and head!=None:\n",
    "        if head.next==None:\n",
    "            head.next=ListNode('#') # adding the sentinel\n",
    "        if head.val!=head.next.val:\n",
    "            FlowResult.next=head\n",
    "            FlowResult=FlowResult.next\n",
    "        head=head.next\n",
    "    FlowResult.next=None\n",
    "    return Result.next.next"
   ]
  },
  {
   "cell_type": "code",
   "execution_count": 20,
   "metadata": {},
   "outputs": [
    {
     "name": "stdout",
     "output_type": "stream",
     "text": [
      "1\n",
      "4\n"
     ]
    }
   ],
   "source": [
    "class ListNode:\n",
    "    def __init__(self,x):\n",
    "        self.val=x #store the data in the node\n",
    "        self.next=None #point the next node in the slinklist\n",
    "# Load the linked list\n",
    "head=ListNode(9)\n",
    "head.next=ListNode(1)\n",
    "head.next.next=ListNode(1)\n",
    "head.next.next.next=ListNode(1)\n",
    "head.next.next.next.next=ListNode(4)\n",
    "head.next.next.next.next.next=ListNode(4)\n",
    "\n",
    "k=deleteDuplicates(head.next)\n",
    "while k!=None:\n",
    "    print(k.val)\n",
    "    k=k.next"
   ]
  },
  {
   "cell_type": "code",
   "execution_count": null,
   "metadata": {},
   "outputs": [],
   "source": []
  },
  {
   "cell_type": "code",
   "execution_count": null,
   "metadata": {},
   "outputs": [],
   "source": []
  }
 ],
 "metadata": {
  "kernelspec": {
   "display_name": "Python 3",
   "language": "python",
   "name": "python3"
  },
  "language_info": {
   "codemirror_mode": {
    "name": "ipython",
    "version": 3
   },
   "file_extension": ".py",
   "mimetype": "text/x-python",
   "name": "python",
   "nbconvert_exporter": "python",
   "pygments_lexer": "ipython3",
   "version": "3.7.3"
  }
 },
 "nbformat": 4,
 "nbformat_minor": 2
}
