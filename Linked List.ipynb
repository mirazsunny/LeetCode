{
 "cells": [
  {
   "cell_type": "markdown",
   "metadata": {},
   "source": [
    "# Question\n",
    "[61.Rotate List](https://leetcode.com/problems/rotate-list/)\n",
    "\n",
    "## Plan\n",
    "1. Finding out at which point we need to "
   ]
  },
  {
   "cell_type": "code",
   "execution_count": 105,
   "metadata": {},
   "outputs": [],
   "source": [
    "def rotateRight(head,k):\n",
    "    ListofLinked,length=[],0\n",
    "    while head!=None:\n",
    "        ListofLinked+=[head]\n",
    "        head,length=head.next,length+1\n",
    "    if length==0:\n",
    "        return head\n",
    "    k=k%length\n",
    "    if k!=0:\n",
    "        ListofLinked[-k-1].next=None\n",
    "        ListofLinked[-1].next=ListofLinked[0]\n",
    "    return ListofLinked[-k]"
   ]
  },
  {
   "cell_type": "code",
   "execution_count": 106,
   "metadata": {},
   "outputs": [
    {
     "name": "stdout",
     "output_type": "stream",
     "text": [
      "9\n"
     ]
    }
   ],
   "source": [
    "class ListNode:\n",
    "    def __init__(self,x):\n",
    "        self.val=x #store the data in the node\n",
    "        self.next=None #point the next node in the slinklist\n",
    "# Load the linked list\n",
    "head=ListNode(9)\n",
    "#head.next=ListNode(1)\n",
    "#head.next.next=ListNode(2)\n",
    "#head.next.next.next=ListNode(3)\n",
    "#head.next.next.next.next=ListNode(4)\n",
    "#head.next.next.next.next.next=ListNode(5)\n",
    "\n",
    "k=rotateRight(head,0)\n",
    "while k!=None:\n",
    "    print(k.val)\n",
    "    k=k.next"
   ]
  },
  {
   "cell_type": "code",
   "execution_count": null,
   "metadata": {},
   "outputs": [],
   "source": []
  },
  {
   "cell_type": "code",
   "execution_count": null,
   "metadata": {},
   "outputs": [],
   "source": []
  }
 ],
 "metadata": {
  "kernelspec": {
   "display_name": "Python 3",
   "language": "python",
   "name": "python3"
  },
  "language_info": {
   "codemirror_mode": {
    "name": "ipython",
    "version": 3
   },
   "file_extension": ".py",
   "mimetype": "text/x-python",
   "name": "python",
   "nbconvert_exporter": "python",
   "pygments_lexer": "ipython3",
   "version": "3.7.3"
  }
 },
 "nbformat": 4,
 "nbformat_minor": 2
}
