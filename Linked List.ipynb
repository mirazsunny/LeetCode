{
 "cells": [
  {
   "cell_type": "markdown",
   "metadata": {},
   "source": [
    "# Question\n",
    "[21.Merge Two Sorted Lists](https://leetcode.com/problems/merge-two-sorted-lists/)\n",
    "\n",
    "## Plan (Recursive)"
   ]
  },
  {
   "cell_type": "code",
   "execution_count": 1,
   "metadata": {},
   "outputs": [],
   "source": [
    "def mergeTwoLists(l1, l2):\n",
    "    result=None\n",
    "    #base case\n",
    "    if not l1:\n",
    "        return l2\n",
    "    if not l2:\n",
    "        return l1\n",
    "    #Recursively compare head of the two list\n",
    "    if l1.val<=l2.val:\n",
    "        result=l1\n",
    "        result.next=mergeTwoLists(l1.next,l2)\n",
    "    else:\n",
    "        result=l2\n",
    "        result.next=mergeTwoLists(l1,l2.next)\n",
    "    return result"
   ]
  },
  {
   "cell_type": "code",
   "execution_count": 8,
   "metadata": {},
   "outputs": [
    {
     "name": "stdout",
     "output_type": "stream",
     "text": [
      "[-1, 1, 2, 3, 6, 6, 7, 7]\n"
     ]
    }
   ],
   "source": [
    "# See the next cell to find out how to load the linked list recursively\n",
    "p=mergeTwoLists(recursiveLoadLinked([1,2,6,7]),recursiveLoadLinked([-1,3,6,7]))\n",
    "result=[]\n",
    "while p:\n",
    "    result+=[p.val]\n",
    "    p=p.next\n",
    "print(result)"
   ]
  },
  {
   "cell_type": "markdown",
   "metadata": {},
   "source": [
    "## Load the linked list recursively from the array"
   ]
  },
  {
   "cell_type": "code",
   "execution_count": 11,
   "metadata": {},
   "outputs": [],
   "source": [
    "class ListNode:\n",
    "    def __init__(self,x):\n",
    "        self.val=x #store the data in the node\n",
    "        self.next=None #point the next node in the slinklist\n",
    "\n",
    "def recursiveLoadLinked(array,i=0):\n",
    "    result=None\n",
    "    #base case\n",
    "    if i==len(array):\n",
    "        return None\n",
    "    #recursively load the linked list\n",
    "    result=ListNode(array[i])\n",
    "    result.next=recursiveLoadLinked(array,i+1)\n",
    "    return result"
   ]
  },
  {
   "cell_type": "code",
   "execution_count": 7,
   "metadata": {},
   "outputs": [
    {
     "name": "stdout",
     "output_type": "stream",
     "text": [
      "[1, 2, 3]\n"
     ]
    }
   ],
   "source": [
    "k=recursiveLoadLinked([1,2,3])"
   ]
  },
  {
   "cell_type": "markdown",
   "metadata": {},
   "source": [
    "# Question\n",
    "[61.Rotate List](https://leetcode.com/problems/rotate-list/)\n",
    "\n",
    "## Plan\n",
    "        1. The is to compare two head recursively and put the lowest one as result\n",
    "        2. If one of the head reach to the end return the other list"
   ]
  },
  {
   "cell_type": "code",
   "execution_count": 105,
   "metadata": {},
   "outputs": [],
   "source": [
    "def rotateRight(head,k):\n",
    "    #finding out the k\n",
    "    ListofLinked,length=[],0\n",
    "    while head!=None:\n",
    "        ListofLinked+=[head]\n",
    "        head,length=head.next,length+1\n",
    "    if length==0:\n",
    "        return head\n",
    "    k=k%length\n",
    "    if k!=0:\n",
    "        ListofLinked[-k-1].next=None # Detouc the point\n",
    "        ListofLinked[-1].next=ListofLinked[0] #Linke the tail and head\n",
    "    return ListofLinked[-k]"
   ]
  },
  {
   "cell_type": "code",
   "execution_count": 106,
   "metadata": {},
   "outputs": [
    {
     "name": "stdout",
     "output_type": "stream",
     "text": [
      "9\n"
     ]
    }
   ],
   "source": [
    "class ListNode:\n",
    "    def __init__(self,x):\n",
    "        self.val=x #store the data in the node\n",
    "        self.next=None #point the next node in the slinklist\n",
    "# Load the linked list\n",
    "head=ListNode(9)\n",
    "#head.next=ListNode(1)\n",
    "#head.next.next=ListNode(2)\n",
    "#head.next.next.next=ListNode(3)\n",
    "#head.next.next.next.next=ListNode(4)\n",
    "#head.next.next.next.next.next=ListNode(5)\n",
    "\n",
    "k=rotateRight(head,0)\n",
    "while k!=None:\n",
    "    print(k.val)\n",
    "    k=k.next"
   ]
  },
  {
   "cell_type": "markdown",
   "metadata": {},
   "source": [
    "# Question\n",
    "[82.Remove Duplicates from Sorted List II](https://leetcode.com/problems/remove-duplicates-from-sorted-list-ii/)\n",
    "\n",
    "## Plan\n",
    "1. Idea is to count the duplicate number as soon as new number is found then check the count, if the count is $1$ then add the number to linked list."
   ]
  },
  {
   "cell_type": "code",
   "execution_count": 16,
   "metadata": {},
   "outputs": [],
   "source": [
    "def deleteDuplicates(head):\n",
    "    if head==None:\n",
    "        return head\n",
    "    Result=ListNode('$')\n",
    "    Result.next=ListNode('%')\n",
    "    FlowResult,k=Result.next,1\n",
    "    while head.val!='#' and head!=None:\n",
    "        if head.next==None:\n",
    "            head.next=ListNode('#')\n",
    "        if head.val==head.next.val:\n",
    "            k+=1\n",
    "        else:\n",
    "            if k==1:\n",
    "                FlowResult.next=head\n",
    "                FlowResult=FlowResult.next\n",
    "            k=1\n",
    "        head=head.next\n",
    "    FlowResult.next=None\n",
    "    return Result.next.next\n",
    "                "
   ]
  },
  {
   "cell_type": "code",
   "execution_count": 17,
   "metadata": {},
   "outputs": [
    {
     "name": "stdout",
     "output_type": "stream",
     "text": [
      "4\n",
      "5\n"
     ]
    }
   ],
   "source": [
    "class ListNode:\n",
    "    def __init__(self,x):\n",
    "        self.val=x #store the data in the node\n",
    "        self.next=None #point the next node in the slinklist\n",
    "# Load the linked list\n",
    "head=ListNode(9)\n",
    "head.next=ListNode(1)\n",
    "head.next.next=ListNode(1)\n",
    "head.next.next.next=ListNode(1)\n",
    "head.next.next.next.next=ListNode(4)\n",
    "head.next.next.next.next.next=ListNode(5)\n",
    "\n",
    "k=deleteDuplicates(head.next)\n",
    "while k!=None:\n",
    "    print(k.val)\n",
    "    k=k.next"
   ]
  },
  {
   "cell_type": "markdown",
   "metadata": {},
   "source": [
    "# Question\n",
    "[83.Remove Duplicates from Sorted List](https://leetcode.com/problems/remove-duplicates-from-sorted-list/)\n",
    "\n",
    "## Plan\n",
    "1. Idea is to find the same number, if the number is same then ignore to add in the linked list and if not same then add to the\n",
    "linked list"
   ]
  },
  {
   "cell_type": "code",
   "execution_count": 18,
   "metadata": {},
   "outputs": [],
   "source": [
    "def deleteDuplicates(head):\n",
    "    if head=None:\n",
    "        return head\n",
    "    Result=ListNode('$')\n",
    "    Result.next=ListNode('%')\n",
    "    FlowResult=Result.next\n",
    "    while head.val!='#' and head!=None:\n",
    "        if head.next==None:\n",
    "            head.next=ListNode('#') # adding the sentinel\n",
    "        if head.val!=head.next.val:\n",
    "            FlowResult.next=head\n",
    "            FlowResult=FlowResult.next\n",
    "        head=head.next\n",
    "    FlowResult.next=None\n",
    "    return Result.next.next"
   ]
  },
  {
   "cell_type": "code",
   "execution_count": 20,
   "metadata": {},
   "outputs": [
    {
     "name": "stdout",
     "output_type": "stream",
     "text": [
      "1\n",
      "4\n"
     ]
    }
   ],
   "source": [
    "class ListNode:\n",
    "    def __init__(self,x):\n",
    "        self.val=x #store the data in the node\n",
    "        self.next=None #point the next node in the slinklist\n",
    "# Load the linked list\n",
    "head=ListNode(9)\n",
    "head.next=ListNode(1)\n",
    "head.next.next=ListNode(1)\n",
    "head.next.next.next=ListNode(1)\n",
    "head.next.next.next.next=ListNode(4)\n",
    "head.next.next.next.next.next=ListNode(4)\n",
    "\n",
    "k=deleteDuplicates(head.next)\n",
    "while k!=None:\n",
    "    print(k.val)\n",
    "    k=k.next"
   ]
  },
  {
   "cell_type": "markdown",
   "metadata": {},
   "source": [
    "# Question\n",
    "[86.Partition List](https://leetcode.com/problems/partition-list/)\n",
    "\n",
    "## Plan\n",
    "    1. Creating Two linked list and after adding the value in the list based on the conditions adding the two list"
   ]
  },
  {
   "cell_type": "code",
   "execution_count": 1,
   "metadata": {},
   "outputs": [],
   "source": [
    "def partition(head,x):\n",
    "    List1=ListNode('#')\n",
    "    List1.next=ListNode('#1')\n",
    "    List1_Flow=List1.next\n",
    "    List2=ListNode('*')\n",
    "    List2.next=ListNode('*1')\n",
    "    List2_Flow=List2.next\n",
    "    while head!=None:\n",
    "        if head.val<x:\n",
    "            List1_Flow.next=head\n",
    "            List1_Flow=List1_Flow.next\n",
    "        else:\n",
    "            List2_Flow.next=head\n",
    "            List2_Flow=List2_Flow.next\n",
    "        head=head.next\n",
    "    List2_Flow.next=None\n",
    "    List1_Flow.next=List2.next.next\n",
    "    return List1.next.next"
   ]
  },
  {
   "cell_type": "code",
   "execution_count": 3,
   "metadata": {},
   "outputs": [
    {
     "name": "stdout",
     "output_type": "stream",
     "text": [
      "1\n",
      "4\n",
      "3\n",
      "2\n",
      "2\n",
      "5\n"
     ]
    }
   ],
   "source": [
    "class ListNode:\n",
    "    def __init__(self,x):\n",
    "        self.val=x #store the data in the node\n",
    "        self.next=None #point the next node in the slinklist\n",
    "# Load the linked list\n",
    "head=ListNode(1)\n",
    "head.next=ListNode(4)\n",
    "head.next.next=ListNode(3)\n",
    "head.next.next.next=ListNode(2)\n",
    "head.next.next.next.next=ListNode(5)\n",
    "head.next.next.next.next.next=ListNode(2)\n",
    "\n",
    "k=partition(head,5)\n",
    "while k!=None:\n",
    "    print(k.val)\n",
    "    k=k.next"
   ]
  },
  {
   "cell_type": "markdown",
   "metadata": {},
   "source": [
    "# Question\n",
    "[92.Reverse Linked List II](https://leetcode.com/problems/reverse-linked-list-ii/)\n",
    "\n",
    "## Plan\n",
    "    1. The idea is to add a dummy number at the beginning of the head.\n",
    "    2. Store the beginning of m and next node of m.\n",
    "    3. Then do the reverse as we do\n",
    "    4. At last join the the beginning and reverse and next node of beginning to the end"
   ]
  },
  {
   "cell_type": "code",
   "execution_count": 43,
   "metadata": {},
   "outputs": [],
   "source": [
    "def reverseBetween(head,m,n):\n",
    "    if m==n: # if starting and end point same there is no need to reverse any part\n",
    "        return head\n",
    "    F_head=ListNode('*') # To tackle the edge case i.e if it's start from 1 \n",
    "                        # (we can insert the new node only in the next position)\n",
    "    F_head.next=head # Store the given linked list in the new linked list\n",
    "    Result=ListNode('#') # to store the result\n",
    "    Result.next=F_head # storing the result where all the reversion will take place\n",
    "    head=F_head\n",
    "    Reverse=None # to do the reverse\n",
    "    i=1\n",
    "    while i<=n+1: # n become n+1 because new element inserted at the beginning\n",
    "        if i==m: # between two points where reverse list need to be stored\n",
    "            FirstPart=head\n",
    "            head=head.next\n",
    "            SecondPart=head\n",
    "        elif i>m: # reversing the linked list\n",
    "            Temp=head.next\n",
    "            head.next=None\n",
    "            head.next=Reverse\n",
    "            Reverse=head\n",
    "            head=Temp\n",
    "        else:\n",
    "            head=head.next\n",
    "        i+=1\n",
    "    FirstPart.next=Reverse \n",
    "    SecondPart.next=head\n",
    "    return Result.next.next"
   ]
  },
  {
   "cell_type": "code",
   "execution_count": 48,
   "metadata": {},
   "outputs": [
    {
     "name": "stdout",
     "output_type": "stream",
     "text": [
      "1\n",
      "4\n",
      "3\n",
      "2\n",
      "5\n",
      "6\n"
     ]
    }
   ],
   "source": [
    "class ListNode:\n",
    "    def __init__(self,x):\n",
    "        self.val=x #store the data in the node\n",
    "        self.next=None #point the next node in the slinklist\n",
    "# Load the linked list\n",
    "head=ListNode(1)\n",
    "head.next=ListNode(4)\n",
    "head.next.next=ListNode(3)\n",
    "head.next.next.next=ListNode(2)\n",
    "head.next.next.next.next=ListNode(5)\n",
    "head.next.next.next.next.next=ListNode(6)\n",
    "\n",
    "k=reverseBetween(head,6,6)\n",
    "while k!=None:\n",
    "    print(k.val)\n",
    "    k=k.next"
   ]
  },
  {
   "cell_type": "markdown",
   "metadata": {},
   "source": [
    "# Question\n",
    "[138.Copy List with Random Pointer](https://leetcode.com/problems/copy-list-with-random-pointer/)\n",
    "\n",
    "## Plan (using hash map)\n",
    "    1. The idea to save the next and random node in a dictionary where the key is node itself at the same time create a new node corresponding to the node.\n",
    "    2. The go to each key and take the node replace the next and random node (the new node)"
   ]
  },
  {
   "cell_type": "code",
   "execution_count": null,
   "metadata": {},
   "outputs": [],
   "source": [
    "def copyRandomList(self, head: 'Node') -> 'Node':\n",
    "    if not head:\n",
    "        return None\n",
    "    Result=head\n",
    "    copy_dict={}\n",
    "    while head:\n",
    "        copy_dict[head]=(head.next,head.random,Node(head.val))\n",
    "        head=head.next\n",
    "    for key in copy_dict:\n",
    "        copy_dict[key][-1].next=copy_dict[copy_dict[key][0]][-1] if copy_dict[key][0] else None\n",
    "        copy_dict[key][-1].random=copy_dict[copy_dict[key][1]][-1] if copy_dict[key][1] else None\n",
    "    return copy_dict[Result][-1]"
   ]
  },
  {
   "cell_type": "markdown",
   "metadata": {},
   "source": [
    "# Question\n",
    "[141.Linked List Cycle](https://leetcode.com/problems/linked-list-cycle/)\n",
    "\n",
    "## Plan (using two pointer)\n",
    "    1. There will be two pointer one pointer will go to one step and another pointer will go two steps\n",
    "    2. When two pointer will match then there will be a cycle, if fast pointer will reach to the end then return False"
   ]
  },
  {
   "cell_type": "code",
   "execution_count": 1,
   "metadata": {},
   "outputs": [],
   "source": [
    "def hasCycle(head):\n",
    "    if not head or not head.next:\n",
    "        return False\n",
    "    slow=head\n",
    "    fast=head.next\n",
    "    while slow!=fast:\n",
    "        if not fast or not fast.next:\n",
    "            return False\n",
    "        slow=slow.next\n",
    "        fast=fast.next.next\n",
    "    return True"
   ]
  },
  {
   "cell_type": "markdown",
   "metadata": {},
   "source": [
    "# Question\n",
    "[142.Linked List Cycle II](https://leetcode.com/problems/linked-list-cycle-ii/)\n",
    "\n",
    "## Plan (using two pointer and floyd cycle algorithm)\n",
    "    1. There will be two pointer one pointer will go to one step and another pointer will go two steps\n",
    "    2. When two pointer will match then there will be a cycle, if fast pointer will reach to the end then return False\n",
    "    3. Then we are going to find out when cycle starts:\n",
    "        - We will start again from the head and the node which collide move one step at a time when it will collide each other again then this will be start of the cycle"
   ]
  },
  {
   "cell_type": "code",
   "execution_count": 2,
   "metadata": {},
   "outputs": [],
   "source": [
    "def hasCycle(head):\n",
    "    if not head or not head.next:\n",
    "        return None\n",
    "    slow=head\n",
    "    fast=head.next\n",
    "    start=head\n",
    "    while slow!=fast:\n",
    "        if not fast or not fast.next:\n",
    "            return None\n",
    "        slow=slow.next\n",
    "        fast=fast.next.next\n",
    "    slow=slow.next\n",
    "    while start!=slow:\n",
    "        start,slow=start.next,slow.next\n",
    "    return slow"
   ]
  },
  {
   "cell_type": "markdown",
   "metadata": {},
   "source": [
    "# Question\n",
    "[143. Reorder List](https://leetcode.com/problems/reorder-list/)\n",
    "\n",
    "## Plan (using two pointer and reversing the linked list)\n",
    "    1. Using two pointer go to the half of the linked list and place the $#$ in every even position\n",
    "    2. Then reversing the rest of the linked list\n",
    "    3. Now replace the even with the reverse linked list"
   ]
  },
  {
   "cell_type": "code",
   "execution_count": 5,
   "metadata": {},
   "outputs": [],
   "source": [
    "def reorderList(head):\n",
    "    if head:\n",
    "        start,fast,reverse=head,head,None\n",
    "        while fast and fast.next:\n",
    "            fast=fast.next.next\n",
    "            temp=head.next\n",
    "            head.next=ListNode('#')\n",
    "            head.next.next=temp\n",
    "            head=head.next.next\n",
    "        if fast:\n",
    "            head=head.next\n",
    "        while head:\n",
    "            temp=head.next\n",
    "            head.next=reverse\n",
    "            reverse=head\n",
    "            head=temp\n",
    "        while reverse:\n",
    "            temp=start.next.next\n",
    "            start.next=reverse\n",
    "            reverse=reverse.next\n",
    "            start.next.next=temp\n",
    "            start=temp\n",
    "        start.next=None"
   ]
  },
  {
   "cell_type": "code",
   "execution_count": null,
   "metadata": {},
   "outputs": [],
   "source": []
  },
  {
   "cell_type": "markdown",
   "metadata": {},
   "source": [
    "# Question\n",
    "[147.Insertion Sort List](https://leetcode.com/problems/insertion-sort-list/)\n",
    "\n",
    "## Plan (using two pointer)\n",
    "    1. One pointer will for search another for enter, if search val less than enter value then enter it"
   ]
  },
  {
   "cell_type": "code",
   "execution_count": 1,
   "metadata": {},
   "outputs": [],
   "source": [
    "def insertionSortList(head):\n",
    "    if not head:\n",
    "        return None\n",
    "    search=head.next\n",
    "    search_previous=head\n",
    "    Dummy=ListNode('#')\n",
    "    Dummy.next=head\n",
    "    while search:\n",
    "        start_previous=Dummy\n",
    "        start=Dummy.next\n",
    "        inc=True\n",
    "        while start!=search:\n",
    "            if search.val<=start.val:\n",
    "                inc=False\n",
    "                Temp=search.next\n",
    "                start_previous.next=search\n",
    "                search.next=start\n",
    "                search_previous.next=Temp\n",
    "                search=Temp\n",
    "                break\n",
    "            else:\n",
    "                start_previous=start_previous.next\n",
    "                start=start.next\n",
    "        if inc:\n",
    "            search=search.next\n",
    "            search_previous=search_previous.next\n",
    "    return Dummy.next"
   ]
  },
  {
   "cell_type": "markdown",
   "metadata": {},
   "source": [
    "# Question\n",
    "[148. Sort List](https://leetcode.com/problems/sort-list/)\n",
    "\n",
    "## Plan\n",
    "    1. Merge sort is used to sort the linked list\n",
    "    2. For the merge sort the list divided into two half untill reaches to the one value\n",
    "    3. Then recursively sort the list\n",
    "    4. For the linked list:\n",
    "            - We need middle point two divide the linked list into two half\n",
    "            - Sort the linked list recursively\n",
    "            - We need to merge each half\n",
    "       "
   ]
  },
  {
   "cell_type": "code",
   "execution_count": 39,
   "metadata": {},
   "outputs": [],
   "source": [
    "def sortlist(head):\n",
    "    if not head or not head.next:\n",
    "        return head\n",
    "    mid=getmiddle(head) # To divide the linkedlist into two half\n",
    "    nextmid=mid.next # Second half\n",
    "    mid.next=None # For the first half set the next to None\n",
    "    left=sortlist(head) # Recursively sort the left\n",
    "    right=sortlist(nextmid) # Recursively sort the right\n",
    "    print('lr',getvalue(left),getvalue(right))\n",
    "    sortedlist=merge(left,right) # merge left and right\n",
    "    return sortedlist\n",
    "\n",
    "def getmiddle(head):\n",
    "    slow=head\n",
    "    fast=head.next\n",
    "    while fast and fast.next:\n",
    "        slow=slow.next\n",
    "        fast=fast.next.next\n",
    "    return slow\n",
    "\n",
    "def merge(a,b):\n",
    "    result=None\n",
    "    #base case\n",
    "    if not a:\n",
    "        return b\n",
    "    if not b:\n",
    "        return a\n",
    "    #recursively compare the head of the two linked lisst\n",
    "    if a.val<=b.val:\n",
    "        result=a\n",
    "        result.next=merge(a.next,b)\n",
    "    else:\n",
    "        result=b\n",
    "        result.next=merge(a,b.next)\n",
    "    return result\n",
    "def getvalue(head):\n",
    "    val=[]\n",
    "    while head:\n",
    "        val+=[head.val]\n",
    "        head=head.next\n",
    "    return val"
   ]
  },
  {
   "cell_type": "code",
   "execution_count": 40,
   "metadata": {},
   "outputs": [
    {
     "name": "stdout",
     "output_type": "stream",
     "text": [
      "[-1, 1, 2, 2]\n"
     ]
    }
   ],
   "source": [
    "m=merge(recursiveLoadLinked([-1,2]),recursiveLoadLinked([1,2]))\n",
    "result=[]\n",
    "while m:\n",
    "    result+=[m.val]\n",
    "    m=m.next\n",
    "print(result)"
   ]
  },
  {
   "cell_type": "markdown",
   "metadata": {},
   "source": [
    "[Load the linked list](http://localhost:8888/notebooks/Linked%20List.ipynb#Load-the-linked-list-recursively-from-the-array)"
   ]
  },
  {
   "cell_type": "code",
   "execution_count": 41,
   "metadata": {},
   "outputs": [
    {
     "name": "stdout",
     "output_type": "stream",
     "text": [
      "lr [-1] [2]\n",
      "lr [-1, 2] [1]\n",
      "lr [4] [-2]\n",
      "lr [-1, 1, 2] [-2, 4]\n",
      "[-2, -1, 1, 2, 4]\n"
     ]
    }
   ],
   "source": [
    "p=sortlist(recursiveLoadLinked([-1,2,1,4,-2]))\n",
    "result=[]\n",
    "while p:\n",
    "    result+=[p.val]\n",
    "    p=p.next\n",
    "print(result)"
   ]
  },
  {
   "cell_type": "markdown",
   "metadata": {},
   "source": [
    "# Question\n",
    "[23.Merge k Sorted Lists](https://leetcode.com/problems/merge-k-sorted-lists/)\n",
    "\n",
    "## Plan\n",
    "        1. Pair up the LinkedList as the first one and last one from the list and merge them continuing the process untill there is only one node left"
   ]
  },
  {
   "cell_type": "code",
   "execution_count": 42,
   "metadata": {},
   "outputs": [],
   "source": [
    "def mergeKLists(lists):\n",
    "    if not len(lists):\n",
    "        return None\n",
    "    while len(lists)-1:\n",
    "        length=len(lists)//2\n",
    "        for i in range(length):\n",
    "            lists[i]=merge(lists[i],lists.pop())\n",
    "    return lists.pop()\n",
    "\n",
    "def merge(a,b):\n",
    "    result=None\n",
    "    if not a:\n",
    "        return b\n",
    "    if not b:\n",
    "        return a\n",
    "    if a.val<=b.val:\n",
    "        result=a\n",
    "        result.next=merge(a.next,b)\n",
    "    else:\n",
    "        result=b\n",
    "        result.next=merge(a,b.next)\n",
    "    return result"
   ]
  },
  {
   "cell_type": "code",
   "execution_count": 45,
   "metadata": {},
   "outputs": [
    {
     "data": {
      "text/plain": [
       "[1, 1, 2, 2, 3, 9]"
      ]
     },
     "execution_count": 45,
     "metadata": {},
     "output_type": "execute_result"
    }
   ],
   "source": [
    "getvalue(mergeKLists([recursiveLoadLinked([1,2,3]),recursiveLoadLinked([1,2,9])]))"
   ]
  },
  {
   "cell_type": "code",
   "execution_count": null,
   "metadata": {},
   "outputs": [],
   "source": []
  }
 ],
 "metadata": {
  "kernelspec": {
   "display_name": "Python 3",
   "language": "python",
   "name": "python3"
  },
  "language_info": {
   "codemirror_mode": {
    "name": "ipython",
    "version": 3
   },
   "file_extension": ".py",
   "mimetype": "text/x-python",
   "name": "python",
   "nbconvert_exporter": "python",
   "pygments_lexer": "ipython3",
   "version": "3.7.3"
  }
 },
 "nbformat": 4,
 "nbformat_minor": 2
}
