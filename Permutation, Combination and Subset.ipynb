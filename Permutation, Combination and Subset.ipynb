{
 "cells": [
  {
   "cell_type": "markdown",
   "metadata": {},
   "source": [
    "# Powerset\n",
    "## Question\n",
    "[78.Subsets](https://leetcode.com/problems/subsets/)\n",
    "\n",
    "## Plan 1 (Linear)\n",
    "1. Starting from the empty subset in each step take one integer into consideration and generate subsets from the existing ones"
   ]
  },
  {
   "cell_type": "code",
   "execution_count": 1,
   "metadata": {},
   "outputs": [],
   "source": [
    "def subsets(nums):\n",
    "    Output=[[]]\n",
    "    for num in nums:\n",
    "        Output+=[curr+[num] for curr in Output]\n",
    "    return Output"
   ]
  },
  {
   "cell_type": "code",
   "execution_count": 2,
   "metadata": {},
   "outputs": [
    {
     "data": {
      "text/plain": [
       "[[], [1], [2], [1, 2], [3], [1, 3], [2, 3], [1, 2, 3]]"
      ]
     },
     "execution_count": 2,
     "metadata": {},
     "output_type": "execute_result"
    }
   ],
   "source": [
    "subsets([1,2,3])"
   ]
  },
  {
   "cell_type": "markdown",
   "metadata": {},
   "source": [
    "## Plan 2 (Recursive)\n",
    " 1. Similar to the previous one (just doing it reccursively)"
   ]
  },
  {
   "cell_type": "code",
   "execution_count": 3,
   "metadata": {},
   "outputs": [],
   "source": [
    "def subsets(nums):\n",
    "    Output=[]\n",
    "    curr=[]\n",
    "    start=0\n",
    "    return rec_subsets(nums,Output,curr,start)\n",
    "def rec_subsets(nums,Output,curr,start):\n",
    "    Output.append(curr)\n",
    "    if start>=len(nums):\n",
    "        return\n",
    "    for i in range(start,len(nums)):\n",
    "        rec_subsets(nums,Output,curr+[nums[i]],i+1)\n",
    "    return Output"
   ]
  },
  {
   "cell_type": "code",
   "execution_count": 4,
   "metadata": {},
   "outputs": [
    {
     "data": {
      "text/plain": [
       "[[], [1], [1, 2], [1, 2, 3], [1, 3], [2], [2, 3], [3]]"
      ]
     },
     "execution_count": 4,
     "metadata": {},
     "output_type": "execute_result"
    }
   ],
   "source": [
    "subsets([1,2,3])"
   ]
  },
  {
   "cell_type": "markdown",
   "metadata": {},
   "source": [
    "## Plan 3 (Recursive Backtracking)\n",
    "1. Add element recursively untill reach to the end of the list\n",
    "2. Backtrack at each step"
   ]
  },
  {
   "cell_type": "code",
   "execution_count": 5,
   "metadata": {},
   "outputs": [],
   "source": [
    "def subsets(nums):\n",
    "    Output=[]\n",
    "    curr=[]\n",
    "    start=0\n",
    "    return rec_subsets(nums,Output,curr,start)\n",
    "def rec_subsets(nums,Output,curr,start):\n",
    "    Output.append(curr[:])\n",
    "    if start>=len(nums):\n",
    "        return\n",
    "    for i in range(start,len(nums)):\n",
    "        curr+=[nums[i]]\n",
    "        rec_subsets(nums,Output,curr,i+1)\n",
    "        curr.pop() #backtracing\n",
    "    return Output"
   ]
  },
  {
   "cell_type": "code",
   "execution_count": 6,
   "metadata": {},
   "outputs": [
    {
     "data": {
      "text/plain": [
       "[[], [1], [1, 2], [1, 2, 3], [1, 3], [2], [2, 3], [3]]"
      ]
     },
     "execution_count": 6,
     "metadata": {},
     "output_type": "execute_result"
    }
   ],
   "source": [
    "subsets([1,2,3])"
   ]
  },
  {
   "cell_type": "markdown",
   "metadata": {},
   "source": [
    "## Question\n",
    "[90.Subsets II](https://leetcode.com/problems/subsets-ii/)\n",
    "\n",
    "## Plan 1 (Recursive)\n",
    "1. Same as the subset"
   ]
  },
  {
   "cell_type": "code",
   "execution_count": 19,
   "metadata": {},
   "outputs": [],
   "source": [
    "def subsetsWithDup(nums):\n",
    "    nums.sort()\n",
    "    curr=[]\n",
    "    output=[]\n",
    "    start=0\n",
    "    return rec_subsetsWithDup(nums,curr,output,start)\n",
    "def rec_subsetsWithDup(nums,curr,output,start):\n",
    "    output.append(curr[:])\n",
    "    if start>=len(nums):\n",
    "        return\n",
    "    visited=[]\n",
    "    for i in range(start,len(nums)):\n",
    "        if nums[i] not in visited:\n",
    "            visited+=[nums[i]]\n",
    "            rec_subsetsWithDup(nums,curr+[nums[i]],output,i+1)\n",
    "    return output"
   ]
  },
  {
   "cell_type": "code",
   "execution_count": 20,
   "metadata": {},
   "outputs": [
    {
     "data": {
      "text/plain": [
       "[[],\n",
       " [1],\n",
       " [1, 4],\n",
       " [1, 4, 4],\n",
       " [1, 4, 4, 4],\n",
       " [1, 4, 4, 4, 4],\n",
       " [4],\n",
       " [4, 4],\n",
       " [4, 4, 4],\n",
       " [4, 4, 4, 4]]"
      ]
     },
     "execution_count": 20,
     "metadata": {},
     "output_type": "execute_result"
    }
   ],
   "source": [
    "subsetsWithDup([4,1,4,4,4])"
   ]
  },
  {
   "cell_type": "markdown",
   "metadata": {},
   "source": [
    "## Plan 2 (Recursive Backtracking)"
   ]
  },
  {
   "cell_type": "code",
   "execution_count": 21,
   "metadata": {},
   "outputs": [],
   "source": [
    "def subsetsWithDup(nums):\n",
    "    nums.sort()\n",
    "    curr=[]\n",
    "    output=[]\n",
    "    start=0\n",
    "    return rec_subsetsWithDup(nums,curr,output,start)\n",
    "def rec_subsetsWithDup(nums,curr,output,start):\n",
    "    output.append(curr[:])\n",
    "    if start>=len(nums):\n",
    "        return\n",
    "    visited=[]\n",
    "    for i in range(start,len(nums)):\n",
    "        if nums[i] not in visited:\n",
    "            curr+=[nums[i]]\n",
    "            visited+=[nums[i]]\n",
    "            rec_subsetsWithDup(nums,curr,output,i+1)\n",
    "            curr.pop()\n",
    "    return output"
   ]
  },
  {
   "cell_type": "code",
   "execution_count": 22,
   "metadata": {},
   "outputs": [
    {
     "data": {
      "text/plain": [
       "[[],\n",
       " [1],\n",
       " [1, 4],\n",
       " [1, 4, 4],\n",
       " [1, 4, 4, 4],\n",
       " [1, 4, 4, 4, 4],\n",
       " [4],\n",
       " [4, 4],\n",
       " [4, 4, 4],\n",
       " [4, 4, 4, 4]]"
      ]
     },
     "execution_count": 22,
     "metadata": {},
     "output_type": "execute_result"
    }
   ],
   "source": [
    "subsetsWithDup([1,4,4,4,4])"
   ]
  },
  {
   "cell_type": "markdown",
   "metadata": {},
   "source": [
    "## Question\n",
    "[93.Restore IP Addresses](https://leetcode.com/problems/restore-ip-addresses/)\n",
    "\n",
    "## Plan 1 (Recursion)\n",
    "1. In each step go to "
   ]
  },
  {
   "cell_type": "code",
   "execution_count": 6,
   "metadata": {},
   "outputs": [],
   "source": [
    "def restoreIpAddresses(s):\n",
    "    if len(s)<4 or len(s)>12:\n",
    "        return []\n",
    "    else:\n",
    "        return AuxRestoreIpAddresses(s,Curr='',count=4,SubRes='',Result=[],k=len(s)+4)\n",
    "\n",
    "def AuxRestoreIpAddresses(s,Curr,count,SubRes,Result,k):\n",
    "    if count<0:\n",
    "        if len(s)==0 and len(SubRes)==k:\n",
    "            Result+=[SubRes[:-1][:]]\n",
    "            return\n",
    "        else:\n",
    "            count+=1\n",
    "            return\n",
    "    elif count>len(s):\n",
    "        count+=1\n",
    "        return\n",
    "    elif count<4:\n",
    "        if len(Curr)==1:\n",
    "            if 0<=int(Curr)<=9:\n",
    "                SubRes+=Curr+'.'\n",
    "            else:\n",
    "                count+=1\n",
    "                return \n",
    "        elif len(Curr)==2:\n",
    "            if 10<=int(Curr)<=99:\n",
    "                SubRes+=Curr+'.'\n",
    "            else:\n",
    "                count+=1\n",
    "                return \n",
    "        else:\n",
    "            if 100<=int(Curr)<=256:\n",
    "                SubRes+=Curr+'.'\n",
    "            else:\n",
    "                count+=1\n",
    "                return    \n",
    "    for i in range(1,4):\n",
    "        AuxRestoreIpAddresses(s[i:],s[:i],count-1,SubRes,Result,k)\n",
    "    return Result"
   ]
  },
  {
   "cell_type": "code",
   "execution_count": 7,
   "metadata": {},
   "outputs": [
    {
     "data": {
      "text/plain": [
       "['2.5.5.56',\n",
       " '2.5.5.56',\n",
       " '2.5.5.56',\n",
       " '2.5.5.56',\n",
       " '2.5.5.56',\n",
       " '2.5.5.56',\n",
       " '2.5.55.6',\n",
       " '2.5.55.6',\n",
       " '2.5.55.6',\n",
       " '2.5.55.6',\n",
       " '2.5.55.6',\n",
       " '2.5.55.6',\n",
       " '2.5.55.6',\n",
       " '2.5.55.6',\n",
       " '2.5.55.6',\n",
       " '2.55.5.6',\n",
       " '2.55.5.6',\n",
       " '2.55.5.6',\n",
       " '2.55.5.6',\n",
       " '2.55.5.6',\n",
       " '2.55.5.6',\n",
       " '2.55.5.6',\n",
       " '2.55.5.6',\n",
       " '2.55.5.6',\n",
       " '25.5.5.6',\n",
       " '25.5.5.6',\n",
       " '25.5.5.6',\n",
       " '25.5.5.6',\n",
       " '25.5.5.6',\n",
       " '25.5.5.6',\n",
       " '25.5.5.6',\n",
       " '25.5.5.6',\n",
       " '25.5.5.6']"
      ]
     },
     "execution_count": 7,
     "metadata": {},
     "output_type": "execute_result"
    }
   ],
   "source": [
    "restoreIpAddresses('25556')"
   ]
  },
  {
   "cell_type": "code",
   "execution_count": null,
   "metadata": {},
   "outputs": [],
   "source": []
  }
 ],
 "metadata": {
  "kernelspec": {
   "display_name": "Python 3",
   "language": "python",
   "name": "python3"
  },
  "language_info": {
   "codemirror_mode": {
    "name": "ipython",
    "version": 3
   },
   "file_extension": ".py",
   "mimetype": "text/x-python",
   "name": "python",
   "nbconvert_exporter": "python",
   "pygments_lexer": "ipython3",
   "version": "3.7.3"
  }
 },
 "nbformat": 4,
 "nbformat_minor": 2
}
