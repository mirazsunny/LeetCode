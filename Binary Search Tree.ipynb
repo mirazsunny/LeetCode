{
 "cells": [
  {
   "cell_type": "markdown",
   "metadata": {},
   "source": [
    "# Tree Traversal \n",
    "## Depth First"
   ]
  },
  {
   "cell_type": "code",
   "execution_count": 7,
   "metadata": {},
   "outputs": [],
   "source": [
    "#Definition for a binary tree node.\n",
    "class TreeNode:\n",
    " def __init__(self, x):\n",
    "     self.val = x\n",
    "     self.left = None\n",
    "     self.right = None"
   ]
  },
  {
   "cell_type": "markdown",
   "metadata": {},
   "source": [
    "## Inorder\n",
    "[94.Binary Tree Inorder Traversal](https://leetcode.com/problems/binary-tree-inorder-traversal/)\n",
    "### $Left->Root->Right$"
   ]
  },
  {
   "cell_type": "code",
   "execution_count": null,
   "metadata": {},
   "outputs": [],
   "source": [
    "#Using Recursively\n",
    "def Inorder(Root,Result=[]):\n",
    "    if Root:\n",
    "        Inorder(Root.left)\n",
    "        Result+=[Root.val]\n",
    "        Inorder(Root.right)\n",
    "    return Result"
   ]
  },
  {
   "cell_type": "code",
   "execution_count": null,
   "metadata": {},
   "outputs": [],
   "source": [
    "#Load the tree\n",
    "Root=TreeNode(3)\n",
    "Root.left=TreeNode(4)\n",
    "Root.right=TreeNode(5)\n",
    "Root.left.left=TreeNode(1)\n",
    "Root.left.right=TreeNode(2)\n",
    "Root.right.left=TreeNode(6)\n",
    "##Driver Program##\n",
    "Inorder(Root)"
   ]
  },
  {
   "cell_type": "markdown",
   "metadata": {},
   "source": [
    "## Inorder Iterative Solution\n",
    "    1. We need to traverse from left to root to right.\n",
    "    2. We will start a list with the root node.\n",
    "    3. If the node is not empty (None) we replace last node with the right node, root node and left node.\n",
    "    4. If the last node is None we will start printing last node value"
   ]
  },
  {
   "cell_type": "code",
   "execution_count": null,
   "metadata": {},
   "outputs": [],
   "source": [
    "def InorderIterative(Root):\n",
    "    ListofNode,Result=[Root],[]\n",
    "    while len(ListofNode):\n",
    "        Node=ListofNode.pop()\n",
    "        if Node:\n",
    "            ListofNode+=[Node.right]\n",
    "            ListofNode+=[Node]\n",
    "            ListofNode+=[Node.left]\n",
    "        else:\n",
    "            if len(ListofNode):\n",
    "                Result+=[ListofNode.pop().val]\n",
    "    return Result"
   ]
  },
  {
   "cell_type": "code",
   "execution_count": null,
   "metadata": {},
   "outputs": [],
   "source": [
    "#Load the tree\n",
    "Root=TreeNode(3)\n",
    "Root.left=TreeNode(4)\n",
    "Root.right=TreeNode(5)\n",
    "Root.left.left=TreeNode(1)\n",
    "Root.left.right=TreeNode(2)\n",
    "Root.right.left=TreeNode(6)\n",
    "##Driver Program##\n",
    "InorderIterative(Root)"
   ]
  },
  {
   "cell_type": "markdown",
   "metadata": {},
   "source": [
    "## Preorder\n",
    "[144.Binary Tree Preorder Traversal](https://leetcode.com/problems/binary-tree-preorder-traversal/)\n",
    "### $Root->Left->Right$"
   ]
  },
  {
   "cell_type": "code",
   "execution_count": null,
   "metadata": {},
   "outputs": [],
   "source": [
    "def Preorder(Root,Result=[]):\n",
    "    if Root:\n",
    "        Result+=[Root.val]\n",
    "        Preorder(Root.left)\n",
    "        Preorder(Root.right)\n",
    "    return Result"
   ]
  },
  {
   "cell_type": "code",
   "execution_count": null,
   "metadata": {},
   "outputs": [],
   "source": [
    "#Load the tree\n",
    "Root=TreeNode(3)\n",
    "Root.left=TreeNode(4)\n",
    "Root.right=TreeNode(5)\n",
    "Root.left.left=TreeNode(1)\n",
    "Root.left.right=TreeNode(2)\n",
    "Root.right.left=TreeNode(6)\n",
    "##Driver Program##\n",
    "Preorder(Root)"
   ]
  },
  {
   "cell_type": "markdown",
   "metadata": {},
   "source": [
    "## Preorder Iterative Solution\n",
    "    1. Each node value will be added to the list\n",
    "    2. Then each node will be replaced by its right node and left node"
   ]
  },
  {
   "cell_type": "code",
   "execution_count": null,
   "metadata": {},
   "outputs": [],
   "source": [
    "def PreorderIterative(Root):\n",
    "    ListofNode,Result=[Root],[]\n",
    "    while len(ListofNode):\n",
    "        Node=ListofNode.pop()\n",
    "        if Node:\n",
    "            Result+=[Node.val]\n",
    "            ListofNode+=[Node.right]\n",
    "            ListofNode+=[Node.left]\n",
    "    return Result"
   ]
  },
  {
   "cell_type": "code",
   "execution_count": null,
   "metadata": {},
   "outputs": [],
   "source": [
    "#Load the tree\n",
    "Root=TreeNode(3)\n",
    "Root.left=TreeNode(4)\n",
    "Root.right=TreeNode(5)\n",
    "Root.left.left=TreeNode(1)\n",
    "Root.left.right=TreeNode(2)\n",
    "Root.right.left=TreeNode(6)\n",
    "##Driver Program##\n",
    "PreorderIterative(Root)"
   ]
  },
  {
   "cell_type": "markdown",
   "metadata": {},
   "source": [
    "## Postorder\n",
    "[145.Binary Tree Postorder Traversal](https://leetcode.com/problems/binary-tree-postorder-traversal/)\n",
    "### $Left->Right->Root$"
   ]
  },
  {
   "cell_type": "code",
   "execution_count": null,
   "metadata": {},
   "outputs": [],
   "source": [
    "def Postorder(Root,Result=[]):\n",
    "    if Root:\n",
    "        Postorder(Root.left)\n",
    "        Postorder(Root.right)\n",
    "        Result+=[Root.val]\n",
    "    return Result"
   ]
  },
  {
   "cell_type": "code",
   "execution_count": null,
   "metadata": {},
   "outputs": [],
   "source": [
    "#Load the tree\n",
    "Root=TreeNode(3)\n",
    "Root.left=TreeNode(4)\n",
    "Root.right=TreeNode(5)\n",
    "Root.left.left=TreeNode(1)\n",
    "Root.left.right=TreeNode(2)\n",
    "Root.right.left=TreeNode(6)\n",
    "##Driver Program##\n",
    "Postorder(Root)"
   ]
  },
  {
   "cell_type": "markdown",
   "metadata": {},
   "source": [
    "## Postorder Iterative Solution\n",
    "1. The idea is to print Left, Right and Root\n",
    "2. First store all the left nodes in a list called $LeftRoots$, untill there is no more left most node\n",
    "3. Pop out the last node \n",
    "    - if the node has right value Transfer the node into seperate List of List called $RightRoots$ last list and add the $[None, right]$ in $LeftRoots$\n",
    "    - if the node is $None$ add the Reverse value of $RightRoots[-1]$ into the $Result$ and pop out the list\n",
    "    - otherwise add the value to the Result\n",
    "4. Return Result"
   ]
  },
  {
   "cell_type": "code",
   "execution_count": 10,
   "metadata": {},
   "outputs": [],
   "source": [
    "def PostorderIterative(Root):\n",
    "    LeftRoots=[Root] if Root!=None else []\n",
    "    RightRoots=[[]]\n",
    "    Result=[]\n",
    "    while len(LeftRoots):\n",
    "        while LeftRoots[-1].left: # Go to left untill it goes to end\n",
    "            LeftRoots+=[LeftRoots[-1].left] # Add all the left node\n",
    "        while len(LeftRoots):\n",
    "            Left=LeftRoots.pop() #Take the last node\n",
    "            if Left==None: # if None add the last list of RightRoots into the result and pop out the list\n",
    "                while len(RightRoots[-1]):\n",
    "                    Result+=[RightRoots[-1].pop().val]\n",
    "                RightRoots.pop()\n",
    "            elif Left.right: # if the node has right value add the node into RightRoots\n",
    "                RightRoots+=[[Left]]\n",
    "                LeftRoots+=[None,Left.right] # add the right value and none in the leftroots\n",
    "                break\n",
    "            else: #otherwise add the value in the Result\n",
    "                Result+=[Left.val]\n",
    "    return Result     "
   ]
  },
  {
   "cell_type": "code",
   "execution_count": 13,
   "metadata": {},
   "outputs": [
    {
     "name": "stdout",
     "output_type": "stream",
     "text": [
      "[<__main__.TreeNode object at 0x000002181C58A550>, <__main__.TreeNode object at 0x000002181C5729B0>] [[]] []\n",
      "[<__main__.TreeNode object at 0x000002181C58A550>] [[]] [4]\n",
      "[<__main__.TreeNode object at 0x000002181C58A550>, None] [[], [<__main__.TreeNode object at 0x000002181C5729B0>]] [4]\n",
      "[<__main__.TreeNode object at 0x000002181C58A550>] [[], [<__main__.TreeNode object at 0x000002181C5729B0>]] [4, 5]\n",
      "[] [[]] [4, 5, 2]\n",
      "[None] [[], [<__main__.TreeNode object at 0x000002181C58A550>]] [4, 5, 2]\n",
      "[] [[], [<__main__.TreeNode object at 0x000002181C58A550>]] [4, 5, 2, 3]\n"
     ]
    },
    {
     "data": {
      "text/plain": [
       "[4, 5, 2, 3, 1]"
      ]
     },
     "execution_count": 13,
     "metadata": {},
     "output_type": "execute_result"
    }
   ],
   "source": [
    "#Load the tree\n",
    "Root=TreeNode(1)\n",
    "#Root.right=TreeNode(4)\n",
    "#Root.right.left=TreeNode(3)\n",
    "#Root.right.left.right=TreeNode(2)\n",
    "Root.left=TreeNode(2)\n",
    "Root.right=TreeNode(3)\n",
    "Root.left.left=TreeNode(4)\n",
    "Root.left.right=TreeNode(5)\n",
    "##Driver Program##\n",
    "PostorderIterative(Root)"
   ]
  },
  {
   "cell_type": "markdown",
   "metadata": {},
   "source": [
    "# Tree Traversal \n",
    "[102.Binary Tree Level Order Traversal](https://leetcode.com/problems/binary-tree-level-order-traversal/)\n",
    "\n",
    "## Breadth First(Iterative Solution)"
   ]
  },
  {
   "cell_type": "code",
   "execution_count": 20,
   "metadata": {},
   "outputs": [],
   "source": [
    "def BreadthFirstIterative(Root):\n",
    "    if Root==None:\n",
    "        return []\n",
    "    Result,Node=[[Root.val]],[Root]\n",
    "    while True:\n",
    "        TempResult,TempRoot=[],[]\n",
    "        for node in Node:\n",
    "            if node.left:\n",
    "                TempRoot+=[node.left]\n",
    "                TempResult+=[node.left.val]\n",
    "            if node.right:\n",
    "                TempRoot+=[node.right]\n",
    "                TempResult+=[node.right.val]\n",
    "        if not len(TempRoot):\n",
    "            break\n",
    "        Result+=[TempResult]\n",
    "        Node=TempRoot\n",
    "    return Result"
   ]
  },
  {
   "cell_type": "code",
   "execution_count": 21,
   "metadata": {},
   "outputs": [
    {
     "data": {
      "text/plain": [
       "[[1], [2, 3], [4, 5]]"
      ]
     },
     "execution_count": 21,
     "metadata": {},
     "output_type": "execute_result"
    }
   ],
   "source": [
    "#Load the tree\n",
    "Root=TreeNode(1)\n",
    "#Root.right=TreeNode(4)\n",
    "#Root.right.left=TreeNode(3)\n",
    "#Root.right.left.right=TreeNode(2)\n",
    "Root.left=TreeNode(2)\n",
    "Root.right=TreeNode(3)\n",
    "Root.left.left=TreeNode(4)\n",
    "Root.left.right=TreeNode(5)\n",
    "##Driver Program##\n",
    "BreadthFirstIterative(Root)"
   ]
  },
  {
   "cell_type": "markdown",
   "metadata": {},
   "source": [
    "## Breadth First (Recursive Solution)"
   ]
  },
  {
   "cell_type": "code",
   "execution_count": 57,
   "metadata": {},
   "outputs": [],
   "source": [
    "def BreadthFirstRecursive(root,i=0,Result=[]):\n",
    "    if root:\n",
    "        if i>=len(Result):\n",
    "            Result+=[[]]\n",
    "        Result[i]+=[root.val]\n",
    "        print(Result)\n",
    "        BreadthFirstRecursive(root.left,i+1,Result)\n",
    "        BreadthFirstRecursive(root.right,i+1,Result)\n",
    "    return Result"
   ]
  },
  {
   "cell_type": "code",
   "execution_count": 58,
   "metadata": {},
   "outputs": [
    {
     "name": "stdout",
     "output_type": "stream",
     "text": [
      "[[1]]\n"
     ]
    },
    {
     "data": {
      "text/plain": [
       "[[1]]"
      ]
     },
     "execution_count": 58,
     "metadata": {},
     "output_type": "execute_result"
    }
   ],
   "source": [
    "#Load the tree\n",
    "Root=TreeNode(1)\n",
    "#Root.right=TreeNode(4)\n",
    "#Root.right.left=TreeNode(3)\n",
    "#Root.right.left.right=TreeNode(2)\n",
    "#Root.left=TreeNode(2)\n",
    "#Root.right=TreeNode(3)\n",
    "#Root.left.left=TreeNode(4)\n",
    "#Root.left.right=TreeNode(5)\n",
    "##Driver Program##\n",
    "BreadthFirstRecursive(Root)"
   ]
  },
  {
   "cell_type": "markdown",
   "metadata": {},
   "source": [
    "# Question\n",
    "[96.Unique Binary Search Trees](https://leetcode.com/problems/unique-binary-search-trees/)\n",
    "\n",
    "## Plan\n",
    "1. Using dynamic programming. Let's go through with an example, consider that there are $4$ numbers $(1,2,3,4)$\n",
    "2. We are going create unique binary trees using those numbers, we can take one by one\n",
    "    - If we take the $1$ as root then rest of the numbers we can design for all the $3$ elements trees\n",
    "    - If we take the $2$ as root left $1$ can be designed $1$ element trees and right $3,4$ can be designed as $2$ element\n",
    "    - If we take the $3$ as root left $1,2$ can be designed $2$ element trees and right $4$ can be designed as $1$ element\n",
    "    - If we take the $4$ as root then rest of the numbers we can design for all the $3$ elements trees\n",
    "3. Using the previous result we can create new tree "
   ]
  },
  {
   "cell_type": "code",
   "execution_count": 2,
   "metadata": {},
   "outputs": [],
   "source": [
    "def numTrees(n):\n",
    "    storeNumber=[1,1,2]\n",
    "    if n==0:\n",
    "        return 0\n",
    "    elif n<=2:\n",
    "        return storeNumber[n]\n",
    "    else:\n",
    "        for i in range(2,n):\n",
    "            newStoreNumber=0\n",
    "            for j in range(len(storeNumber)):\n",
    "                    newStoreNumber+=storeNumber[i-j]*storeNumber[j]\n",
    "            storeNumber+=[newStoreNumber]\n",
    "    return storeNumber"
   ]
  },
  {
   "cell_type": "code",
   "execution_count": 5,
   "metadata": {},
   "outputs": [
    {
     "data": {
      "text/plain": [
       "[1, 1, 2, 5, 14, 42]"
      ]
     },
     "execution_count": 5,
     "metadata": {},
     "output_type": "execute_result"
    }
   ],
   "source": [
    "numTrees(5)"
   ]
  },
  {
   "cell_type": "markdown",
   "metadata": {},
   "source": [
    "# Question\n",
    "[96.Validate Binary Search Trees](https://leetcode.com/problems/validate-binary-search-tree/)\n",
    "\n",
    "## Plan (Recursive Solution)"
   ]
  },
  {
   "cell_type": "code",
   "execution_count": 87,
   "metadata": {},
   "outputs": [],
   "source": [
    "def isValidBST(root,Max=float('inf'),Min=-float('inf')):\n",
    "    if root==None:\n",
    "        return True\n",
    "    else:\n",
    "        if not Max>root.val>Min:\n",
    "            return False\n",
    "        else:\n",
    "            return isValidBST(root.left,root.val,Min) and isValidBST(root.right,Max,root.val)"
   ]
  },
  {
   "cell_type": "code",
   "execution_count": 88,
   "metadata": {},
   "outputs": [
    {
     "data": {
      "text/plain": [
       "True"
      ]
     },
     "execution_count": 88,
     "metadata": {},
     "output_type": "execute_result"
    }
   ],
   "source": [
    "Root=TreeNode(8)\n",
    "Root.left=TreeNode(3)\n",
    "Root.right=TreeNode(9)\n",
    "Root.left.left=TreeNode(1)\n",
    "#Root.left.right=TreeNode(6)\n",
    "isValidBST(Root)"
   ]
  },
  {
   "cell_type": "markdown",
   "metadata": {},
   "source": [
    "# Question\n",
    "[100.Same Tree](https://leetcode.com/problems/same-tree/)\n",
    "\n",
    "## Plan (Recursive Solution)\n",
    "1. Compare each Tree left and right node"
   ]
  },
  {
   "cell_type": "code",
   "execution_count": null,
   "metadata": {},
   "outputs": [],
   "source": [
    "def isSameTree(p,q):\n",
    "    if not p and not q:\n",
    "        return True\n",
    "    elif (not p and q) or (not q and p):\n",
    "        return False\n",
    "    elif p.val!=q.val:\n",
    "        return False\n",
    "    else:\n",
    "        return isSameTree(p.left,q.left) and isSameTree(p.right,q.right)"
   ]
  },
  {
   "cell_type": "markdown",
   "metadata": {},
   "source": [
    "# Question\n",
    "[101.Symmetric Tree](https://leetcode.com/problems/symmetric-tree/)\n",
    "\n",
    "## Plan (Recursive Solution)\n",
    "1. The idea is divide the whole tree into two half left and right\n",
    "2. From the left side go to left and right and from the right side go to right and left\n",
    "3. Match the both left and right both structurally and value if does not match return False"
   ]
  },
  {
   "cell_type": "code",
   "execution_count": 18,
   "metadata": {},
   "outputs": [],
   "source": [
    "def isSymmetric(root):\n",
    "    if not root or (not root.left and not root.right): # if root \n",
    "        return True\n",
    "    elif root.left and root.right:\n",
    "        return AuxisSymmetric(root.left,root.right) #divide the whole tree into two half left and right\n",
    "    else:\n",
    "        return False\n",
    "def AuxisSymmetric(Left,Right):\n",
    "    if (not Left and Right) or (not Right and Left):\n",
    "        return False\n",
    "    elif not Left and not Right:\n",
    "        return True\n",
    "    elif Left.val!=Right.val:\n",
    "        return False\n",
    "    else:\n",
    "        return AuxisSymmetric(Left.left,Right.right) and AuxisSymmetric(Left.right,Right.left)"
   ]
  },
  {
   "cell_type": "code",
   "execution_count": 19,
   "metadata": {},
   "outputs": [
    {
     "data": {
      "text/plain": [
       "True"
      ]
     },
     "execution_count": 19,
     "metadata": {},
     "output_type": "execute_result"
    }
   ],
   "source": [
    "Root=TreeNode(1)\n",
    "#Root.left=TreeNode(2)\n",
    "#Root.right=TreeNode(2)\n",
    "#Root.left.left=TreeNode(3)\n",
    "#Root.right.right=TreeNode(3)\n",
    "isSymmetric(Root)"
   ]
  },
  {
   "cell_type": "code",
   "execution_count": null,
   "metadata": {},
   "outputs": [],
   "source": []
  }
 ],
 "metadata": {
  "kernelspec": {
   "display_name": "Python 3",
   "language": "python",
   "name": "python3"
  },
  "language_info": {
   "codemirror_mode": {
    "name": "ipython",
    "version": 3
   },
   "file_extension": ".py",
   "mimetype": "text/x-python",
   "name": "python",
   "nbconvert_exporter": "python",
   "pygments_lexer": "ipython3",
   "version": "3.7.3"
  }
 },
 "nbformat": 4,
 "nbformat_minor": 2
}
