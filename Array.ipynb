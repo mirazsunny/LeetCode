{
 "cells": [
  {
   "cell_type": "markdown",
   "metadata": {},
   "source": [
    "# Question\n",
    "[26.Remove Duplicates from Sorted Array](https://leetcode.com/problems/remove-duplicates-from-sorted-array/)\n",
    "\n",
    "## Plan\n",
    "1. Two counter is initialized one is *i=1 & j=0*.\n",
    "2. *i* will scan the whole array\n",
    "3. *j* will compare with *i* if not the same value *j* will be increased and store the value on place"
   ]
  },
  {
   "cell_type": "code",
   "execution_count": null,
   "metadata": {},
   "outputs": [],
   "source": [
    "def removeDuplicates(nums):\n",
    "    i,j=1,0 #initializing the two counter\n",
    "    while i<len(nums):\n",
    "        if nums[i]!=nums[j]: #if not same j will be increased and will be store on place\n",
    "            j,nums[j]=j+1,nums[i]\n",
    "        i+=1 #scan the whole array\n",
    "    return j+1,nums"
   ]
  },
  {
   "cell_type": "code",
   "execution_count": null,
   "metadata": {},
   "outputs": [],
   "source": [
    "removeDuplicates([])"
   ]
  },
  {
   "cell_type": "markdown",
   "metadata": {},
   "source": [
    "# Question\n",
    "[27.Remove Element](https://leetcode.com/problems/remove-element/)"
   ]
  },
  {
   "cell_type": "markdown",
   "metadata": {},
   "source": [
    "## Plan\n",
    "1. The idea is simmilar to the previous question about creating two counter *i,j*\n",
    "2. i will scan the whole array if the *ith* element does not match the *val*, *j* will store the element in place"
   ]
  },
  {
   "cell_type": "code",
   "execution_count": null,
   "metadata": {},
   "outputs": [],
   "source": [
    "def removeElement(nums,val):\n",
    "    i,j=0,0\n",
    "    while i<len(nums):\n",
    "        if nums[i]!=val:\n",
    "            nums[j],j=nums[i],j+1\n",
    "        i+=1\n",
    "    return nums[0:j], j"
   ]
  },
  {
   "cell_type": "code",
   "execution_count": null,
   "metadata": {},
   "outputs": [],
   "source": [
    "removeElement([3,2,1,3,2,3],3)"
   ]
  },
  {
   "cell_type": "markdown",
   "metadata": {},
   "source": [
    "# Question\n",
    "[53.Maximum Subarray](https://leetcode.com/problems/maximum-subarray/)\n",
    "\n",
    "## Plan\n",
    "1. The idea is starting summation from the left side of the array\n",
    "2. Maximum sum subarray boundary will be tracked by *start & end* two variables which will be initially zero with each iteration end will be updated\n",
    "3. Another variable called *Sum* will be introduced to keep track whether the sum is becoming negative if its negative resetting the sum and start variable to zero\n",
    "4. With each iteration Result will be updated using the max function"
   ]
  },
  {
   "cell_type": "code",
   "execution_count": null,
   "metadata": {},
   "outputs": [],
   "source": [
    "def MaxSumSubarray(array):\n",
    "    Sum,Start=0,0 # Sum is to keep track of the potential subarray and start is the initialization of that array\n",
    "    Result=(-float('inf'),Start,0) # Dummy Result tuple which store result,start,end\n",
    "    # Starting from the left side of the array\n",
    "    for i in range(len(array)):\n",
    "        Sum+=array[i] # Keep tracking the sum on each iteration\n",
    "        Result=max(Result,(Sum,Start,i+1)) # updating the Result after each iteration\n",
    "        if Sum<=0: # When summation of a subarry become negative we don't need to keep track start and summation of that subarray\n",
    "            Sum,Start=0,i+1 # Resetting Sum and storing the new subarray starting point\n",
    "    return Result[0] # Return the first value of the Result"
   ]
  },
  {
   "cell_type": "code",
   "execution_count": null,
   "metadata": {},
   "outputs": [],
   "source": [
    "MaxSumSubarray([1,-2,-3,4,-2])"
   ]
  },
  {
   "cell_type": "markdown",
   "metadata": {},
   "source": [
    "# Question\n",
    "[1186.Maximum Subarray Sum with One Deletion](https://leetcode.com/problems/maximum-subarray-sum-with-one-deletion/)\n",
    "\n",
    "## Plan\n",
    "1. We are going to use three variables *Sum, Previous_Sum, Current_Sum*\n",
    "2. This variables will be changed in two conditins if sum<0 or Previous_Sum<Current_Sum"
   ]
  },
  {
   "cell_type": "code",
   "execution_count": 19,
   "metadata": {},
   "outputs": [],
   "source": [
    "def MaxSumSubarrayOD(Array):\n",
    "    Sum,Previous_Sum,Current_Sum=0,0,0  # This three variables will keep track of the variables change\n",
    "    Result,Previous_Min,Current_Min=0,0,0 # Result, Previous Min, Current Min initialized\n",
    "    Max_Value=-float('inf') # Initializing the Max_Value as -Inf\n",
    "    for i in range(len(Array)):\n",
    "        Max_Value=max(Max_Value,Array[i]) # Max value in the array\n",
    "        Sum+=Array[i] # Adding the array value to the sum\n",
    "        Previous_Sum+=Array[i] # Adding the array value to the Previous_Sum\n",
    "        Current_Sum+=Array[i] # Adding the array value to the current_Sum\n",
    "        if Array[i]<0: # If Array value less than zero finding the minimum value of current sum and previous sum\n",
    "            Current_Min=min(Current_Min,Array[i])\n",
    "            Previous_Min=min(Previous_Min,Array[i])\n",
    "        Result=max(Result,Current_Sum-Current_Min,Previous_Sum-Previous_Min) # Finding the maximum value\n",
    "        if Current_Sum-Current_Min>Previous_Sum-Previous_Min: # When Currrent sum will reach to the previous sum no point of\n",
    "                                                              # Keep tracking the previous sum and reset the current sum\n",
    "            Previous_Sum,Previous_Min,Sum=Current_Sum,Current_Min,0\n",
    "            Current_Sum,Current_Min=0,0\n",
    "        if Sum<0:\n",
    "            Current_Sum,Current_Min,Sum=0,0,0  # Rest the current sum, current min and sum\n",
    "    return Max_Value if Result==0 else Result  # return the Result"
   ]
  },
  {
   "cell_type": "code",
   "execution_count": 20,
   "metadata": {},
   "outputs": [
    {
     "data": {
      "text/plain": [
       "14"
      ]
     },
     "execution_count": 20,
     "metadata": {},
     "output_type": "execute_result"
    }
   ],
   "source": [
    "MaxSumSubarrayOD([3,-4,-3,-8,3,-8,-11,4,-3,10,-1])"
   ]
  },
  {
   "cell_type": "code",
   "execution_count": null,
   "metadata": {},
   "outputs": [],
   "source": []
  }
 ],
 "metadata": {
  "kernelspec": {
   "display_name": "Python 3",
   "language": "python",
   "name": "python3"
  },
  "language_info": {
   "codemirror_mode": {
    "name": "ipython",
    "version": 3
   },
   "file_extension": ".py",
   "mimetype": "text/x-python",
   "name": "python",
   "nbconvert_exporter": "python",
   "pygments_lexer": "ipython3",
   "version": "3.7.3"
  }
 },
 "nbformat": 4,
 "nbformat_minor": 2
}
