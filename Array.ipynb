{
 "cells": [
  {
   "cell_type": "markdown",
   "metadata": {},
   "source": [
    "# Question\n",
    "[26.Remove Duplicates from Sorted Array](https://leetcode.com/problems/remove-duplicates-from-sorted-array/)\n",
    "\n",
    "## Plan\n",
    "1. Two counter is initialized one is *i=1 & j=0*.\n",
    "2. *i* will scan the whole array\n",
    "3. *j* will compare with *i* if not the same value *j* will be increased and store the value on place"
   ]
  },
  {
   "cell_type": "code",
   "execution_count": null,
   "metadata": {},
   "outputs": [],
   "source": [
    "def removeDuplicates(nums):\n",
    "    i,j=1,0 #initializing the two counter\n",
    "    while i<len(nums):\n",
    "        if nums[i]!=nums[j]: #if not same j will be increased and will be store on place\n",
    "            j,nums[j]=j+1,nums[i]\n",
    "        i+=1 #scan the whole array\n",
    "    return j+1,nums"
   ]
  },
  {
   "cell_type": "code",
   "execution_count": null,
   "metadata": {},
   "outputs": [],
   "source": [
    "removeDuplicates([])"
   ]
  },
  {
   "cell_type": "markdown",
   "metadata": {},
   "source": [
    "# Question\n",
    "[27.Remove Element](https://leetcode.com/problems/remove-element/)"
   ]
  },
  {
   "cell_type": "markdown",
   "metadata": {},
   "source": [
    "## Plan\n",
    "1. The idea is simmilar to the previous question about creating two counter *i,j*\n",
    "2. i will scan the whole array if the *ith* element does not match the *val*, *j* will store the element in place"
   ]
  },
  {
   "cell_type": "code",
   "execution_count": null,
   "metadata": {},
   "outputs": [],
   "source": [
    "def removeElement(nums,val):\n",
    "    i,j=0,0\n",
    "    while i<len(nums):\n",
    "        if nums[i]!=val:\n",
    "            nums[j],j=nums[i],j+1\n",
    "        i+=1\n",
    "    return nums[0:j], j"
   ]
  },
  {
   "cell_type": "code",
   "execution_count": null,
   "metadata": {},
   "outputs": [],
   "source": [
    "removeElement([3,2,1,3,2,3],3)"
   ]
  },
  {
   "cell_type": "markdown",
   "metadata": {},
   "source": [
    "# Question\n",
    "[53.Maximum Subarray](https://leetcode.com/problems/maximum-subarray/)\n",
    "\n",
    "## Plan\n",
    "1. The idea is starting summation from the left side of the array\n",
    "2. Maximum sum subarray boundary will be tracked by *start & end* two variables which will be initially zero with each iteration end will be updated\n",
    "3. Another variable called *Sum* will be introduced to keep track whether the sum is becoming negative if its negative resetting the sum and start variable to zero\n",
    "4. With each iteration Result will be updated using the max function"
   ]
  },
  {
   "cell_type": "code",
   "execution_count": null,
   "metadata": {},
   "outputs": [],
   "source": [
    "def MaxSumSubarray(array):\n",
    "    Sum,Start=0,0 # Sum is to keep track of the potential subarray and start is the initialization of that array\n",
    "    Result=(-float('inf'),Start,0) # Dummy Result tuple which store result,start,end\n",
    "    # Starting from the left side of the array\n",
    "    for i in range(len(array)):\n",
    "        Sum+=array[i] # Keep tracking the sum on each iteration\n",
    "        Result=max(Result,(Sum,Start,i+1)) # updating the Result after each iteration\n",
    "        if Sum<=0: # When summation of a subarry become negative we don't need to keep track start and summation of that subarray\n",
    "            Sum,Start=0,i+1 # Resetting Sum and storing the new subarray starting point\n",
    "    return Result[0] # Return the first value of the Result"
   ]
  },
  {
   "cell_type": "code",
   "execution_count": null,
   "metadata": {},
   "outputs": [],
   "source": [
    "MaxSumSubarray([1,-2,-3,4,-2])"
   ]
  },
  {
   "cell_type": "markdown",
   "metadata": {},
   "source": [
    "# Question\n",
    "[1186.Maximum Subarray Sum with One Deletion](https://leetcode.com/problems/maximum-subarray-sum-with-one-deletion/)\n",
    "\n",
    "## Plan\n",
    "1. We are going to use three variables *Sum, Previous_Sum, Current_Sum*\n",
    "2. This variables will be changed in two conditins if sum<0 or Previous_Sum<Current_Sum"
   ]
  },
  {
   "cell_type": "code",
   "execution_count": null,
   "metadata": {},
   "outputs": [],
   "source": [
    "def MaxSumSubarrayOD(Array):\n",
    "    Sum,Previous_Sum,Current_Sum=0,0,0  # This three variables will keep track of the variables change\n",
    "    Result,Previous_Min,Current_Min=0,0,0 # Result, Previous Min, Current Min initialized\n",
    "    Max_Value=-float('inf') # Initializing the Max_Value as -Inf\n",
    "    for i in range(len(Array)):\n",
    "        Max_Value=max(Max_Value,Array[i]) # Max value in the array\n",
    "        Sum+=Array[i] # Adding the array value to the sum\n",
    "        Previous_Sum+=Array[i] # Adding the array value to the Previous_Sum\n",
    "        Current_Sum+=Array[i] # Adding the array value to the current_Sum\n",
    "        if Array[i]<0: # If Array value less than zero finding the minimum value of current sum and previous sum\n",
    "            Current_Min=min(Current_Min,Array[i])\n",
    "            Previous_Min=min(Previous_Min,Array[i])\n",
    "        Result=max(Result,Current_Sum-Current_Min,Previous_Sum-Previous_Min) # Finding the maximum value\n",
    "        if Current_Sum-Current_Min>Previous_Sum-Previous_Min: # When Currrent sum will reach to the previous sum no point of\n",
    "                                                              # Keep tracking the previous sum and reset the current sum\n",
    "            Previous_Sum,Previous_Min,Sum=Current_Sum,Current_Min,0\n",
    "            Current_Sum,Current_Min=0,0\n",
    "        if Sum<0:\n",
    "            Current_Sum,Current_Min,Sum=0,0,0  # Rest the current sum, current min and sum\n",
    "    return Max_Value if Result==0 else Result  # return the Result"
   ]
  },
  {
   "cell_type": "code",
   "execution_count": null,
   "metadata": {},
   "outputs": [],
   "source": [
    "MaxSumSubarrayOD([3,-4,-3,-8,3,-8,-11,4,-3,10,-1])"
   ]
  },
  {
   "cell_type": "markdown",
   "metadata": {},
   "source": [
    "# Question\n",
    "[31.Next Permutation](https://leetcode.com/problems/next-permutation/)\n",
    "\n",
    "## Plan\n",
    "1. Comparison will start from the end of the array when a lower value is found between two contigous element comparison will end and record the value of *i*\n",
    "2. Swap the array[i] value with the immediate greater value on the right side which\n",
    "3. Rearrange the value from i+1 to end of the array in increasing order"
   ]
  },
  {
   "cell_type": "code",
   "execution_count": null,
   "metadata": {},
   "outputs": [],
   "source": [
    "def nextPermutation(nums):\n",
    "    i,Found=len(nums)-1,False # Found is to handle the case if lower value is found on the first two elements \n",
    "    while i>0: \n",
    "        if nums[i]>nums[i-1]: # Start comparing\n",
    "            Found=True\n",
    "            i-=1\n",
    "            break\n",
    "        else:\n",
    "            i-=1\n",
    "\n",
    "    if Found: # if Found\n",
    "        j=i+1 # Starting point for the searching to the larger value in the right side\n",
    "        while j<len(nums): # searching will continue untill the end of the array\n",
    "            if nums[i]>=nums[j]: # if value is greater on the right side then swap with the previous value\n",
    "                nums[i],nums[j-1]=nums[j-1],nums[i] # swap the value\n",
    "                j-=1\n",
    "                break\n",
    "            elif j==len(nums)-1: # if reach to the end swap with the end of the value\n",
    "                nums[i],nums[j]=nums[j],nums[i] # swap the value\n",
    "                break\n",
    "            else:\n",
    "                j+=1\n",
    "        i+=1 # i will be increased by 1\n",
    "\n",
    "    j=len(nums)-1 # j is the end of the array\n",
    "    while i<=j: # swap value in the array untill it reaches mid\n",
    "        nums[i],nums[j]=nums[j],nums[i]\n",
    "        i+=1\n",
    "        j-=1\n",
    "    return nums"
   ]
  },
  {
   "cell_type": "code",
   "execution_count": null,
   "metadata": {},
   "outputs": [],
   "source": [
    "nextPermutation([6,7,4,3,2])"
   ]
  },
  {
   "cell_type": "markdown",
   "metadata": {},
   "source": [
    "# Question\n",
    "[33.Search in Rotated Sorted Array](https://leetcode.com/problems/search-in-rotated-sorted-array/)\n",
    "\n",
    "## Plan\n",
    "1. Follow the divide and conquer approach, after dividing the array try to decide which one is increasing and decreasing part\n",
    "2. If the target in the increasing part then recursively try to find the target value\n",
    "3. If the target in decreasing part then follow the same approach"
   ]
  },
  {
   "cell_type": "code",
   "execution_count": null,
   "metadata": {},
   "outputs": [],
   "source": [
    "def SortedArray(array,start,end,target,k=0):\n",
    "    mid=(start+end)//2\n",
    "    if len(array)==0:\n",
    "        return -1\n",
    "    elif start==mid:\n",
    "        if array[start]==target:\n",
    "            k+=mid\n",
    "            return k\n",
    "            #print(start)\n",
    "        elif array[end]==target:\n",
    "            k+=end\n",
    "            return k\n",
    "            #print(end)\n",
    "        else:\n",
    "            k+=-1\n",
    "            return k\n",
    "            #print(array[start],array[end],-1)\n",
    "    else:\n",
    "        if array[start]<array[mid]:\n",
    "            inc_start,inc_end,dec_start,dec_end=start,mid,mid,end\n",
    "        else:\n",
    "            inc_start,inc_end,dec_start,dec_end=mid,end,start,mid\n",
    "        #print(inc_start,inc_end,dec_start,dec_end)\n",
    "        if array[inc_start]<=target and target<=array[inc_end]:\n",
    "            SortedArray(array,inc_start,inc_end,target)\n",
    "            return\n",
    "        else:\n",
    "            SortedArray(array,dec_start,dec_end,target)\n",
    "            return "
   ]
  },
  {
   "cell_type": "code",
   "execution_count": null,
   "metadata": {},
   "outputs": [],
   "source": [
    "SortedArray([],0,0,0)"
   ]
  },
  {
   "cell_type": "markdown",
   "metadata": {},
   "source": [
    "# Question\n",
    "[34.Find First and Last Position of Element in Sorted Array](https://leetcode.com/problems/find-first-and-last-position-of-element-in-sorted-array/)\n",
    "\n",
    "## Plan\n",
    "1. Search for the target value if found divide the search space into two maxsearch and minsearch\n",
    "2. Recursively search for target in the maxsearch and minsearch\n",
    "3. If not found return -1"
   ]
  },
  {
   "cell_type": "code",
   "execution_count": null,
   "metadata": {},
   "outputs": [],
   "source": [
    "def SearchSortedArray(start,end,array,target,MaxSearch=True,MinSearch=True,Result=-1):\n",
    "    mid=(start+end)//2 #Finding the midpoint of search space\n",
    "    if start>end: # Basecase\n",
    "        if MaxSearch and MinSearch: # if no element match then Search will be True\n",
    "            return Result,Result\n",
    "        else:             # if match return the mid point of the result  \n",
    "            return Result\n",
    "    else:\n",
    "        if array[mid]==target: \n",
    "            # if midpoint match with the target divide the search into two Maxsearch and Minsearch\n",
    "            if MaxSearch and MinSearch:\n",
    "                print(1,start,mid,end,MaxSearch,MinSearch)\n",
    "                return SearchSortedArray(mid+1,end,array,target,MaxSearch=True,MinSearch=False,Result=mid),\\\n",
    "                SearchSortedArray(start,mid-1,array,target,MaxSearch=False,MinSearch=True,Result=mid)\n",
    "                #Assigning True and False to the corresponding maxsearch and minsearch \n",
    "                ### Assigning Result as mid\n",
    "                # print(Max,Min)\n",
    "                \n",
    "            if MaxSearch and not MinSearch: # Searching only on maxsearch space\n",
    "                print(2,start,mid,end,MaxSearch,MinSearch)\n",
    "                return SearchSortedArray(mid+1,end,array,target,MaxSearch=True,MinSearch=False,Result=mid)\n",
    "                ### Assigning Result as mid\n",
    "\n",
    "            if MinSearch and not MaxSearch: # searching only on minsearchspace\n",
    "                print(3,start,mid,end,MaxSearch,MinSearch)\n",
    "                return SearchSortedArray(start,mid-1,array,target,MaxSearch=False,MinSearch=True,Result=mid)\n",
    "                ### Assigning Result as mid\n",
    "\n",
    "        elif array[mid]<target: # if target does not match with the result\n",
    "            print(4,start,mid,end,MaxSearch,MinSearch)\n",
    "            return SearchSortedArray(mid+1,end,array,target,MaxSearch=MaxSearch,MinSearch=MinSearch,Result=Result)\n",
    "            ### Result will be the previous one\n",
    "\n",
    "        else:\n",
    "            print(5,start,mid,end,target,MaxSearch,MinSearch)\n",
    "            return SearchSortedArray(start,mid-1,array,target,MaxSearch=MaxSearch,MinSearch=MinSearch,Result=Result)\n",
    "            ### Result will be the previous one"
   ]
  },
  {
   "cell_type": "code",
   "execution_count": null,
   "metadata": {},
   "outputs": [],
   "source": [
    "array=[0,1,2,3,3,3,3,4,5,7]\n",
    "SearchSortedArray(0,len(array)-1,array,3)"
   ]
  },
  {
   "cell_type": "markdown",
   "metadata": {},
   "source": [
    "# Question\n",
    "[35.Search Insert Position](https://leetcode.com/problems/search-insert-position/)\n",
    "\n",
    "## Plan\n",
    "1. Find the mid of the number and if target is equal than return mid\n",
    "2. If mid is greater than target search on the start to the mid\n",
    "3. If mid less than target search on the mid to end"
   ]
  },
  {
   "cell_type": "code",
   "execution_count": 8,
   "metadata": {},
   "outputs": [],
   "source": [
    "def SearchInsert(start,end,nums,target):\n",
    "    if start>end: # if interval is empty start is the place where we can place target\n",
    "        return start\n",
    "    else:\n",
    "        mid=(start+end)//2  # fidning the mid\n",
    "        if nums[mid]==target: # if equals to target return mid\n",
    "            return mid\n",
    "        elif nums[mid]>target: # if mid is greater than target search on the start to mid\n",
    "            return SearchInsert(start,mid-1,nums,target)\n",
    "        else: # else search on the mid to end\n",
    "            return SearchInsert(mid+1,end,nums,target)"
   ]
  },
  {
   "cell_type": "code",
   "execution_count": 9,
   "metadata": {},
   "outputs": [
    {
     "data": {
      "text/plain": [
       "2"
      ]
     },
     "execution_count": 9,
     "metadata": {},
     "output_type": "execute_result"
    }
   ],
   "source": [
    "array=[1,3,5,6]\n",
    "SearchInsert(0,len(array)-1,array,4)"
   ]
  },
  {
   "cell_type": "markdown",
   "metadata": {},
   "source": [
    "# Question\n",
    "[48.Rotate Image](https://leetcode.com/problems/rotate-image/)\n",
    "\n",
    "## Plan\n",
    "1. The idea is to shift each element circularly, as the array will always be square we need to shift 4 elements at a time\n",
    "2. There will be two loop for row and coloumn, iteration number of column will be decrease by two in each row, iteration column will start from one number less than $n$, and row iteration will start from $n//2$"
   ]
  },
  {
   "cell_type": "code",
   "execution_count": 15,
   "metadata": {},
   "outputs": [],
   "source": [
    "def rotate(matrix):\n",
    "    ColDec=0\n",
    "    for i in range(len(matrix)//2): # row iteration\n",
    "        for j in range(len(matrix)-1-ColDec): # column iteration\n",
    "            #print(matrix[0+i][0+j+i],matrix[0+j+i][len(matrix)-1-i],matrix[len(matrix)-1-i][len(matrix)-1-j-i],matrix[len(matrix)-1-j-i][0+i])\n",
    "            (matrix[0+j+i][len(matrix)-1-i],matrix[len(matrix)-1-i][len(matrix)-1-j-i],matrix[len(matrix)-1-j-i][0+i],matrix[0+i][0+j+i])=\\\n",
    "            (matrix[0+i][0+j+i],matrix[0+j+i][len(matrix)-1-i],matrix[len(matrix)-1-i][len(matrix)-1-j-i],matrix[len(matrix)-1-j-i][0+i])\n",
    "        ColDec+=2 # column iteration will be decreased by two\n",
    "    #return matrix"
   ]
  },
  {
   "cell_type": "code",
   "execution_count": 16,
   "metadata": {},
   "outputs": [
    {
     "name": "stdout",
     "output_type": "stream",
     "text": [
      "1 10 16 13\n",
      "2 11 15 7\n",
      "3 12 14 4\n",
      "5 6 9 8\n"
     ]
    },
    {
     "data": {
      "text/plain": [
       "[[13, 7, 4, 1], [14, 8, 5, 2], [15, 9, 6, 3], [16, 12, 11, 10]]"
      ]
     },
     "execution_count": 16,
     "metadata": {},
     "output_type": "execute_result"
    }
   ],
   "source": [
    "rotate([[1,2,3,10],[4,5,6,11],[7,8,9,12],[13,14,15,16]])"
   ]
  },
  {
   "cell_type": "markdown",
   "metadata": {},
   "source": [
    "# Question\n",
    "[54.Spiral Matrix](https://leetcode.com/problems/spiral-matrix/)\n",
    "\n",
    "## Plan 1\n",
    "1. Iterating total number of elements in the matrix\n",
    "2. There will be two count one is row count and another is column count, for both case if count==0 iteration will move forward, if count==1 iteration will backward and if count>1, count will reset to zero, start of count will increase by 1, end of count will decrease by 1.\n",
    "3. Another thing to look is corner case if row count=0 then row index will advance to 1"
   ]
  },
  {
   "cell_type": "code",
   "execution_count": 116,
   "metadata": {},
   "outputs": [],
   "source": [
    "def spiralOrder(matrix):\n",
    "    if len(matrix)==0: # if 0 length matrix then return []\n",
    "        return []\n",
    "    row,column=[1,len(matrix)-2],[0,len(matrix[0])-1] #row and column, start & end\n",
    "    rowInd=0 #start of matrix\n",
    "    columnTrue=True # To swich back and forth between row and column\n",
    "    rowCount,columnCount,Element,Result=0,0,(row[1]+2)*(column[1]+1),[] #row count, column count and Result\n",
    "    while Element>0:\n",
    "        # for column iteration\n",
    "        if columnTrue==True:\n",
    "            columnTrue=False # for the next iteration swich to row\n",
    "            # identifying start and end\n",
    "            if columnCount==0: # when columncount 0 move forward\n",
    "                Start,End,k=column[0],column[1]+1,1\n",
    "            elif columnCount==1: # move backward\n",
    "                Start,End,k=column[1],column[0]-1,-1\n",
    "            else: # decrease and move forward\n",
    "                columnCount=0 \n",
    "                column=[column[0]+1,column[1]-1]\n",
    "                Start,End,k=column[0],column[1]+1,1\n",
    "            #iterating between start and end\n",
    "            for i in range(Start,End,k):\n",
    "                Element-=1\n",
    "                Result+=[matrix[rowInd][i]]\n",
    "            columnCount+=1 #increase the column count\n",
    "            columnInd=i  #storing the column index\n",
    "        else:\n",
    "            # for row iteration\n",
    "            columnTrue=True\n",
    "            if rowCount==0: \n",
    "                Start,End,k=row[0],row[1]+1,1\n",
    "            elif rowCount==1:\n",
    "                Start,End,k=row[1],row[0]-1,-1\n",
    "            else:\n",
    "                rowCount=0\n",
    "                row=[row[0]+1,row[1]-1]\n",
    "                Start,End,k=row[0],row[1]+1,1\n",
    "            for i in range(Start,End,k):\n",
    "                Element-=1\n",
    "                Result+=[matrix[i][columnInd]]\n",
    "            \n",
    "            ### corner case###\n",
    "            if Start==End:\n",
    "                rowInd=Start\n",
    "            else:\n",
    "                if rowCount==0:\n",
    "                    rowInd=i+1\n",
    "                else:\n",
    "                    rowInd=i\n",
    "            rowCount+=1\n",
    "    return Result          "
   ]
  },
  {
   "cell_type": "code",
   "execution_count": 121,
   "metadata": {},
   "outputs": [
    {
     "data": {
      "text/plain": [
       "[1, 2]"
      ]
     },
     "execution_count": 121,
     "metadata": {},
     "output_type": "execute_result"
    }
   ],
   "source": [
    "spiralOrder([[1,2]])"
   ]
  },
  {
   "cell_type": "markdown",
   "metadata": {},
   "source": [
    "## Plan 2\n",
    "\n",
    "1. Iteration between row start and row end, column start and column end\n",
    "2. for the first row take $[column_start:column_end]$ for the last row take $[column_end:column_start]$, for the other row take last element and store the first element for the future addition to the result in the reverse way"
   ]
  },
  {
   "cell_type": "code",
   "execution_count": 171,
   "metadata": {},
   "outputs": [],
   "source": [
    "def spiralOrder(matrix):\n",
    "    Result=[] # storing the result\n",
    "    RowStart,RowEnd=0,len(matrix) # start and end of the row\n",
    "    if len(matrix)==0: # if length of matrix 0 return []\n",
    "        return Result\n",
    "    ColumnStart,ColumnEnd=0,len(matrix[0]) # start and end of the column\n",
    "    while RowStart<=RowEnd and ColumnStart<ColumnEnd: # iteration condition for row and column start\n",
    "        RevColumn=[] # temporary list\n",
    "        for i in range(RowStart,RowEnd): #iterating from the start to end\n",
    "            if i==RowStart: # for the first row in the iteration move forward\n",
    "                Result+=matrix[i][ColumnStart:ColumnEnd] # add column start to end\n",
    "            elif i==RowEnd-1: # for the last row in the iteration move backward\n",
    "                Result+=[matrix[i][j] for j in range(ColumnEnd-1,ColumnStart-1,-1)] \n",
    "            else:\n",
    "                Result+=[matrix[i][ColumnEnd-1]]\n",
    "                if ColumnStart!=ColumnEnd-1:\n",
    "                    RevColumn=[matrix[i][ColumnStart]]+RevColumn\n",
    "        Result+=RevColumn\n",
    "        RowStart,RowEnd=RowStart+1,RowEnd-1\n",
    "        ColumnStart,ColumnEnd=ColumnStart+1,ColumnEnd-1\n",
    "    return Result  "
   ]
  },
  {
   "cell_type": "code",
   "execution_count": 174,
   "metadata": {},
   "outputs": [
    {
     "data": {
      "text/plain": [
       "[1, 2, 11, 12, 13, 14, 15, 10, 9, 7, 5, 3, 4, 6, 8]"
      ]
     },
     "execution_count": 174,
     "metadata": {},
     "output_type": "execute_result"
    }
   ],
   "source": [
    "spiralOrder([[1,2,11],[3,4,12],[5,6,13],[7,8,14],[9,10,15]])"
   ]
  },
  {
   "cell_type": "code",
   "execution_count": 137,
   "metadata": {},
   "outputs": [
    {
     "data": {
      "text/plain": [
       "[1, 2, 3, 4]"
      ]
     },
     "execution_count": 137,
     "metadata": {},
     "output_type": "execute_result"
    }
   ],
   "source": [
    "mat=[1,2,3,4]\n",
    "mat[0:4]"
   ]
  },
  {
   "cell_type": "markdown",
   "metadata": {},
   "source": [
    "# Question\n",
    "[56.Merge Intervals](https://leetcode.com/problems/merge-intervals/)\n",
    "\n",
    "## Plan 1\n",
    "1. Sort the intervals\n",
    "2. Then marge every element with the previous result element\n",
    "3. If there is nothing to merge, add the steps into the merge"
   ]
  },
  {
   "cell_type": "code",
   "execution_count": 8,
   "metadata": {},
   "outputs": [],
   "source": [
    "def merge(intervals):\n",
    "    intervals.sort()\n",
    "    Result=[]\n",
    "    for step in intervals:\n",
    "        if not Result or Result[-1][1]<step[0]:\n",
    "            Result.append(step)\n",
    "        else:\n",
    "            Result[-1][1]=max(Result[-1][1],step[1])\n",
    "    return Result"
   ]
  },
  {
   "cell_type": "code",
   "execution_count": 10,
   "metadata": {},
   "outputs": [
    {
     "data": {
      "text/plain": [
       "[[1, 6], [8, 10]]"
      ]
     },
     "execution_count": 10,
     "metadata": {},
     "output_type": "execute_result"
    }
   ],
   "source": [
    "merge([[1,3],[2,6],[8,10]])"
   ]
  },
  {
   "cell_type": "markdown",
   "metadata": {},
   "source": [
    "# Question\n",
    "[59.Spiral Matrix II](https://leetcode.com/problems/spiral-matrix-ii/)\n",
    "\n",
    "## Plan 1 \n",
    "1. Similar to the spiral matrix I \n",
    "2. Skeleton of square matrix is created, an array MatrixEntry is created which will store the first value and last value of each iteration which will update in each iteration.\n",
    "3. Then the iteration will start, for the first iteration value from start to end for the last iteration value will be from last to start\n",
    "4. For the other case only last and end will entry"
   ]
  },
  {
   "cell_type": "code",
   "execution_count": 112,
   "metadata": {},
   "outputs": [],
   "source": [
    "def generateMatrix(n):\n",
    "    Matrix=[[0 for i in range(n)] for j in range(n)] #skeleton matrix\n",
    "    start,end=0,n\n",
    "    MatrixEntry=[1,2*(2*(end-start)-2)] # matrix entry start and the last \n",
    "    while start<end:\n",
    "        LastEntry=MatrixEntry[1] # to update the next matrix entry\n",
    "        for i in range(start,end):\n",
    "            if i==start: #for the first\n",
    "                Matrix[i][start:end]=[MatrixEntry[0]+j for j in range(end-start)]\n",
    "                MatrixEntry[0]=Matrix[i][end-1]+1\n",
    "            elif i==end-1: #for the last\n",
    "                Matrix[i][start:end]=[MatrixEntry[0]+j-1 for j in range(end-start,0,-1)]\n",
    "                MatrixEntry[0]=Matrix[i][start]+1\n",
    "            else: # otherwise\n",
    "                Matrix[i][end-1]=MatrixEntry[0]\n",
    "                MatrixEntry[0]+=1\n",
    "                Matrix[i][start]=MatrixEntry[1]\n",
    "                MatrixEntry[1]-=1\n",
    "        start+=1 #updating the looping condition\n",
    "        end-=1\n",
    "        MatrixEntry=[LastEntry+1,LastEntry+2*(2*(end-start)-2)] #updating the matrix entry\n",
    "    return Matrix"
   ]
  },
  {
   "cell_type": "code",
   "execution_count": 113,
   "metadata": {},
   "outputs": [
    {
     "data": {
      "text/plain": [
       "[[1, 2, 3, 4, 5],\n",
       " [16, 17, 18, 19, 6],\n",
       " [15, 24, 25, 20, 7],\n",
       " [14, 23, 22, 21, 8],\n",
       " [13, 12, 11, 10, 9]]"
      ]
     },
     "execution_count": 113,
     "metadata": {},
     "output_type": "execute_result"
    }
   ],
   "source": [
    "generateMatrix(5)"
   ]
  },
  {
   "cell_type": "markdown",
   "metadata": {},
   "source": [
    "# Question\n",
    "[73.Set Matrix Zeroes](https://leetcode.com/problems/set-matrix-zeroes/)\n",
    "\n",
    "## Plan 1 \n",
    "1. Create a row and column of 1's, there will be two iteration\n",
    "2. For the first iteration, if matrix cell value is zero, corresponding row and column is zero\n",
    "3. For the second iteration, if corresponding row or column is zero, then the cell value is zero."
   ]
  },
  {
   "cell_type": "code",
   "execution_count": 3,
   "metadata": {},
   "outputs": [],
   "source": [
    "def setZeroes(mat):\n",
    "    Row,Column=[1]*len(mat),[1]*len(mat[0]) #row and column\n",
    "    #first iteration\n",
    "    for i in range(len(mat)):\n",
    "        for j in range(len(mat[0])):\n",
    "            if mat[i][j]==0:\n",
    "                Row[i],Column[j]=0,0\n",
    "    #second iteration\n",
    "    for i in range(len(mat)):\n",
    "        for j in range(len(mat[0])):\n",
    "            if Row[i]==0 or Column[j]==0:\n",
    "                mat[i][j]=0\n",
    "    return mat"
   ]
  },
  {
   "cell_type": "code",
   "execution_count": 5,
   "metadata": {},
   "outputs": [
    {
     "data": {
      "text/plain": [
       "[[0, 0, 0, 0], [0, 4, 5, 0], [0, 3, 1, 0]]"
      ]
     },
     "execution_count": 5,
     "metadata": {},
     "output_type": "execute_result"
    }
   ],
   "source": [
    "setZeroes([\n",
    "  [0,1,2,0],\n",
    "  [3,4,5,2],\n",
    "  [1,3,1,5]\n",
    "])"
   ]
  },
  {
   "cell_type": "markdown",
   "metadata": {},
   "source": [
    "# Question\n",
    "[74.Search a 2D Matrix](https://leetcode.com/problems/search-a-2d-matrix/)\n",
    "\n",
    "## Plan 1 \n",
    "1. Search for the row where the target lies then apply divide and conquer algorithm to find the target\n",
    "2. If target is greater than start and end of the row in the matrix then return False"
   ]
  },
  {
   "cell_type": "code",
   "execution_count": 48,
   "metadata": {},
   "outputs": [],
   "source": [
    "def searchMatrix(matrix,target):\n",
    "    for i in range(len(matrix)):\n",
    "        if len(matrix[i])==0: #if matrix is empty then return False\n",
    "            return False\n",
    "        elif matrix[i][0]<=target and matrix[i][-1]>=target: # find the range wher the target lies\n",
    "            start,end=0,len(matrix[i])-1\n",
    "            while start<=end: # range found then apply the divide and conquer algorithm on th row\n",
    "                mid=(start+end)//2\n",
    "                if matrix[i][mid]==target:\n",
    "                    return True\n",
    "                elif matrix[i][mid]>target:\n",
    "                    end=mid-1\n",
    "                else:\n",
    "                    start=mid+1\n",
    "            return False # if not found return False\n",
    "        elif matrix[i][0]>target and matrix[i][-1]>target:\n",
    "            return False   "
   ]
  },
  {
   "cell_type": "code",
   "execution_count": 50,
   "metadata": {},
   "outputs": [
    {
     "data": {
      "text/plain": [
       "False"
      ]
     },
     "execution_count": 50,
     "metadata": {},
     "output_type": "execute_result"
    }
   ],
   "source": [
    "searchMatrix([[]],4)"
   ]
  },
  {
   "cell_type": "markdown",
   "metadata": {},
   "source": [
    "# Question\n",
    "[80.Remove Duplicates from Sorted Array II](https://leetcode.com/problems/remove-duplicates-from-sorted-array-ii/)\n",
    "\n",
    "## Plan 1 \n",
    "1. I use for loop (i) to move forward, variable j is used to replace the current value with the jth value\n",
    "2. $k$ is used to find whether the repeating value is reached to 2 if it's more than 2 then j won't increase"
   ]
  },
  {
   "cell_type": "code",
   "execution_count": 118,
   "metadata": {},
   "outputs": [],
   "source": [
    "def removeDuplicates(nums):\n",
    "    k,j=1,1\n",
    "    for i in range(1,len(nums)):\n",
    "        if nums[i]==nums[i-1]: # for the repeating characters\n",
    "            k+=1\n",
    "        else:\n",
    "            k=1\n",
    "        if k<=2: # if k<=2 \n",
    "            nums[j]=nums[i]\n",
    "            j+=1\n",
    "    return nums[:j]"
   ]
  },
  {
   "cell_type": "code",
   "execution_count": 124,
   "metadata": {},
   "outputs": [
    {
     "data": {
      "text/plain": [
       "[1, 1, 2, 2, 3, 3, 4, 4]"
      ]
     },
     "execution_count": 124,
     "metadata": {},
     "output_type": "execute_result"
    }
   ],
   "source": [
    "removeDuplicates([1,1,2,2,2,2,3,3,4,4,4,4])"
   ]
  },
  {
   "cell_type": "markdown",
   "metadata": {},
   "source": [
    "# Question\n",
    "[81.Search in Rotated Sorted Array II](https://leetcode.com/problems/search-in-rotated-sorted-array-ii/)\n",
    "\n",
    "## Plan 1 \n",
    "1. search in the first half or second half"
   ]
  },
  {
   "cell_type": "code",
   "execution_count": 42,
   "metadata": {},
   "outputs": [],
   "source": [
    "def search(nums,target):\n",
    "    start,end=0,len(nums)-1\n",
    "    return aux_search(start,end,nums,target)\n",
    "def aux_search(start,end,nums,target):\n",
    "    mid=(start+end)//2\n",
    "    print(mid)\n",
    "    if start>end:\n",
    "        return False\n",
    "    elif nums[mid]==target:\n",
    "        return True\n",
    "    else:\n",
    "        return aux_search(start,mid-1,nums,target) or aux_search(mid+1,end,nums,target)"
   ]
  },
  {
   "cell_type": "code",
   "execution_count": 44,
   "metadata": {},
   "outputs": [
    {
     "name": "stdout",
     "output_type": "stream",
     "text": [
      "1\n",
      "0\n",
      "-1\n",
      "0\n",
      "2\n"
     ]
    },
    {
     "data": {
      "text/plain": [
       "True"
      ]
     },
     "execution_count": 44,
     "metadata": {},
     "output_type": "execute_result"
    }
   ],
   "source": [
    "search([5,1,3],3)"
   ]
  },
  {
   "cell_type": "markdown",
   "metadata": {},
   "source": [
    "# Remove the duplicates from a sorted array\n",
    "(Not leetcode question)"
   ]
  },
  {
   "cell_type": "code",
   "execution_count": 22,
   "metadata": {},
   "outputs": [],
   "source": [
    "def RemoveDup(nums):\n",
    "    nums+=['#'] # adding a sentinel value\n",
    "    j,k=0,1\n",
    "    for i in range(1,len(nums)):\n",
    "        if nums[i]==nums[i-1]:\n",
    "            k+=1\n",
    "        else:\n",
    "            if k==1:\n",
    "                nums[j]=nums[i-1]\n",
    "                j+=1\n",
    "            k=1\n",
    "    return nums[0:j]"
   ]
  },
  {
   "cell_type": "code",
   "execution_count": 23,
   "metadata": {},
   "outputs": [
    {
     "data": {
      "text/plain": [
       "[1, 4]"
      ]
     },
     "execution_count": 23,
     "metadata": {},
     "output_type": "execute_result"
    }
   ],
   "source": [
    "RemoveDup([1,2,2,3,3,4])"
   ]
  },
  {
   "cell_type": "markdown",
   "metadata": {},
   "source": [
    "## Doing the previous one recursively"
   ]
  },
  {
   "cell_type": "code",
   "execution_count": 17,
   "metadata": {},
   "outputs": [],
   "source": [
    "def RemoveDepRec(nums,i,j,k):\n",
    "    if i==len(nums):\n",
    "        return nums[:j]\n",
    "    else:\n",
    "        if nums[i]==nums[i-1]:\n",
    "            k+=1\n",
    "        else:\n",
    "            if k==1:\n",
    "                nums[j]=nums[i-1]\n",
    "                j+=1\n",
    "            k=1\n",
    "    return RemoveDepRec(nums,i+1,j,k)"
   ]
  },
  {
   "cell_type": "code",
   "execution_count": 19,
   "metadata": {},
   "outputs": [
    {
     "name": "stdout",
     "output_type": "stream",
     "text": [
      "1 0\n",
      "2 1\n",
      "3 1\n",
      "4 1\n",
      "5 1\n",
      "6 1\n"
     ]
    },
    {
     "data": {
      "text/plain": [
       "[1, 4]"
      ]
     },
     "execution_count": 19,
     "metadata": {},
     "output_type": "execute_result"
    }
   ],
   "source": [
    "RemoveDepRec([1,2,2,3,3,4,'#'],1,0,1)"
   ]
  },
  {
   "cell_type": "markdown",
   "metadata": {},
   "source": [
    "# Question\n",
    "[88.Merge Sorted Array](https://leetcode.com/problems/merge-sorted-array/)\n",
    "\n",
    "## Plan 1 \n",
    "1. start from the end both of the list\n",
    "2. place the highest one on the last, decrease the array pointer for all the interacted list\n",
    "3. compare the next two do the same"
   ]
  },
  {
   "cell_type": "code",
   "execution_count": 16,
   "metadata": {},
   "outputs": [],
   "source": [
    "def merge(nums1,nums2):    \n",
    "    m=len(nums1)-len(nums2)-1\n",
    "    n=len(nums2)-1\n",
    "    comb=m+n+1\n",
    "    while m>=0 and n>=0:\n",
    "        if nums1[m]==nums2[n]:\n",
    "            print(1)\n",
    "            nums1[comb],m=nums1[m],m-1\n",
    "            nums1[comb-1],n=nums2[n],n-1\n",
    "            comb-=2\n",
    "        elif nums1[m]<nums2[n]:\n",
    "            print(2)\n",
    "            nums1[comb]=nums2[n]\n",
    "            n-=1\n",
    "            comb-=1\n",
    "        else:\n",
    "            print(3)\n",
    "            nums1[comb]=nums1[m]\n",
    "            m-=1\n",
    "            comb-=1\n",
    "        print(nums1)\n",
    "    if m<0:\n",
    "        while comb>=0:\n",
    "            nums1[comb]=nums2[n]\n",
    "            comb-=1\n",
    "            n-=1\n",
    "    else:\n",
    "        return nums1"
   ]
  },
  {
   "cell_type": "code",
   "execution_count": 19,
   "metadata": {},
   "outputs": [
    {
     "data": {
      "text/plain": [
       "[1]"
      ]
     },
     "execution_count": 19,
     "metadata": {},
     "output_type": "execute_result"
    }
   ],
   "source": [
    "merge([0],[1])"
   ]
  },
  {
   "cell_type": "markdown",
   "metadata": {},
   "source": [
    "# Question\n",
    "[118.Pascal's Triangle](https://leetcode.com/problems/pascals-triangle/)\n",
    "\n",
    "## Plan \n",
    "- Pascals triangle is a triangular array of binomial coefficients $n_{k}$\n",
    "- choosing i elements from the n elements"
   ]
  },
  {
   "cell_type": "code",
   "execution_count": 14,
   "metadata": {},
   "outputs": [],
   "source": [
    "def generate(numRows):\n",
    "    Fact_list=[1]\n",
    "    Result=[]\n",
    "    for i in range(1,numRows):\n",
    "        Fact_list+=[Fact_list[-1]*i]\n",
    "    for i in range(numRows):\n",
    "        pascalsRow=[0 for _ in range(i+1)]\n",
    "        for j in range(i+1):\n",
    "            pascalsRow[j]=Fact_list[i]//(Fact_list[j]*Fact_list[i-j])\n",
    "        Result+=[pascalsRow]\n",
    "    return Result    "
   ]
  },
  {
   "cell_type": "code",
   "execution_count": 15,
   "metadata": {},
   "outputs": [
    {
     "data": {
      "text/plain": [
       "[[1], [1, 1], [1, 2, 1]]"
      ]
     },
     "execution_count": 15,
     "metadata": {},
     "output_type": "execute_result"
    }
   ],
   "source": [
    "generate(3)"
   ]
  },
  {
   "cell_type": "markdown",
   "metadata": {},
   "source": [
    "# Question\n",
    "[119.Pascal's Triangle II](https://leetcode.com/problems/pascals-triangle-ii/)\n",
    "\n",
    "## Plan \n",
    "- Pascals triangle is a triangular array of binomial coefficients $n_{k}$\n",
    "- choosing i elements from the n elements"
   ]
  },
  {
   "cell_type": "code",
   "execution_count": 3,
   "metadata": {},
   "outputs": [],
   "source": [
    "def getRow(rowIndex):\n",
    "    Fact_list=[1]\n",
    "    for i in range(1,rowIndex+1):\n",
    "        Fact_list+=[Fact_list[-1]*i]\n",
    "    pascalsRow=[0 for i in range(rowIndex+1)]\n",
    "    for i in range(rowIndex+1):\n",
    "        pascalsRow[i]=Fact_list[rowIndex]//(Fact_list[i]*Fact_list[rowIndex-i])\n",
    "    return pascalsRow"
   ]
  },
  {
   "cell_type": "code",
   "execution_count": 4,
   "metadata": {},
   "outputs": [
    {
     "data": {
      "text/plain": [
       "[1, 4, 6, 4, 1]"
      ]
     },
     "execution_count": 4,
     "metadata": {},
     "output_type": "execute_result"
    }
   ],
   "source": [
    "getRow(4)"
   ]
  },
  {
   "cell_type": "markdown",
   "metadata": {},
   "source": [
    "# Question\n",
    "[120.Triangle](https://leetcode.com/problems/triangle/)\n",
    "\n",
    "## Plan (top down memoization)\n",
    "- The idea is to go left and right(same position,or the next position) from a point get the minimum among these two points\n",
    "- Dynamically assign all the points to an array"
   ]
  },
  {
   "cell_type": "code",
   "execution_count": 26,
   "metadata": {},
   "outputs": [],
   "source": [
    "def minimumTotal(triangle):\n",
    "    dp=[[-float('Inf') for i in range(len(triangle[j]))]for j in range(len(triangle)-1)]+[triangle[-1]]\n",
    "    return auxminimumTotal(triangle,0,0,dp)\n",
    "def auxminimumTotal(triangle,i,j,dp):\n",
    "    if dp[i][j]!=-float('Inf'):\n",
    "        return dp[i][j]\n",
    "    else:\n",
    "        dp[i][j]=min(triangle[i][j]+auxminimumTotal(triangle,i+1,j,dp),triangle[i][j]+auxminimumTotal(triangle,i+1,j+1,dp))\n",
    "    return dp[i][j]"
   ]
  },
  {
   "cell_type": "code",
   "execution_count": 27,
   "metadata": {},
   "outputs": [
    {
     "name": "stdout",
     "output_type": "stream",
     "text": [
      "[[-inf], [-inf, -inf], [7, -inf, -inf], [4, 1, 8, 3]]\n",
      "[[-inf], [-inf, -inf], [7, 6, -inf], [4, 1, 8, 3]]\n",
      "[[-inf], [9, -inf], [7, 6, -inf], [4, 1, 8, 3]]\n",
      "[[-inf], [9, -inf], [7, 6, 10], [4, 1, 8, 3]]\n",
      "[[-inf], [9, 10], [7, 6, 10], [4, 1, 8, 3]]\n",
      "[[11], [9, 10], [7, 6, 10], [4, 1, 8, 3]]\n"
     ]
    },
    {
     "data": {
      "text/plain": [
       "11"
      ]
     },
     "execution_count": 27,
     "metadata": {},
     "output_type": "execute_result"
    }
   ],
   "source": [
    "l=[[2],[3,4],[6,5,7],[4,1,8,3]]\n",
    "minimumTotal(l)"
   ]
  },
  {
   "cell_type": "markdown",
   "metadata": {},
   "source": [
    "## Plan (bottom up approach)\n",
    "- Starts from the end of the list\n",
    "- The idea is to go left and right(same position,or the next position) from a point get the minimum among these two points\n",
    "- Dynamically assign all the points to an array"
   ]
  },
  {
   "cell_type": "code",
   "execution_count": 37,
   "metadata": {},
   "outputs": [],
   "source": [
    "def minimumTotal(triangle):\n",
    "    if len(triangle)==1:\n",
    "        return triangle[0][0]\n",
    "    while len(triangle)>1:\n",
    "        print(triangle)\n",
    "        for i in range(len(triangle[-2])):\n",
    "            triangle[-2][i]=min(triangle[-2][i]+triangle[-1][i],triangle[-2][i]+triangle[-1][i+1])\n",
    "        triangle.pop()\n",
    "    return triangle[0][0]"
   ]
  },
  {
   "cell_type": "code",
   "execution_count": 39,
   "metadata": {},
   "outputs": [
    {
     "name": "stdout",
     "output_type": "stream",
     "text": [
      "[[2], [3, 4], [6, 5, 7], [4, 1, 8, 3]]\n",
      "[[2], [3, 4], [7, 6, 10]]\n",
      "[[2], [9, 10]]\n"
     ]
    },
    {
     "data": {
      "text/plain": [
       "11"
      ]
     },
     "execution_count": 39,
     "metadata": {},
     "output_type": "execute_result"
    }
   ],
   "source": [
    "l=[[2],[3,4],[6,5,7],[4,1,8,3]]\n",
    "minimumTotal(l)"
   ]
  },
  {
   "cell_type": "markdown",
   "metadata": {},
   "source": [
    "# Question\n",
    "[121.Best Time to Buy and Sell Stock](https://leetcode.com/problems/best-time-to-buy-and-sell-stock/)\n",
    "\n",
    "## Plan (two pointer)\n",
    "- Keep track of the minimum number\n",
    "- if the number less than Minimum number then minimum number will be replaced\n",
    "- else update the maximum difference"
   ]
  },
  {
   "cell_type": "code",
   "execution_count": 1,
   "metadata": {},
   "outputs": [],
   "source": [
    "def maxProfit(prices):\n",
    "    Min=float('inf')\n",
    "    Dif=0\n",
    "    for price in prices:\n",
    "        if price<Min:\n",
    "            Min=price\n",
    "        else:\n",
    "            Dif=max(Dif,price-Min)\n",
    "    return Dif  "
   ]
  },
  {
   "cell_type": "markdown",
   "metadata": {},
   "source": [
    "# Question\n",
    "[122.Best Time to Buy and Sell Stock II](https://leetcode.com/problems/best-time-to-buy-and-sell-stock-ii/)\n",
    "\n",
    "## Plan (two pointer)\n",
    "- Keep track of Max and Min, if prices are less than maximum then Max and Min will be set previous difference will be added to the result\n",
    "- Then Diff will be set to zero\n",
    "- returen will be Result+diff"
   ]
  },
  {
   "cell_type": "code",
   "execution_count": 17,
   "metadata": {},
   "outputs": [],
   "source": [
    "def maxProfit(prices):\n",
    "    Max,Min,Diff,Result=float('inf'),float('inf'),0,0\n",
    "    for price in prices:\n",
    "        if price<Max:\n",
    "            Min,Max=price,price\n",
    "            Result+=Diff\n",
    "            Diff=0\n",
    "        else:\n",
    "            Max=price\n",
    "            Diff=price-Min\n",
    "    return Result+Diff"
   ]
  },
  {
   "cell_type": "code",
   "execution_count": 21,
   "metadata": {},
   "outputs": [
    {
     "data": {
      "text/plain": [
       "1"
      ]
     },
     "execution_count": 21,
     "metadata": {},
     "output_type": "execute_result"
    }
   ],
   "source": [
    "maxProfit([1,2])"
   ]
  },
  {
   "cell_type": "markdown",
   "metadata": {},
   "source": [
    "# Question\n",
    "[130.Surrounded Regions](https://leetcode.com/problems/surrounded-regions/)\n",
    "\n",
    "## Plan (iterative and recursive)\n",
    "- Iteratively go through all the elements of the outer surface of the board, if 'O' is found then replace 'O' with 'a' recursively go to up, down, right, left.\n",
    "- After that set 'X' all the elements of 'O' and set all the elements to 'O' all the 'a' elements in the board."
   ]
  },
  {
   "cell_type": "code",
   "execution_count": 54,
   "metadata": {},
   "outputs": [],
   "source": [
    "def solve(board):\n",
    "    if len(board)>2:\n",
    "        if len(board[0])>2:\n",
    "            x=0\n",
    "            for y in range(len(board[0])):\n",
    "                if board[x][y]=='O':\n",
    "                    auxsolve(board,x,y)\n",
    "            x=len(board[0])-1\n",
    "            for y in range(len(board[0])):\n",
    "                if board[x][y]=='O':\n",
    "                    auxsolve(board,x,y)\n",
    "            y=0\n",
    "            for x in range(len(board)):\n",
    "                if board[x][y]=='O':\n",
    "                    auxsolve(board,x,y)\n",
    "            y=len(board)-1\n",
    "            for x in range(len(board)):\n",
    "                if board[x][y]=='O':\n",
    "                    auxsolve(board,x,y)\n",
    "            print(board)\n",
    "            for i in range(len(board)):\n",
    "                for j in range(0,len(board[0])):\n",
    "                    if board[i][j]=='O':\n",
    "                        board[i][j]='X'\n",
    "                    elif board[i][j]=='a':\n",
    "                        board[i][j]='O'\n",
    "    return board\n",
    "def auxsolve(w,x,y):\n",
    "    if 0<=x<len(w) and 0<=y<len(w[0]) and w[x][y]=='O':\n",
    "        w[x][y]='a'\n",
    "        auxsolve(w,x+1,y)\n",
    "        auxsolve(w,x-1,y)\n",
    "        auxsolve(w,x,y+1)\n",
    "        auxsolve(w,x,y-1)"
   ]
  },
  {
   "cell_type": "code",
   "execution_count": 55,
   "metadata": {},
   "outputs": [],
   "source": [
    "b=[[\"O\",\"X\",\"O\",\"O\",\"X\",\"X\"],[\"O\",\"X\",\"X\",\"X\",\"O\",\"X\"],[\"X\",\"O\",\"O\",\"X\",\"O\",\"O\"],[\"X\",\"O\",\"X\",\"X\",\"X\",\"X\"],[\"O\",\"O\",\"X\",\"O\",\"X\",\"X\"],[\"X\",\"X\",\"O\",\"O\",\"O\",\"O\"]]\n",
    "k=[[\"O\",\"X\",\"O\",\"O\",\"X\",\"X\"],[\"O\",\"X\",\"X\",\"X\",\"O\",\"X\"],[\"X\",\"O\",\"O\",\"X\",\"O\",\"O\"],[\"X\",\"O\",\"X\",\"X\",\"X\",\"X\"],[\"O\",\"O\",\"X\",\"O\",\"X\",\"X\"],[\"X\",\"X\",\"O\",\"O\",\"O\",\"O\"]]"
   ]
  },
  {
   "cell_type": "code",
   "execution_count": 57,
   "metadata": {},
   "outputs": [
    {
     "name": "stdout",
     "output_type": "stream",
     "text": [
      "[['a', 'X', 'a', 'a', 'X', 'X'], ['a', 'X', 'X', 'X', 'a', 'X'], ['X', 'a', 'a', 'X', 'a', 'a'], ['X', 'a', 'X', 'X', 'X', 'X'], ['a', 'a', 'X', 'a', 'X', 'X'], ['X', 'X', 'a', 'a', 'a', 'a']]\n"
     ]
    },
    {
     "data": {
      "text/plain": [
       "[['O', 'X', 'O', 'O', 'X', 'X'],\n",
       " ['O', 'X', 'X', 'X', 'O', 'X'],\n",
       " ['X', 'O', 'O', 'X', 'O', 'O'],\n",
       " ['X', 'O', 'X', 'X', 'X', 'X'],\n",
       " ['O', 'O', 'X', 'O', 'X', 'X'],\n",
       " ['X', 'X', 'O', 'O', 'O', 'O']]"
      ]
     },
     "execution_count": 57,
     "metadata": {},
     "output_type": "execute_result"
    }
   ],
   "source": [
    "t=[[\"O\",\"X\",\"O\"],[\"X\",\"O\",\"X\"],[\"O\",\"X\",\"O\"]]\n",
    "solve(k)"
   ]
  },
  {
   "cell_type": "markdown",
   "metadata": {},
   "source": [
    "# Question\n",
    "[134. Gas Station](https://leetcode.com/problems/gas-station/)\n",
    "\n",
    "## Plan (iterative)\n",
    "- The idea is to add the differece of gas and cost consequtively and keep track of the minimum\n",
    "- At the end, if differece is greater than or equl to zero next index will be the result\n",
    "- Else return -1"
   ]
  },
  {
   "cell_type": "code",
   "execution_count": 1,
   "metadata": {},
   "outputs": [],
   "source": [
    "def canCompleteCircuit(gas, cost):\n",
    "    Min=float('Inf')\n",
    "    prev=0\n",
    "    for i in range(len(gas)):\n",
    "        dif=gas[i]-cost[i]+prev\n",
    "        if dif<=Min:\n",
    "            Min=dif\n",
    "            index=i\n",
    "        prev=dif\n",
    "    if dif>=0:\n",
    "        return 0 if index+1>=len(gas) else index+1\n",
    "    else:\n",
    "        return -1"
   ]
  },
  {
   "cell_type": "code",
   "execution_count": 2,
   "metadata": {},
   "outputs": [
    {
     "data": {
      "text/plain": [
       "6"
      ]
     },
     "execution_count": 2,
     "metadata": {},
     "output_type": "execute_result"
    }
   ],
   "source": [
    "canCompleteCircuit([1,2,3,4,5,5,70],[2,3,4,3,9,6,2])"
   ]
  },
  {
   "cell_type": "markdown",
   "metadata": {},
   "source": [
    "# Question\n",
    "[153. Find Minimum in Rotated Sorted Array](https://leetcode.com/problems/find-minimum-in-rotated-sorted-array/)\n",
    "\n",
    "## Plan (Recursive)\n",
    "- Use the binary logarithmic search \n",
    "- Find the part which is not sorted recursively apply logarithmic search untill two last element left and last element will be the pivot element"
   ]
  },
  {
   "cell_type": "code",
   "execution_count": 16,
   "metadata": {},
   "outputs": [],
   "source": [
    "def findMin(nums,start,end):\n",
    "    mid=(start+end)//2\n",
    "    if end-start<=1:\n",
    "        return nums[end]\n",
    "    if nums[start]<nums[mid]:\n",
    "        return findMin(nums,mid,end)\n",
    "    else:\n",
    "        return findMin(nums,start,mid)"
   ]
  },
  {
   "cell_type": "code",
   "execution_count": 17,
   "metadata": {},
   "outputs": [
    {
     "data": {
      "text/plain": [
       "4"
      ]
     },
     "execution_count": 17,
     "metadata": {},
     "output_type": "execute_result"
    }
   ],
   "source": [
    "nums=[7,10,12,13,4]\n",
    "start=0\n",
    "end=len(nums)-1\n",
    "findMin(nums,start,end)"
   ]
  },
  {
   "cell_type": "markdown",
   "metadata": {},
   "source": [
    "# Question\n",
    "[200. Number of Islands](https://leetcode.com/problems/number-of-islands/)\n",
    "\n",
    "## Plan (Recursive and DFS)\n",
    "- The idea is to traverse whole array and initialize a counter\n",
    "- If we find an element '1' we will start looking it's surround (left,right,up and down) and marked the 1 as '#' [which is like depth first search]\n",
    "- Increasing the counter with each depth first search"
   ]
  },
  {
   "cell_type": "code",
   "execution_count": 3,
   "metadata": {},
   "outputs": [],
   "source": [
    "def numIslands(grid):\n",
    "    NumIsland=0\n",
    "    for i in range(len(grid)):\n",
    "        for j in range(len(grid[0])):\n",
    "            if grid[i][j]==\"1\":\n",
    "                NumIsland+=findIsland(grid,i,j)\n",
    "    return NumIsland\n",
    "def findIsland(grid,i,j):\n",
    "    if i<0 or j<0:\n",
    "        return 1\n",
    "    elif i>=len(grid) or j>=len(grid[0]):\n",
    "        return 1\n",
    "    elif grid[i][j]==\"0\" or grid[i][j]=='#':\n",
    "        return 1\n",
    "    else:\n",
    "        grid[i][j]='#'\n",
    "        return findIsland(grid,i+1,j) and findIsland(grid,i-1,j) and findIsland(grid,i,j+1) and findIsland(grid,i,j-1)"
   ]
  },
  {
   "cell_type": "code",
   "execution_count": 4,
   "metadata": {},
   "outputs": [
    {
     "data": {
      "text/plain": [
       "2"
      ]
     },
     "execution_count": 4,
     "metadata": {},
     "output_type": "execute_result"
    }
   ],
   "source": [
    "numIslands([[\"1\",\"1\",\"0\",\"0\",\"0\"],[\"1\",\"1\",\"0\",\"0\",\"0\"],[\"0\",\"0\",\"1\",\"0\",\"0\"],[\"1\",\"1\",\"1\",\"1\",\"1\"]])"
   ]
  },
  {
   "cell_type": "markdown",
   "metadata": {},
   "source": [
    "# Question\n",
    "[198. House Robber](https://leetcode.com/problems/house-robber/)\n",
    "\n",
    "## Plan (Dynamic Programming)\n",
    "- In each iteration we are going to keep two maximum one for the present and another for the previous number\n",
    "- Present maximum will be save for the future use in the second variable called 'b'"
   ]
  },
  {
   "cell_type": "code",
   "execution_count": 1,
   "metadata": {},
   "outputs": [],
   "source": [
    "def rob(nums):\n",
    "    if len(nums)==0: #edge case\n",
    "        return 0\n",
    "    elif len(nums)==1: #edge case\n",
    "        return nums[0]\n",
    "    else:\n",
    "        a,b=nums[0],nums[1] # start with two number\n",
    "        # each iteration two maximum will be calculated one is for up to present number and another one for previous number\n",
    "        for i in range(2,len(nums)):\n",
    "            c=a+nums[i] # in each iteration the number will add with previous number maximum\n",
    "            a=max(a,b) # max of previous two max numbers\n",
    "            b=c # saving the present max\n",
    "        return max(a,b)"
   ]
  },
  {
   "cell_type": "code",
   "execution_count": 2,
   "metadata": {},
   "outputs": [
    {
     "data": {
      "text/plain": [
       "6"
      ]
     },
     "execution_count": 2,
     "metadata": {},
     "output_type": "execute_result"
    }
   ],
   "source": [
    "rob([1,2,3,4])"
   ]
  },
  {
   "cell_type": "markdown",
   "metadata": {},
   "source": [
    "# Question\n",
    "[189. Rotate Array](https://leetcode.com/problems/rotate-array/)\n",
    "\n",
    "## Plan (Rotate using reverse)\n",
    "- Divide the array into two parts $k$ \\& $l[len(array)-k]$\n",
    "- Revere l and k part, then reverse the from the first and last $min(l,k)$\n",
    "- rotate $min(l,k)$ to $max(l,k)$"
   ]
  },
  {
   "cell_type": "code",
   "execution_count": 5,
   "metadata": {},
   "outputs": [],
   "source": [
    "class Solution:\n",
    "    def rotate(self, nums, k: int) -> None:\n",
    "        \"\"\"\n",
    "        Do not return anything, modify nums in-place instead.\n",
    "        \"\"\"\n",
    "        k=k%len(nums)\n",
    "        l=len(nums)-k\n",
    "        if k>l:\n",
    "            self.reverse(nums,0,l-1)\n",
    "            self.reverse(nums,l,l+k-1)\n",
    "            self.reverse_count(nums,0,l+k-1,l,0)\n",
    "            self.reverse(nums,l,k-1)\n",
    "        else:\n",
    "            self.reverse(nums,0,l-1)\n",
    "            self.reverse(nums,l,l+k-1)\n",
    "            self.reverse_count(nums,0,l+k-1,k,0)\n",
    "            self.reverse(nums,k,l-1)\n",
    "        return nums\n",
    "    def reverse(self,nums,start,end):\n",
    "        if start<end:\n",
    "            nums[start],nums[end]=nums[end],nums[start]\n",
    "            self.reverse(nums,start+1,end-1)\n",
    "    def reverse_count(self,nums,start,end,count,st):\n",
    "        if st<count:\n",
    "            nums[start],nums[end]=nums[end],nums[start]\n",
    "            self.reverse_count(nums,start+1,end-1,count,st+1)\n",
    "        "
   ]
  },
  {
   "cell_type": "code",
   "execution_count": 8,
   "metadata": {},
   "outputs": [
    {
     "data": {
      "text/plain": [
       "[6, 7, 1, 2, 3, 4, 5]"
      ]
     },
     "execution_count": 8,
     "metadata": {},
     "output_type": "execute_result"
    }
   ],
   "source": [
    "p=Solution()\n",
    "p.rotate([1,2,3,4,5,6,7],100)"
   ]
  },
  {
   "cell_type": "code",
   "execution_count": null,
   "metadata": {},
   "outputs": [],
   "source": []
  },
  {
   "cell_type": "code",
   "execution_count": 58,
   "metadata": {},
   "outputs": [],
   "source": [
    "class Solution:\n",
    "    def majorityElement(self, nums):\n",
    "        i=1\n",
    "        while i<len(nums):\n",
    "            if nums[i-1]==nums[i]:\n",
    "                k=i\n",
    "                i=self.swapright(k+1,len(nums)-1,nums,nums[k])\n",
    "                j=self.swapleft(k-2,0,nums,nums[k])\n",
    "                if i-j-1>len(nums)//2:\n",
    "                    print(i,j,nums)\n",
    "                    return nums[k]\n",
    "            elif i>1 and nums[i-2]==nums[i]:\n",
    "                k=i\n",
    "                nums[i-2],nums[i-1]=nums[i-1],nums[i-2]\n",
    "                i=self.swapright(k+1,len(nums)-1,nums,nums[k])\n",
    "                j=self.swapleft(k-2,0,nums,nums[k])\n",
    "                if i-j-1>len(nums)//2:\n",
    "                    print(i,j,nums)\n",
    "                    return nums[k]\n",
    "            else:\n",
    "                i+=1\n",
    "    def swapright(self,start,end,nums,val):\n",
    "        print('r',nums)\n",
    "        if start>=end:\n",
    "            return start+1 if start==len(nums)-1 and nums[start]==val else start\n",
    "        elif nums[start]==val:\n",
    "            return self.swapright(start+1,end,nums,val)\n",
    "        elif nums[end]==val:\n",
    "            nums[start],nums[end]=nums[end],nums[start]\n",
    "            return self.swapright(start+1,end,nums,val)\n",
    "        else:\n",
    "            return self.swapright(start,end-1,nums,val)\n",
    "\n",
    "    def swapleft(self,end,start,nums,val):\n",
    "        print('l',nums)\n",
    "        if end<=start:\n",
    "            return end-1 if end==0 and nums[end]==val else end\n",
    "        elif nums[end]==val:\n",
    "            return self.swapleft(end-1,start,nums,val)\n",
    "        elif nums[start]==val:\n",
    "            nums[end],nums[start]=nums[start],nums[end]\n",
    "            return self.swapleft(end-1,start,nums,val)\n",
    "        else:\n",
    "            return self.swapleft(end,start+1,nums,val)"
   ]
  },
  {
   "cell_type": "code",
   "execution_count": 62,
   "metadata": {},
   "outputs": [
    {
     "name": "stdout",
     "output_type": "stream",
     "text": [
      "('r', [1, 2, 2, 2, 1, 1, 1, 2, 2, 1, 1, 1, 1, 2])\n",
      "('r', [1, 2, 2, 2, 1, 1, 1, 2, 2, 1, 1, 1, 1, 2])\n",
      "('r', [1, 2, 2, 2, 2, 1, 1, 2, 2, 1, 1, 1, 1, 1])\n",
      "('r', [1, 2, 2, 2, 2, 1, 1, 2, 2, 1, 1, 1, 1, 1])\n",
      "('r', [1, 2, 2, 2, 2, 1, 1, 2, 2, 1, 1, 1, 1, 1])\n",
      "('r', [1, 2, 2, 2, 2, 1, 1, 2, 2, 1, 1, 1, 1, 1])\n",
      "('r', [1, 2, 2, 2, 2, 1, 1, 2, 2, 1, 1, 1, 1, 1])\n",
      "('r', [1, 2, 2, 2, 2, 1, 1, 2, 2, 1, 1, 1, 1, 1])\n",
      "('r', [1, 2, 2, 2, 2, 2, 1, 2, 1, 1, 1, 1, 1, 1])\n",
      "('r', [1, 2, 2, 2, 2, 2, 1, 2, 1, 1, 1, 1, 1, 1])\n",
      "('r', [1, 2, 2, 2, 2, 2, 2, 1, 1, 1, 1, 1, 1, 1])\n",
      "('l', [1, 2, 2, 2, 2, 2, 2, 1, 1, 1, 1, 1, 1, 1])\n",
      "('r', [1, 2, 2, 2, 2, 2, 2, 1, 1, 1, 1, 1, 1, 1])\n",
      "('r', [1, 2, 2, 2, 2, 2, 2, 1, 1, 1, 1, 1, 1, 1])\n",
      "('r', [1, 2, 2, 2, 2, 2, 2, 1, 1, 1, 1, 1, 1, 1])\n",
      "('r', [1, 2, 2, 2, 2, 2, 2, 1, 1, 1, 1, 1, 1, 1])\n",
      "('r', [1, 2, 2, 2, 2, 2, 2, 1, 1, 1, 1, 1, 1, 1])\n",
      "('l', [1, 2, 2, 2, 2, 2, 2, 1, 1, 1, 1, 1, 1, 1])\n",
      "('l', [2, 2, 2, 2, 2, 2, 1, 1, 1, 1, 1, 1, 1, 1])\n",
      "('l', [2, 2, 2, 2, 2, 2, 1, 1, 1, 1, 1, 1, 1, 1])\n",
      "('l', [2, 2, 2, 2, 2, 2, 1, 1, 1, 1, 1, 1, 1, 1])\n",
      "('l', [2, 2, 2, 2, 2, 2, 1, 1, 1, 1, 1, 1, 1, 1])\n",
      "('l', [2, 2, 2, 2, 2, 2, 1, 1, 1, 1, 1, 1, 1, 1])\n",
      "('l', [2, 2, 2, 2, 2, 2, 1, 1, 1, 1, 1, 1, 1, 1])\n",
      "(14, 5, [2, 2, 2, 2, 2, 2, 1, 1, 1, 1, 1, 1, 1, 1])\n"
     ]
    },
    {
     "data": {
      "text/plain": [
       "1"
      ]
     },
     "execution_count": 62,
     "metadata": {},
     "output_type": "execute_result"
    }
   ],
   "source": [
    "s=Solution()\n",
    "s.majorityElement([1,2,2,2,1,1,1,2,2,1,1,1,1,2])"
   ]
  },
  {
   "cell_type": "markdown",
   "metadata": {},
   "source": [
    "# Question\n",
    "[204. Count Primes](https://leetcode.com/problems/count-primes/)\n",
    "\n",
    "## Plan (Using multiplication the factor)\n",
    "- Initializing a list with length of $n$, where all the numbers are not prime\n",
    "- First two number $0$ and $1$ are not prime\n",
    "- From the third number we will start multiplying the number from $2$ and mark the resultant number as not prime in the list\n",
    "- At the end add all the number which are prime "
   ]
  },
  {
   "cell_type": "code",
   "execution_count": 11,
   "metadata": {},
   "outputs": [],
   "source": [
    "def countPrimes(n):\n",
    "    if n<2:\n",
    "        return 0\n",
    "    count=0\n",
    "    notPrime=[False]*n\n",
    "    notPrime[0],notPrime[1]=True,True\n",
    "    for i in range(2,int(n**0.5)+1):\n",
    "        if notPrime[i]==False:\n",
    "            count+=1\n",
    "            j=2\n",
    "            while i*j<n:\n",
    "                notPrime[i*j]=True\n",
    "                j+=1\n",
    "    for i in range(int(n**0.5)+1,n):\n",
    "        if notPrime[i]==False:\n",
    "            count+=1\n",
    "    return count"
   ]
  },
  {
   "cell_type": "code",
   "execution_count": 12,
   "metadata": {},
   "outputs": [
    {
     "data": {
      "text/plain": [
       "4"
      ]
     },
     "execution_count": 12,
     "metadata": {},
     "output_type": "execute_result"
    }
   ],
   "source": [
    "countPrimes(10)"
   ]
  },
  {
   "cell_type": "markdown",
   "metadata": {},
   "source": [
    "# Question\n",
    "[1046.Last Stone Weight](https://leetcode.com/problems/last-stone-weight/)\n",
    "\n",
    "## Plan (Using heap)\n",
    "- "
   ]
  },
  {
   "cell_type": "code",
   "execution_count": 51,
   "metadata": {},
   "outputs": [],
   "source": [
    "class Solution:\n",
    "    def lastStoneWeight(self, stones):\n",
    "        Stones=self.heapify(stones)\n",
    "        while len(Stones)>1:\n",
    "            print(Stones)\n",
    "            x=self.removeMax(Stones)\n",
    "            y=self.removeMax(Stones)\n",
    "            if x!=y:\n",
    "                # For inserting the element\n",
    "                Stones+=[x-y]\n",
    "                self.insert(Stones)\n",
    "        return 0 if not len(Stones) else Stones[0]\n",
    "    \n",
    "    def heapify(self,arr):\n",
    "        newArr=[]\n",
    "        for element in arr:\n",
    "            newArr+=[element]\n",
    "            self.insert(newArr)\n",
    "        return newArr\n",
    "    \n",
    "    def insert(self,arr):\n",
    "        j=len(arr)-1\n",
    "        while j>0 and arr[j]>arr[(j-1)//2]:\n",
    "            arr[j],arr[(j-1)//2]=arr[(j-1)//2],arr[j]\n",
    "            j=(j-1)//2\n",
    "    \n",
    "    def removeMax(self,arr):\n",
    "        arr[0],arr[len(arr)-1]=arr[len(arr)-1],arr[0]\n",
    "        Max,j=arr.pop(),0\n",
    "        while 2*j+2<len(arr) or 2*j+1<len(arr):\n",
    "            if 2*j+2>=len(arr):\n",
    "                j=2*j+1\n",
    "            else:\n",
    "                if arr[2*j+1]>arr[2*j+2]:\n",
    "                    j=2*j+1\n",
    "                else:\n",
    "                    j=2*j+2\n",
    "            if arr[j]>arr[(j-1)//2]:\n",
    "                arr[j],arr[(j-1)//2]=arr[(j-1)//2],arr[j]\n",
    "            else:\n",
    "                break\n",
    "        return Max       "
   ]
  },
  {
   "cell_type": "code",
   "execution_count": 52,
   "metadata": {},
   "outputs": [
    {
     "name": "stdout",
     "output_type": "stream",
     "text": [
      "[8, 7, 4, 1, 2]\n",
      "[4, 2, 1, 1]\n",
      "[2, 1, 1]\n",
      "[1, 1]\n"
     ]
    },
    {
     "data": {
      "text/plain": [
       "0"
      ]
     },
     "execution_count": 52,
     "metadata": {},
     "output_type": "execute_result"
    }
   ],
   "source": [
    "s=Solution()\n",
    "#s.heapify([2,7,4,1,8])\n",
    "#s.removeMax([7, 2, 4, 1])\n",
    "s.lastStoneWeight([2,7,4,1,8])"
   ]
  },
  {
   "cell_type": "markdown",
   "metadata": {},
   "source": [
    "# Question\n",
    "[209. Minimum Size Subarray Sum](https://leetcode.com/problems/minimum-size-subarray-sum/)\n",
    "\n",
    "## Plan (Using two pointer)\n",
    "- The idea is increasing the window length untill it reaches to the given int \n",
    "- As soon as it reaches to the sum decreasing the window size do the loop again the end of window reaches to the end or sum is less than the given int"
   ]
  },
  {
   "cell_type": "code",
   "execution_count": 4,
   "metadata": {},
   "outputs": [],
   "source": [
    "class Solution:\n",
    "    def minSubArrayLen(self, s, nums):\n",
    "        i,j,Sum,minLen=0,0,0,float('inf')\n",
    "        while j<len(nums) or Sum>=s:\n",
    "            if Sum>=s:\n",
    "                minLen=min(minLen,j-i)\n",
    "                Sum-=nums[i]\n",
    "                i+=1\n",
    "            else:\n",
    "                Sum+=nums[j]\n",
    "                j+=1\n",
    "        return 0 if minLen==float('inf') else minLen"
   ]
  },
  {
   "cell_type": "code",
   "execution_count": 6,
   "metadata": {},
   "outputs": [
    {
     "data": {
      "text/plain": [
       "1"
      ]
     },
     "execution_count": 6,
     "metadata": {},
     "output_type": "execute_result"
    }
   ],
   "source": [
    "s=Solution()\n",
    "s.minSubArrayLen(2,[1,2,3,4,5])"
   ]
  },
  {
   "cell_type": "code",
   "execution_count": null,
   "metadata": {},
   "outputs": [],
   "source": []
  }
 ],
 "metadata": {
  "kernelspec": {
   "display_name": "Python 3",
   "language": "python",
   "name": "python3"
  },
  "language_info": {
   "codemirror_mode": {
    "name": "ipython",
    "version": 3
   },
   "file_extension": ".py",
   "mimetype": "text/x-python",
   "name": "python",
   "nbconvert_exporter": "python",
   "pygments_lexer": "ipython3",
   "version": "3.7.3"
  }
 },
 "nbformat": 4,
 "nbformat_minor": 2
}
