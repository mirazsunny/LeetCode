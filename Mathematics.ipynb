{
 "cells": [
  {
   "cell_type": "markdown",
   "metadata": {},
   "source": [
    "# Question\n",
    "[29.Divide Two Integers](https://leetcode.com/problems/divide-two-integers/)\n",
    "\n",
    "## Plan\n",
    "1. Adding the divisor untill it surpasses the divisor, keep track of two thing Result and divisor as a tuple of both previous and present value\n",
    "2. When the divisor surpasses using the previous two result to get the final result\n",
    "3. When remining value is less than divisor it will return the F_Result"
   ]
  },
  {
   "cell_type": "code",
   "execution_count": 14,
   "metadata": {},
   "outputs": [],
   "source": [
    "def divide(dividend,divisor):\n",
    "    k=1 # To Check dividend and divisor is positive or negative\n",
    "    if dividend<0: \n",
    "        dividend=0-dividend\n",
    "        k=0-k\n",
    "    if divisor<0:\n",
    "        divisor=0-divisor\n",
    "        k=0-k\n",
    "    F_Result=0 # It will store the final result\n",
    "    Result=(1,1) # Storing the precvious one after storing the new result\n",
    "    Div=(divisor,divisor) # Tracking the previous one after doubling each divisor\n",
    "    Rem=dividend\n",
    "    while Rem>=divisor:\n",
    "        Result=(Result[1],Result[1]+Result[1]) # Storing the previous and new result by doubling\n",
    "        Div=(Div[1], Div[1]+Div[1]) # Storing the previous div and new div by doubling\n",
    "        print(Result,Div)\n",
    "        if Rem-Div[1]<0: # When divisor surpasss the divdend updating the Remaining, Result, Div\n",
    "            Rem-=Div[0]\n",
    "            F_Result+=Result[0] # Storing the F_Result\n",
    "            Result=(1,1)\n",
    "            Div=(divisor,divisor)\n",
    "    if k<0:\n",
    "        F_Result=0-F_Result # Handle the positive or negative result\n",
    "    if F_Result<-2147483648 or F_Result>2147483647: # It will handle the overflow\n",
    "        return 2147483647\n",
    "    return F_Result"
   ]
  },
  {
   "cell_type": "code",
   "execution_count": 16,
   "metadata": {},
   "outputs": [
    {
     "name": "stdout",
     "output_type": "stream",
     "text": [
      "(1, 2) (1, 2)\n",
      "(2, 4) (2, 4)\n",
      "(4, 8) (4, 8)\n",
      "(8, 16) (8, 16)\n",
      "(16, 32) (16, 32)\n",
      "(32, 64) (32, 64)\n",
      "(64, 128) (64, 128)\n",
      "(128, 256) (128, 256)\n",
      "(256, 512) (256, 512)\n",
      "(512, 1024) (512, 1024)\n",
      "(1024, 2048) (1024, 2048)\n",
      "(2048, 4096) (2048, 4096)\n",
      "(4096, 8192) (4096, 8192)\n",
      "(8192, 16384) (8192, 16384)\n",
      "(16384, 32768) (16384, 32768)\n",
      "(32768, 65536) (32768, 65536)\n",
      "(65536, 131072) (65536, 131072)\n",
      "(131072, 262144) (131072, 262144)\n",
      "(262144, 524288) (262144, 524288)\n",
      "(524288, 1048576) (524288, 1048576)\n",
      "(1048576, 2097152) (1048576, 2097152)\n",
      "(2097152, 4194304) (2097152, 4194304)\n",
      "(4194304, 8388608) (4194304, 8388608)\n",
      "(8388608, 16777216) (8388608, 16777216)\n",
      "(16777216, 33554432) (16777216, 33554432)\n",
      "(33554432, 67108864) (33554432, 67108864)\n",
      "(67108864, 134217728) (67108864, 134217728)\n",
      "(134217728, 268435456) (134217728, 268435456)\n",
      "(268435456, 536870912) (268435456, 536870912)\n",
      "(536870912, 1073741824) (536870912, 1073741824)\n",
      "(1073741824, 2147483648) (1073741824, 2147483648)\n",
      "(2147483648, 4294967296) (2147483648, 4294967296)\n"
     ]
    },
    {
     "data": {
      "text/plain": [
       "-2147483648"
      ]
     },
     "execution_count": 16,
     "metadata": {},
     "output_type": "execute_result"
    }
   ],
   "source": [
    "divide(-2147483648,1)"
   ]
  },
  {
   "cell_type": "markdown",
   "metadata": {},
   "source": [
    "# Question (String Recursion)\n",
    "[39.Count and Say](https://leetcode.com/problems/count-and-say/)\n",
    "\n",
    "## Plan\n",
    "1. Adding a sentinel value '#' at the end of count(S)\n",
    "2. Creating recursion function with the base case of 1 for count(S)\n",
    "3. Storing previous value as S[0], iterating the count(S) from position 1 if current string equal to previous increasing the count 1 else add the previous value and count to Sn"
   ]
  },
  {
   "cell_type": "code",
   "execution_count": 16,
   "metadata": {},
   "outputs": [],
   "source": [
    "def CountSay(n,S='1'):\n",
    "    if n-1==0: # Base case\n",
    "        return S\n",
    "    else:\n",
    "        S+='#' # Adding the sentinel value\n",
    "        prev,count,i,Sn=S[0],1,1,'' # prev to compare with the previous value, count if two value same, i for iteration,\n",
    "                                    # Sn storing the new result\n",
    "        while i<len(S): # start iteration \n",
    "            if S[i]==prev: # if equals\n",
    "                count+=1\n",
    "            else:\n",
    "                Sn=Sn+str(count)+prev # add to result to the Sn\n",
    "                prev,count=S[i],1 # resetting prev and count\n",
    "            i+=1\n",
    "    return CountSay(n-1,Sn) # recursion"
   ]
  },
  {
   "cell_type": "code",
   "execution_count": 18,
   "metadata": {},
   "outputs": [
    {
     "data": {
      "text/plain": [
       "'312211'"
      ]
     },
     "execution_count": 18,
     "metadata": {},
     "output_type": "execute_result"
    }
   ],
   "source": [
    "CountSay(6)"
   ]
  },
  {
   "cell_type": "markdown",
   "metadata": {},
   "source": [
    "# Question (Math & Recursion)\n",
    "[50.Pow(x, n)](https://leetcode.com/problems/powx-n/)\n",
    "\n",
    "## Plan\n",
    "1. if $n=0$ return $1$\n",
    "2. if $n=even$ return $(x^{n/2})^{2}$\n",
    "3. if $n==odd$ return $x*(x^{n/2})^{2}$"
   ]
  },
  {
   "cell_type": "code",
   "execution_count": 1,
   "metadata": {},
   "outputs": [],
   "source": [
    "class solution_power:    \n",
    "    def myPow(self, x: float, n: int) -> float:\n",
    "        return self.power(1/x,-n) if n<0 else self.power(x,n)\n",
    "    def power(self,x,n):\n",
    "        if n==0:\n",
    "            return 1\n",
    "        else:\n",
    "            partial=self.power(x,n//2)\n",
    "            result=partial*partial\n",
    "            if n%2==1:\n",
    "                result*=x\n",
    "            return result"
   ]
  },
  {
   "cell_type": "markdown",
   "metadata": {},
   "source": [
    "# Question \n",
    "[60.Permutation Sequence](https://leetcode.com/problems/permutation-sequence/)\n",
    "\n",
    "## Plan\n",
    "1. $k$ will be divided $k//(n-1)!$ and modulo $k\\%(n-1)%$ (using $(n-1)!$), \n",
    "- if modulo result is not zero then the dividend result index will be the result\n",
    "   - $k$ and $n$ will be updated as $k=k\\%(n-1)%$, $n=n-1$\n",
    "   - previous result will be deleted from the array\n",
    "- if modulo result is zero then the result will be $dividend-1$\n",
    "   - previous result will be deleted from the array \n",
    "   - other values in the array will reversely ordered"
   ]
  },
  {
   "cell_type": "code",
   "execution_count": 100,
   "metadata": {},
   "outputs": [],
   "source": [
    "def getPermutation(n,k):\n",
    "    # calculating the factorial of all the number from (1,n-1) to save the time\n",
    "    r=[1]\n",
    "    for i in range(1,n):\n",
    "        r+=[r[i-1]*i]\n",
    "    j=-1 # to access the factorial list\n",
    "    Result='' # To store the result in string\n",
    "    ArrayOfNumber=[str(i+1) for i in range(n)] #to choose the number from array\n",
    "    while k%r[j]!=0: # looping condition \n",
    "        nmbr=ArrayOfNumber[k//r[j]] #number from the list\n",
    "        Result+=nmbr\n",
    "        ArrayOfNumber.remove(nmbr)\n",
    "        k,j=k%r[j],j-1\n",
    "    nmbr=ArrayOfNumber[k//r[j]-1]\n",
    "    Result+=nmbr \n",
    "    ArrayOfNumber.remove(nmbr)\n",
    "    Result+=''.join(ArrayOfNumber[::-1])\n",
    "    return Result"
   ]
  },
  {
   "cell_type": "code",
   "execution_count": 101,
   "metadata": {},
   "outputs": [
    {
     "name": "stdout",
     "output_type": "stream",
     "text": [
      "1 2\n",
      "1 1\n"
     ]
    },
    {
     "data": {
      "text/plain": [
       "'1234'"
      ]
     },
     "execution_count": 101,
     "metadata": {},
     "output_type": "execute_result"
    }
   ],
   "source": [
    "getPermutation(4,1)"
   ]
  },
  {
   "cell_type": "markdown",
   "metadata": {},
   "source": [
    "# Question \n",
    "[62.Unique Paths](https://leetcode.com/problems/unique-paths/)\n",
    "\n",
    "## Plan\n",
    "- permutation of ${m+n-2}_{C_{n-1}}$"
   ]
  },
  {
   "cell_type": "code",
   "execution_count": null,
   "metadata": {},
   "outputs": [],
   "source": [
    "def uniquePaths(self, m: int, n: int) -> int:\n",
    "    r=[1]\n",
    "    for i in range(1,m+n-1):\n",
    "        r+=[r[i-1]*i]\n",
    "    return r[-1]//(r[m-1]*r[n-1])"
   ]
  },
  {
   "cell_type": "markdown",
   "metadata": {},
   "source": [
    "# Question\n",
    "[69.Sqrt(x)](https://leetcode.com/problems/sqrtx/)\n",
    "\n",
    "## Plan\n",
    "1. "
   ]
  },
  {
   "cell_type": "code",
   "execution_count": null,
   "metadata": {},
   "outputs": [],
   "source": [
    "def mySqrt(x):\n",
    "    "
   ]
  },
  {
   "cell_type": "markdown",
   "metadata": {},
   "source": [
    "# Question\n",
    "[70.Climbing Stairs](https://leetcode.com/problems/climbing-stairs/)\n",
    "\n",
    "## Plan\n",
    "1. The idea is combination of 1's and 2's. \n",
    "2. An example if number is 7 then there will be (7 1's, 0 2's), (5 1's, 1 2's), (3 1's, 2 2's), (1 1, 3 2's). Applying the summation of combination of all those number will yield the result"
   ]
  },
  {
   "cell_type": "code",
   "execution_count": null,
   "metadata": {},
   "outputs": [],
   "source": [
    "        k,tot_k,Result,n=1,1,1,n-1\n",
    "        while n>=k:\n",
    "            step_num,subres=n,1\n",
    "            for i in range(k):\n",
    "                subres*=step_num\n",
    "                step_num-=1\n",
    "            tot_k*=k\n",
    "            Result+=subres//tot_k\n",
    "            n-=1\n",
    "            k+=1\n",
    "        return Result"
   ]
  }
 ],
 "metadata": {
  "kernelspec": {
   "display_name": "Python 3",
   "language": "python",
   "name": "python3"
  },
  "language_info": {
   "codemirror_mode": {
    "name": "ipython",
    "version": 3
   },
   "file_extension": ".py",
   "mimetype": "text/x-python",
   "name": "python",
   "nbconvert_exporter": "python",
   "pygments_lexer": "ipython3",
   "version": "3.7.3"
  }
 },
 "nbformat": 4,
 "nbformat_minor": 2
}
