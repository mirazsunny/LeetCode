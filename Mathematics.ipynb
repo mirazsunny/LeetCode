{
 "cells": [
  {
   "cell_type": "markdown",
   "metadata": {},
   "source": [
    "# Question\n",
    "[29.Divide Two Integers](https://leetcode.com/problems/divide-two-integers/)"
   ]
  },
  {
   "cell_type": "markdown",
   "metadata": {},
   "source": [
    "## Plan\n",
    "1. Adding the divisor "
   ]
  },
  {
   "cell_type": "code",
   "execution_count": 14,
   "metadata": {},
   "outputs": [],
   "source": [
    "def divide(dividend,divisor):\n",
    "    k=1 # To Check dividend and divisor is positive or negative\n",
    "    if dividend<0:\n",
    "        dividend=0-dividend\n",
    "        k=0-k\n",
    "    if divisor<0:\n",
    "        divisor=0-divisor\n",
    "        k=0-k\n",
    "    F_Result=0 # It will store the final result\n",
    "    Result=(1,1) # Storing the precvious one after storing the new result\n",
    "    Div=(divisor,divisor) # Tracking the previous one after doubling each divisor\n",
    "    Rem=dividend\n",
    "    while Rem>=divisor:\n",
    "        Result=(Result[1],Result[1]+Result[1]) # Storing the previous and new result by doubling\n",
    "        Div=(Div[1], Div[1]+Div[1]) # Storing the previous div and new div by doubling\n",
    "        print(Result,Div)\n",
    "        if Rem-Div[1]<0: # When divisor surpasss the divdend updating the Remaining, Result, Div\n",
    "            Rem-=Div[0]\n",
    "            F_Result+=Result[0] # Storing the F_Result\n",
    "            Result=(1,1)\n",
    "            Div=(divisor,divisor)\n",
    "    if k<0:\n",
    "        F_Result=0-F_Result \n",
    "    if F_Result<-2147483648 or F_Result>2147483647:\n",
    "        return 2147483647\n",
    "    return F_Result"
   ]
  },
  {
   "cell_type": "code",
   "execution_count": 16,
   "metadata": {},
   "outputs": [
    {
     "name": "stdout",
     "output_type": "stream",
     "text": [
      "(1, 2) (1, 2)\n",
      "(2, 4) (2, 4)\n",
      "(4, 8) (4, 8)\n",
      "(8, 16) (8, 16)\n",
      "(16, 32) (16, 32)\n",
      "(32, 64) (32, 64)\n",
      "(64, 128) (64, 128)\n",
      "(128, 256) (128, 256)\n",
      "(256, 512) (256, 512)\n",
      "(512, 1024) (512, 1024)\n",
      "(1024, 2048) (1024, 2048)\n",
      "(2048, 4096) (2048, 4096)\n",
      "(4096, 8192) (4096, 8192)\n",
      "(8192, 16384) (8192, 16384)\n",
      "(16384, 32768) (16384, 32768)\n",
      "(32768, 65536) (32768, 65536)\n",
      "(65536, 131072) (65536, 131072)\n",
      "(131072, 262144) (131072, 262144)\n",
      "(262144, 524288) (262144, 524288)\n",
      "(524288, 1048576) (524288, 1048576)\n",
      "(1048576, 2097152) (1048576, 2097152)\n",
      "(2097152, 4194304) (2097152, 4194304)\n",
      "(4194304, 8388608) (4194304, 8388608)\n",
      "(8388608, 16777216) (8388608, 16777216)\n",
      "(16777216, 33554432) (16777216, 33554432)\n",
      "(33554432, 67108864) (33554432, 67108864)\n",
      "(67108864, 134217728) (67108864, 134217728)\n",
      "(134217728, 268435456) (134217728, 268435456)\n",
      "(268435456, 536870912) (268435456, 536870912)\n",
      "(536870912, 1073741824) (536870912, 1073741824)\n",
      "(1073741824, 2147483648) (1073741824, 2147483648)\n",
      "(2147483648, 4294967296) (2147483648, 4294967296)\n"
     ]
    },
    {
     "data": {
      "text/plain": [
       "-2147483648"
      ]
     },
     "execution_count": 16,
     "metadata": {},
     "output_type": "execute_result"
    }
   ],
   "source": [
    "divide(-2147483648,1)"
   ]
  },
  {
   "cell_type": "code",
   "execution_count": null,
   "metadata": {},
   "outputs": [],
   "source": []
  }
 ],
 "metadata": {
  "kernelspec": {
   "display_name": "Python 3",
   "language": "python",
   "name": "python3"
  },
  "language_info": {
   "codemirror_mode": {
    "name": "ipython",
    "version": 3
   },
   "file_extension": ".py",
   "mimetype": "text/x-python",
   "name": "python",
   "nbconvert_exporter": "python",
   "pygments_lexer": "ipython3",
   "version": "3.7.3"
  }
 },
 "nbformat": 4,
 "nbformat_minor": 2
}
